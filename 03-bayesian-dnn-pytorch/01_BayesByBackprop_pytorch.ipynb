{
 "cells": [
  {
   "cell_type": "markdown",
   "metadata": {
    "id": "d5fU0bcRFM7B"
   },
   "source": [
    "# Introduction to Bayesian DL\n",
    "\n",
    "이 세션에서는 배경별 베이지안 딥러닝에 설명된 대로 기본적인 베이지안 딥러닝 모델을 이해하고 구현하는 것을 목표로 한다.\n",
    "![](https://github.com/charlesollion/dlexperiments/raw/master/6-Bayesian-DL/BDLworkflow.png)\n",
    "\n",
    "**What this is about:**\n",
    "\n",
    "- Pytorch로 학습하기\n",
    "- 기본 BBB 빌딩 블록 이해\n"
   ]
  },
  {
   "cell_type": "markdown",
   "metadata": {},
   "source": [
    "## Why BayesByBackprop\n",
    "\n",
    "우리의 목표는 파이토치 같은 기존 프레임워크를 사용하고 신경망을 훈련하는 표준 방식을 고수한다.:\n",
    "\n",
    "- Stochastic Gradient Descent(SGD) 또는 변형된 방식을 사용한다.\n",
    "- 그런 다음 임의의 mini-batch(데이터가 클 수 있음)로 학습한다.\n",
    "- 그라디언트를 직접 계산하지 않고 자동 차별화를 활용하고 싶다.\n",
    "- 병렬 컴퓨팅의 이점을 활용하고 싶습니다."
   ]
  },
  {
   "cell_type": "markdown",
   "metadata": {
    "id": "JjW7a270FM7G"
   },
   "source": [
    "## Installation"
   ]
  },
  {
   "cell_type": "code",
   "execution_count": 1,
   "metadata": {
    "tags": []
   },
   "outputs": [],
   "source": [
    "import torch\n",
    "device = torch.device(\"cuda:0\" if torch.cuda.is_available() else \"cpu\")"
   ]
  },
  {
   "cell_type": "code",
   "execution_count": 2,
   "metadata": {
    "tags": []
   },
   "outputs": [],
   "source": [
    "import torch\n",
    "import pandas as pd\n",
    "import numpy as np\n",
    "from torch.utils.data import TensorDataset, DataLoader\n",
    "from sklearn.model_selection import train_test_split\n",
    "from sklearn import preprocessing"
   ]
  },
  {
   "cell_type": "markdown",
   "metadata": {
    "id": "aJcfG-w_FM7H"
   },
   "source": [
    "## The dataset"
   ]
  },
  {
   "cell_type": "markdown",
   "metadata": {},
   "source": [
    "'Wine Qiuality'을 사용합니다. 4,898개의 예가 포함된 레드 와인 하위 집합을 사용합니다. 이 데이터 집합에는 와인의 11가지 물리화학적 특징이 수치로 표시되어 있으며, 0에서 10 사이의 점수인 와인 품질을 예측하는 것이 과제이다.\n",
    "\n",
    "전문가들은 정수로 점수를 주었지만, 단순하고 신뢰 구간을 쉽게 해석하기 위해 먼저 0에서 10 사이의 연속 값으로 간주하고 이를 회귀 작업으로 처리할 것입니다. 데이터를 보다 연속적으로 만들기 위해 y에 작은 관측 노이즈를 추가한다."
   ]
  },
  {
   "cell_type": "code",
   "execution_count": 3,
   "metadata": {
    "tags": []
   },
   "outputs": [
    {
     "data": {
      "text/html": [
       "<div>\n",
       "<style scoped>\n",
       "    .dataframe tbody tr th:only-of-type {\n",
       "        vertical-align: middle;\n",
       "    }\n",
       "\n",
       "    .dataframe tbody tr th {\n",
       "        vertical-align: top;\n",
       "    }\n",
       "\n",
       "    .dataframe thead th {\n",
       "        text-align: right;\n",
       "    }\n",
       "</style>\n",
       "<table border=\"1\" class=\"dataframe\">\n",
       "  <thead>\n",
       "    <tr style=\"text-align: right;\">\n",
       "      <th></th>\n",
       "      <th>fixed acidity</th>\n",
       "      <th>volatile acidity</th>\n",
       "      <th>citric acid</th>\n",
       "      <th>residual sugar</th>\n",
       "      <th>chlorides</th>\n",
       "      <th>free sulfur dioxide</th>\n",
       "      <th>total sulfur dioxide</th>\n",
       "      <th>density</th>\n",
       "      <th>pH</th>\n",
       "      <th>sulphates</th>\n",
       "      <th>alcohol</th>\n",
       "      <th>rate</th>\n",
       "    </tr>\n",
       "  </thead>\n",
       "  <tbody>\n",
       "    <tr>\n",
       "      <th>0</th>\n",
       "      <td>7.6</td>\n",
       "      <td>0.32</td>\n",
       "      <td>0.34</td>\n",
       "      <td>18.35</td>\n",
       "      <td>0.054</td>\n",
       "      <td>44.0</td>\n",
       "      <td>197.0</td>\n",
       "      <td>1.00080</td>\n",
       "      <td>3.22</td>\n",
       "      <td>0.55</td>\n",
       "      <td>9.0</td>\n",
       "      <td>5.0</td>\n",
       "    </tr>\n",
       "    <tr>\n",
       "      <th>1</th>\n",
       "      <td>6.3</td>\n",
       "      <td>0.27</td>\n",
       "      <td>0.49</td>\n",
       "      <td>1.20</td>\n",
       "      <td>0.063</td>\n",
       "      <td>35.0</td>\n",
       "      <td>92.0</td>\n",
       "      <td>0.99110</td>\n",
       "      <td>3.38</td>\n",
       "      <td>0.42</td>\n",
       "      <td>12.2</td>\n",
       "      <td>6.0</td>\n",
       "    </tr>\n",
       "    <tr>\n",
       "      <th>2</th>\n",
       "      <td>5.3</td>\n",
       "      <td>0.43</td>\n",
       "      <td>0.11</td>\n",
       "      <td>1.10</td>\n",
       "      <td>0.029</td>\n",
       "      <td>6.0</td>\n",
       "      <td>51.0</td>\n",
       "      <td>0.99076</td>\n",
       "      <td>3.51</td>\n",
       "      <td>0.48</td>\n",
       "      <td>11.2</td>\n",
       "      <td>4.0</td>\n",
       "    </tr>\n",
       "    <tr>\n",
       "      <th>3</th>\n",
       "      <td>6.6</td>\n",
       "      <td>0.41</td>\n",
       "      <td>0.27</td>\n",
       "      <td>10.70</td>\n",
       "      <td>0.110</td>\n",
       "      <td>20.0</td>\n",
       "      <td>103.0</td>\n",
       "      <td>0.99672</td>\n",
       "      <td>3.08</td>\n",
       "      <td>0.41</td>\n",
       "      <td>9.0</td>\n",
       "      <td>6.0</td>\n",
       "    </tr>\n",
       "    <tr>\n",
       "      <th>4</th>\n",
       "      <td>5.9</td>\n",
       "      <td>0.34</td>\n",
       "      <td>0.30</td>\n",
       "      <td>3.80</td>\n",
       "      <td>0.035</td>\n",
       "      <td>57.0</td>\n",
       "      <td>135.0</td>\n",
       "      <td>0.99016</td>\n",
       "      <td>3.09</td>\n",
       "      <td>0.34</td>\n",
       "      <td>12.0</td>\n",
       "      <td>6.0</td>\n",
       "    </tr>\n",
       "  </tbody>\n",
       "</table>\n",
       "</div>"
      ],
      "text/plain": [
       "   fixed acidity  volatile acidity  citric acid  residual sugar  chlorides  \\\n",
       "0            7.6              0.32         0.34           18.35      0.054   \n",
       "1            6.3              0.27         0.49            1.20      0.063   \n",
       "2            5.3              0.43         0.11            1.10      0.029   \n",
       "3            6.6              0.41         0.27           10.70      0.110   \n",
       "4            5.9              0.34         0.30            3.80      0.035   \n",
       "\n",
       "   free sulfur dioxide  total sulfur dioxide  density    pH  sulphates  \\\n",
       "0                 44.0                 197.0  1.00080  3.22       0.55   \n",
       "1                 35.0                  92.0  0.99110  3.38       0.42   \n",
       "2                  6.0                  51.0  0.99076  3.51       0.48   \n",
       "3                 20.0                 103.0  0.99672  3.08       0.41   \n",
       "4                 57.0                 135.0  0.99016  3.09       0.34   \n",
       "\n",
       "   alcohol  rate  \n",
       "0      9.0   5.0  \n",
       "1     12.2   6.0  \n",
       "2     11.2   4.0  \n",
       "3      9.0   6.0  \n",
       "4     12.0   6.0  "
      ]
     },
     "execution_count": 3,
     "metadata": {},
     "output_type": "execute_result"
    }
   ],
   "source": [
    "# load data\n",
    "df = pd.read_csv('../dataset/wine_quality.csv')\n",
    "df.head()"
   ]
  },
  {
   "cell_type": "code",
   "execution_count": 4,
   "metadata": {
    "tags": []
   },
   "outputs": [
    {
     "data": {
      "text/plain": [
       "(4898, 12)"
      ]
     },
     "execution_count": 4,
     "metadata": {},
     "output_type": "execute_result"
    }
   ],
   "source": [
    "df.shape"
   ]
  },
  {
   "cell_type": "code",
   "execution_count": 5,
   "metadata": {
    "tags": []
   },
   "outputs": [
    {
     "name": "stdout",
     "output_type": "stream",
     "text": [
      "<class 'pandas.core.frame.DataFrame'>\n",
      "RangeIndex: 4898 entries, 0 to 4897\n",
      "Data columns (total 12 columns):\n",
      " #   Column                Non-Null Count  Dtype  \n",
      "---  ------                --------------  -----  \n",
      " 0   fixed acidity         4898 non-null   float64\n",
      " 1   volatile acidity      4898 non-null   float64\n",
      " 2   citric acid           4898 non-null   float64\n",
      " 3   residual sugar        4898 non-null   float64\n",
      " 4   chlorides             4898 non-null   float64\n",
      " 5   free sulfur dioxide   4898 non-null   float64\n",
      " 6   total sulfur dioxide  4898 non-null   float64\n",
      " 7   density               4898 non-null   float64\n",
      " 8   pH                    4898 non-null   float64\n",
      " 9   sulphates             4898 non-null   float64\n",
      " 10  alcohol               4898 non-null   float64\n",
      " 11  rate                  4898 non-null   float64\n",
      "dtypes: float64(12)\n",
      "memory usage: 459.3 KB\n"
     ]
    }
   ],
   "source": [
    "df.info()"
   ]
  },
  {
   "cell_type": "code",
   "execution_count": 8,
   "metadata": {
    "tags": []
   },
   "outputs": [
    {
     "data": {
      "text/html": [
       "<div>\n",
       "<style scoped>\n",
       "    .dataframe tbody tr th:only-of-type {\n",
       "        vertical-align: middle;\n",
       "    }\n",
       "\n",
       "    .dataframe tbody tr th {\n",
       "        vertical-align: top;\n",
       "    }\n",
       "\n",
       "    .dataframe thead th {\n",
       "        text-align: right;\n",
       "    }\n",
       "</style>\n",
       "<table border=\"1\" class=\"dataframe\">\n",
       "  <thead>\n",
       "    <tr style=\"text-align: right;\">\n",
       "      <th></th>\n",
       "      <th>fixed acidity</th>\n",
       "      <th>volatile acidity</th>\n",
       "      <th>citric acid</th>\n",
       "      <th>residual sugar</th>\n",
       "      <th>chlorides</th>\n",
       "      <th>free sulfur dioxide</th>\n",
       "      <th>total sulfur dioxide</th>\n",
       "      <th>density</th>\n",
       "      <th>pH</th>\n",
       "      <th>sulphates</th>\n",
       "      <th>alcohol</th>\n",
       "      <th>rate</th>\n",
       "    </tr>\n",
       "  </thead>\n",
       "  <tbody>\n",
       "    <tr>\n",
       "      <th>count</th>\n",
       "      <td>4898.000000</td>\n",
       "      <td>4898.000000</td>\n",
       "      <td>4898.000000</td>\n",
       "      <td>4898.000000</td>\n",
       "      <td>4898.000000</td>\n",
       "      <td>4898.000000</td>\n",
       "      <td>4898.000000</td>\n",
       "      <td>4898.000000</td>\n",
       "      <td>4898.000000</td>\n",
       "      <td>4898.000000</td>\n",
       "      <td>4898.000000</td>\n",
       "      <td>4898.000000</td>\n",
       "    </tr>\n",
       "    <tr>\n",
       "      <th>mean</th>\n",
       "      <td>6.854788</td>\n",
       "      <td>0.278241</td>\n",
       "      <td>0.334192</td>\n",
       "      <td>6.391415</td>\n",
       "      <td>0.045772</td>\n",
       "      <td>35.308085</td>\n",
       "      <td>138.360657</td>\n",
       "      <td>0.994027</td>\n",
       "      <td>3.188267</td>\n",
       "      <td>0.489847</td>\n",
       "      <td>10.514267</td>\n",
       "      <td>5.877909</td>\n",
       "    </tr>\n",
       "    <tr>\n",
       "      <th>std</th>\n",
       "      <td>0.843868</td>\n",
       "      <td>0.100795</td>\n",
       "      <td>0.121020</td>\n",
       "      <td>5.072058</td>\n",
       "      <td>0.021848</td>\n",
       "      <td>17.007137</td>\n",
       "      <td>42.498065</td>\n",
       "      <td>0.002991</td>\n",
       "      <td>0.151001</td>\n",
       "      <td>0.114126</td>\n",
       "      <td>1.230621</td>\n",
       "      <td>0.885639</td>\n",
       "    </tr>\n",
       "    <tr>\n",
       "      <th>min</th>\n",
       "      <td>3.800000</td>\n",
       "      <td>0.080000</td>\n",
       "      <td>0.000000</td>\n",
       "      <td>0.600000</td>\n",
       "      <td>0.009000</td>\n",
       "      <td>2.000000</td>\n",
       "      <td>9.000000</td>\n",
       "      <td>0.987110</td>\n",
       "      <td>2.720000</td>\n",
       "      <td>0.220000</td>\n",
       "      <td>8.000000</td>\n",
       "      <td>3.000000</td>\n",
       "    </tr>\n",
       "    <tr>\n",
       "      <th>25%</th>\n",
       "      <td>6.300000</td>\n",
       "      <td>0.210000</td>\n",
       "      <td>0.270000</td>\n",
       "      <td>1.700000</td>\n",
       "      <td>0.036000</td>\n",
       "      <td>23.000000</td>\n",
       "      <td>108.000000</td>\n",
       "      <td>0.991723</td>\n",
       "      <td>3.090000</td>\n",
       "      <td>0.410000</td>\n",
       "      <td>9.500000</td>\n",
       "      <td>5.000000</td>\n",
       "    </tr>\n",
       "    <tr>\n",
       "      <th>50%</th>\n",
       "      <td>6.800000</td>\n",
       "      <td>0.260000</td>\n",
       "      <td>0.320000</td>\n",
       "      <td>5.200000</td>\n",
       "      <td>0.043000</td>\n",
       "      <td>34.000000</td>\n",
       "      <td>134.000000</td>\n",
       "      <td>0.993740</td>\n",
       "      <td>3.180000</td>\n",
       "      <td>0.470000</td>\n",
       "      <td>10.400000</td>\n",
       "      <td>6.000000</td>\n",
       "    </tr>\n",
       "    <tr>\n",
       "      <th>75%</th>\n",
       "      <td>7.300000</td>\n",
       "      <td>0.320000</td>\n",
       "      <td>0.390000</td>\n",
       "      <td>9.900000</td>\n",
       "      <td>0.050000</td>\n",
       "      <td>46.000000</td>\n",
       "      <td>167.000000</td>\n",
       "      <td>0.996100</td>\n",
       "      <td>3.280000</td>\n",
       "      <td>0.550000</td>\n",
       "      <td>11.400000</td>\n",
       "      <td>6.000000</td>\n",
       "    </tr>\n",
       "    <tr>\n",
       "      <th>max</th>\n",
       "      <td>14.200000</td>\n",
       "      <td>1.100000</td>\n",
       "      <td>1.660000</td>\n",
       "      <td>65.800000</td>\n",
       "      <td>0.346000</td>\n",
       "      <td>289.000000</td>\n",
       "      <td>440.000000</td>\n",
       "      <td>1.038980</td>\n",
       "      <td>3.820000</td>\n",
       "      <td>1.080000</td>\n",
       "      <td>14.200000</td>\n",
       "      <td>9.000000</td>\n",
       "    </tr>\n",
       "  </tbody>\n",
       "</table>\n",
       "</div>"
      ],
      "text/plain": [
       "       fixed acidity  volatile acidity  citric acid  residual sugar  \\\n",
       "count    4898.000000       4898.000000  4898.000000     4898.000000   \n",
       "mean        6.854788          0.278241     0.334192        6.391415   \n",
       "std         0.843868          0.100795     0.121020        5.072058   \n",
       "min         3.800000          0.080000     0.000000        0.600000   \n",
       "25%         6.300000          0.210000     0.270000        1.700000   \n",
       "50%         6.800000          0.260000     0.320000        5.200000   \n",
       "75%         7.300000          0.320000     0.390000        9.900000   \n",
       "max        14.200000          1.100000     1.660000       65.800000   \n",
       "\n",
       "         chlorides  free sulfur dioxide  total sulfur dioxide      density  \\\n",
       "count  4898.000000          4898.000000           4898.000000  4898.000000   \n",
       "mean      0.045772            35.308085            138.360657     0.994027   \n",
       "std       0.021848            17.007137             42.498065     0.002991   \n",
       "min       0.009000             2.000000              9.000000     0.987110   \n",
       "25%       0.036000            23.000000            108.000000     0.991723   \n",
       "50%       0.043000            34.000000            134.000000     0.993740   \n",
       "75%       0.050000            46.000000            167.000000     0.996100   \n",
       "max       0.346000           289.000000            440.000000     1.038980   \n",
       "\n",
       "                pH    sulphates      alcohol         rate  \n",
       "count  4898.000000  4898.000000  4898.000000  4898.000000  \n",
       "mean      3.188267     0.489847    10.514267     5.877909  \n",
       "std       0.151001     0.114126     1.230621     0.885639  \n",
       "min       2.720000     0.220000     8.000000     3.000000  \n",
       "25%       3.090000     0.410000     9.500000     5.000000  \n",
       "50%       3.180000     0.470000    10.400000     6.000000  \n",
       "75%       3.280000     0.550000    11.400000     6.000000  \n",
       "max       3.820000     1.080000    14.200000     9.000000  "
      ]
     },
     "execution_count": 8,
     "metadata": {},
     "output_type": "execute_result"
    }
   ],
   "source": [
    "df.describe()"
   ]
  },
  {
   "cell_type": "markdown",
   "metadata": {},
   "source": [
    "## Feature Engineering"
   ]
  },
  {
   "cell_type": "code",
   "execution_count": 10,
   "metadata": {
    "tags": []
   },
   "outputs": [],
   "source": [
    "X = df.drop('rate', axis=1)\n",
    "y = df['rate']"
   ]
  },
  {
   "cell_type": "code",
   "execution_count": 11,
   "metadata": {
    "tags": []
   },
   "outputs": [
    {
     "data": {
      "text/plain": [
       "((4163, 11), (735, 11), (4163,), (735,))"
      ]
     },
     "execution_count": 11,
     "metadata": {},
     "output_type": "execute_result"
    }
   ],
   "source": [
    "X_train, X_test, y_train, y_test = train_test_split(\n",
    "    X, y, \n",
    "    test_size=0.15, \n",
    "    random_state=42\n",
    ")\n",
    "X_train.shape, X_test.shape, y_train.shape, y_test.shape"
   ]
  },
  {
   "cell_type": "code",
   "execution_count": 12,
   "metadata": {
    "tags": []
   },
   "outputs": [],
   "source": [
    "# add a bit of noise to y_train\n",
    "y_train = y_train + np.random.normal(0,0.2, size=y_train.shape)"
   ]
  },
  {
   "cell_type": "code",
   "execution_count": 13,
   "metadata": {
    "tags": []
   },
   "outputs": [],
   "source": [
    "# mean = 0 ; standard deviation = 1.0\n",
    "scaler = preprocessing.StandardScaler()\n",
    "\n",
    "X_train = scaler.fit_transform(X_train)\n",
    "X_test = scaler.transform(X_test)"
   ]
  },
  {
   "cell_type": "code",
   "execution_count": 14,
   "metadata": {
    "tags": []
   },
   "outputs": [],
   "source": [
    "# transform to torch tensor\n",
    "tensor_X_train = torch.from_numpy(X_train).float().to(device) \n",
    "tensor_y_train = torch.from_numpy(y_train.values).float().to(device) \n",
    "tensor_X_test = torch.from_numpy(X_test).float().to(device) \n",
    "tensor_y_test = torch.from_numpy(y_test.values).float().to(device) "
   ]
  },
  {
   "cell_type": "code",
   "execution_count": 15,
   "metadata": {
    "tags": []
   },
   "outputs": [],
   "source": [
    "batch_size = 256"
   ]
  },
  {
   "cell_type": "code",
   "execution_count": 16,
   "metadata": {
    "tags": []
   },
   "outputs": [],
   "source": [
    "# build dataset and dataloader torch objects\n",
    "dataset_train = TensorDataset(\n",
    "    tensor_X_train, tensor_y_train\n",
    ")\n",
    "dataset_test = TensorDataset(\n",
    "    tensor_X_test, tensor_y_test\n",
    ")\n",
    "dataloader_train = DataLoader(\n",
    "    dataset_train, \n",
    "    batch_size=batch_size, \n",
    "    shuffle=True\n",
    ")\n",
    "dataloader_test = DataLoader(\n",
    "    dataset_test, \n",
    "    batch_size=batch_size\n",
    ")"
   ]
  },
  {
   "cell_type": "code",
   "execution_count": 17,
   "metadata": {
    "tags": []
   },
   "outputs": [
    {
     "data": {
      "image/png": "[encoded data removed]",
      "text/plain": [
       "<Figure size 640x480 with 1 Axes>"
      ]
     },
     "metadata": {},
     "output_type": "display_data"
    }
   ],
   "source": [
    "import matplotlib.pyplot as plt\n",
    "plt.hist(y_train, bins=100);"
   ]
  },
  {
   "cell_type": "markdown",
   "metadata": {
    "id": "VUEGoFbJFM7P"
   },
   "source": [
    "## Baseline: Vanila Neural Network\n",
    "\n",
    "We create a standard deterministic neural network model as a baseline.\n",
    "\n",
    "<img src=\"https://raw.githubusercontent.com/charlesollion/dlexperiments/master/6-Bayesian-DL/stochasticNN.png\" width=\"400\" height=\"200\">"
   ]
  },
  {
   "cell_type": "code",
   "execution_count": 18,
   "metadata": {
    "id": "Qyqun6Ch2IaQ",
    "tags": []
   },
   "outputs": [],
   "source": [
    "import torch.nn as nn\n",
    "\n",
    "class BaselineModel(nn.Module):\n",
    "    def __init__(self, input_dim, hidden_dim):\n",
    "        super(BaselineModel, self).__init__()\n",
    "        self.hidden_layer = nn.Linear(input_dim, hidden_dim)\n",
    "        self.out_layer = nn.Linear(hidden_dim, 1)\n",
    "        self.act = torch.relu\n",
    "        \n",
    "    def forward(self, inputs):\n",
    "        h = self.hidden_layer(inputs)\n",
    "        h = self.act(h)\n",
    "        output = self.out_layer(h)\n",
    "        \n",
    "        # return에 실험을 위한 자리 표시자인 더미 출력을 추가\n",
    "        return output, None"
   ]
  },
  {
   "cell_type": "code",
   "execution_count": 19,
   "metadata": {
    "id": "Y-yBAJje3LEd",
    "tags": []
   },
   "outputs": [],
   "source": [
    "import torch.optim as optim\n",
    "from tqdm import tqdm\n",
    "\n",
    "def train_model(model, loss, num_epochs):\n",
    "    optimizer = optim.RMSprop(model.parameters(), lr=0.003)\n",
    "    losses = []\n",
    "    model.train()\n",
    "    for e in tqdm(range(num_epochs)):\n",
    "        for x, y in dataloader_train:\n",
    "            optimizer.zero_grad()\n",
    "            loss_value = loss(model(x), y)\n",
    "            loss_value.backward()\n",
    "            losses.append(loss_value.detach().cpu().item())\n",
    "            optimizer.step()\n",
    "    return losses\n",
    "\n",
    "\n",
    "def eval_model(model):\n",
    "    model.eval()\n",
    "    errors = []\n",
    "    for x,y in dataloader_test:\n",
    "        y_hat, _ = model(x)\n",
    "        errors.append(((torch.squeeze(y_hat) - torch.squeeze(y))**2).detach().cpu().numpy())\n",
    "  \n",
    "    rmse = np.sqrt(np.mean(np.concatenate(errors, axis=None)))\n",
    "    return round(rmse, 3)"
   ]
  },
  {
   "cell_type": "code",
   "execution_count": 20,
   "metadata": {
    "id": "smdJBd6q287-",
    "tags": []
   },
   "outputs": [
    {
     "data": {
      "text/plain": [
       "BaselineModel(\n",
       "  (hidden_layer): Linear(in_features=11, out_features=32, bias=True)\n",
       "  (out_layer): Linear(in_features=32, out_features=1, bias=True)\n",
       ")"
      ]
     },
     "execution_count": 20,
     "metadata": {},
     "output_type": "execute_result"
    }
   ],
   "source": [
    "baseline_model = BaselineModel(11, 32).to(device)\n",
    "baseline_model"
   ]
  },
  {
   "cell_type": "code",
   "execution_count": 21,
   "metadata": {
    "tags": []
   },
   "outputs": [
    {
     "data": {
      "text/plain": [
       "[352, 32, 32, 1]"
      ]
     },
     "execution_count": 21,
     "metadata": {},
     "output_type": "execute_result"
    }
   ],
   "source": [
    "[p.numel() for p in baseline_model.parameters()]\n",
    "# hidden layer W, hidden layer b, output layer W, output layer b"
   ]
  },
  {
   "cell_type": "markdown",
   "metadata": {},
   "source": [
    "### Baseline evaluations"
   ]
  },
  {
   "cell_type": "code",
   "execution_count": 22,
   "metadata": {
    "tags": []
   },
   "outputs": [
    {
     "name": "stdout",
     "output_type": "stream",
     "text": [
      "untrained RMSE: 5.980\n"
     ]
    }
   ],
   "source": [
    "rmse = eval_model(baseline_model)\n",
    "print(f\"untrained RMSE: {rmse:.3f}\")"
   ]
  },
  {
   "cell_type": "code",
   "execution_count": 23,
   "metadata": {
    "tags": []
   },
   "outputs": [
    {
     "name": "stdout",
     "output_type": "stream",
     "text": [
      "constant model RMSE: 0.916\n"
     ]
    }
   ],
   "source": [
    "class Constant():\n",
    "    def eval(self):\n",
    "        pass\n",
    "    \n",
    "    def __call__(self, x):\n",
    "        # Always return 5.81...\n",
    "        return torch.ones((x.shape[0], 1)).to(device) * np.mean(y_train), None\n",
    "\n",
    "rmse = eval_model(Constant())\n",
    "print(f\"constant model RMSE: {round(rmse, 3):.3f}\")"
   ]
  },
  {
   "cell_type": "markdown",
   "metadata": {},
   "source": [
    "### Training model"
   ]
  },
  {
   "cell_type": "code",
   "execution_count": 24,
   "metadata": {
    "id": "smdJBd6q287-",
    "tags": []
   },
   "outputs": [
    {
     "name": "stderr",
     "output_type": "stream",
     "text": [
      "100%|██████████| 50/50 [00:03<00:00, 15.76it/s]\n"
     ]
    },
    {
     "data": {
      "image/png": "[encoded data removed]",
      "text/plain": [
       "<Figure size 640x480 with 1 Axes>"
      ]
     },
     "metadata": {},
     "output_type": "display_data"
    }
   ],
   "source": [
    "def simple_mse_loss(model_outputs, y_true):\n",
    "    y_hat, _ = model_outputs\n",
    "    y_hat = torch.squeeze(y_hat)\n",
    "    y_true = torch.squeeze(y_true)\n",
    "    return torch.nn.MSELoss()(y_hat, y_true) \n",
    "\n",
    "losses = train_model(\n",
    "    baseline_model, \n",
    "    simple_mse_loss, \n",
    "    50\n",
    ")\n",
    "\n",
    "plt.plot(losses);"
   ]
  },
  {
   "cell_type": "code",
   "execution_count": 25,
   "metadata": {
    "tags": []
   },
   "outputs": [
    {
     "name": "stdout",
     "output_type": "stream",
     "text": [
      "untrained RMSE: 0.790\n"
     ]
    }
   ],
   "source": [
    "rmse = eval_model(baseline_model)\n",
    "print(f\"untrained RMSE: {rmse:.3f}\")"
   ]
  },
  {
   "cell_type": "code",
   "execution_count": 26,
   "metadata": {
    "tags": []
   },
   "outputs": [
    {
     "name": "stdout",
     "output_type": "stream",
     "text": [
      "Predicted: 5.8 - Actual: 6.0\n",
      "Predicted: 5.3 - Actual: 6.0\n",
      "Predicted: 5.1 - Actual: 4.0\n",
      "Predicted: 5.4 - Actual: 5.0\n",
      "Predicted: 6.8 - Actual: 7.0\n",
      "Predicted: 5.9 - Actual: 6.0\n",
      "Predicted: 5.6 - Actual: 7.0\n",
      "Predicted: 5.5 - Actual: 5.0\n",
      "Predicted: 6.0 - Actual: 7.0\n",
      "Predicted: 5.6 - Actual: 6.0\n"
     ]
    }
   ],
   "source": [
    "samples = 10\n",
    "\n",
    "# first ten examples\n",
    "examples_torch, y_test = next(iter(dataloader_test))  # 라벨 포함 데이터 가져오기\n",
    "predicted, _ = baseline_model(examples_torch[:samples])  # 모델 예측\n",
    "predicted = predicted.detach().cpu().numpy()  # NumPy로 변환\n",
    "\n",
    "for idx in range(samples):\n",
    "    # 실제값과 예측값 출력\n",
    "    print(f\"Predicted: {round(float(predicted[idx][0]), 1)} - Actual: {y_test[idx].item()}\")"
   ]
  },
  {
   "cell_type": "markdown",
   "metadata": {
    "id": "xWS8r4qKmf5z"
   },
   "source": [
    "## Simple Bayesian Neural Network\n",
    "\n",
    "우리의 목표는 Pytorch를 사용하여 단일 계층 베이지안 신경망을 구축하는 것이다.\n",
    "\n",
    "<img src=\"https://raw.githubusercontent.com/charlesollion/dlexperiments/master/6-Bayesian-DL/stochasticNN.png\" width=\"400\" height=\"200\">\n",
    "\n",
    "단위 가우스 선행과 대각선 공분산 다변량 가우스 사후확률을 정의한다.\n",
    "\n",
    "다음과 같은 알고리즘이 있다면:\n",
    "\n",
    "1. Sample $\\epsilon ∼ N(0, I)$.\n",
    "2. Let $w = µ + log(1 + exp(ρ)) ◦ \\epsilon$.\n",
    "3. Let $θ = (µ, ρ)$.\n",
    "4. Let $f(w, θ) = log q(w|θ) − log P(w)P(D|w)$.\n",
    "5. Compute gradients with respect to everything\n",
    "\n",
    "\n",
    "기울기의 ∂𝑓(𝑤,θ)∂𝑤 항은 신경망에서 일반적인 역전파 알고리즘으로 구한 기울기와 정확히 일치합니다. 따라서 놀랍게도 평균과 표준 편차를 모두 학습하려면 역전파를 통해 찾은 일반적인 기울기를 간단히 계산한다.\n",
    "\n",
    "𝑀 미니 배치 𝐷𝑖의 데이터로 작업할 때 저자는 다음과 같은 (동등한) 비용 함수를 제안하여 차별화할 수 있다.\n",
    "\n",
    "$$f(w, θ, D_i) = − log P(D_i|w) + \\frac{1}{M} KL[q(w|θ) || P(w)] $$\n",
    "\n",
    "\n",
    "이는 비용 함수가 이전과 같이 표준 mse 손실에 해당하는 두 개의 항과 정규화 항, 즉 후방 q와 이전 사이의 KL divergence로 분리되어 있으므로 편리합니다. 다른 방식으로 선택할 수 있는 가중치( 1𝑀 )가 있다는 점에 유의."
   ]
  },
  {
   "cell_type": "markdown",
   "metadata": {
    "id": "GDaE3yXxD27U"
   },
   "source": [
    "### Simple Bayesian By Backprop Layer\n",
    "\n",
    "다음에서는 확률적 가중치로 구성된 선형 레이어를 구현하는 것으로 시작합니다. 출력 레이어는 이전과 동일하게 유지된다."
   ]
  },
  {
   "cell_type": "code",
   "execution_count": 27,
   "metadata": {
    "id": "TY8J6QW8vHCG",
    "tags": []
   },
   "outputs": [],
   "source": [
    "class BnnTorch(nn.Module):\n",
    "    def __init__(self, input_dim, hidden_dim, activation=None):\n",
    "        super(BnnTorch, self).__init__()\n",
    "        n = input_dim * hidden_dim\n",
    "        self.mu = nn.Parameter(torch.zeros((n), dtype=torch.float32))\n",
    "        self.rho  = nn.Parameter(torch.log(torch.expm1(torch.ones((n), dtype=torch.float32))))\n",
    "        self.out_layer = nn.Linear(hidden_dim, 1)\n",
    "        self.act = activation\n",
    "        self.hidden_dim = hidden_dim\n",
    "        self.prior = torch.distributions.Normal(loc=torch.zeros((n), device=device, dtype=torch.float32),\n",
    "                                                scale=torch.ones((n), device=device, dtype=torch.float32))\n",
    "        self.posterior = torch.distributions.Normal(loc=self.mu, \n",
    "                                                    scale=torch.log(1.+torch.exp(self.rho)))\n",
    "        self.kl_func = torch.distributions.kl.kl_divergence\n",
    "        self.batch_norm = torch.nn.BatchNorm1d(input_dim)\n",
    "\n",
    "        \n",
    "    def forward(self, inputs):\n",
    "        inputs = self.batch_norm(inputs)\n",
    "        q = torch.distributions.Normal(loc=self.mu, \n",
    "                                       scale=torch.log(1.+torch.exp(self.rho)))\n",
    "        \n",
    "        kl = torch.sum(self.kl_func(q, self.prior))\n",
    "        # we use q.rsample() which uses the reparametrization trick instead of \n",
    "        # q.sample() which breaks the auto-differentation path\n",
    "        w = q.rsample() \n",
    "        w = w.reshape((-1, self.hidden_dim))\n",
    "        h = inputs @ w\n",
    "        if self.act is not None:\n",
    "            h = self.act(h)\n",
    "        output = self.out_layer(h)\n",
    "        return output, kl"
   ]
  },
  {
   "cell_type": "code",
   "execution_count": 28,
   "metadata": {
    "id": "m9CErey5vW84",
    "tags": []
   },
   "outputs": [
    {
     "data": {
      "text/plain": [
       "[352, 352, 32, 1, 11, 11]"
      ]
     },
     "execution_count": 28,
     "metadata": {},
     "output_type": "execute_result"
    }
   ],
   "source": [
    "bnn_torch = BnnTorch(11, 32, torch.nn.functional.relu).to(device)\n",
    "[p.numel() for p in bnn_torch.parameters()]\n",
    "#mu, rho, W_output, b_output, batch_norm mu, batch_norm sigma"
   ]
  },
  {
   "cell_type": "code",
   "execution_count": 29,
   "metadata": {
    "id": "m9CErey5vW84",
    "tags": []
   },
   "outputs": [
    {
     "name": "stderr",
     "output_type": "stream",
     "text": [
      "100%|██████████| 200/200 [00:16<00:00, 12.01it/s]\n"
     ]
    },
    {
     "data": {
      "image/png": "[encoded data removed]",
      "text/plain": [
       "<Figure size 640x480 with 1 Axes>"
      ]
     },
     "metadata": {},
     "output_type": "display_data"
    }
   ],
   "source": [
    "kl_weight = 1. / batch_size\n",
    "\n",
    "def mse_kl_loss(model_outputs, y_true):\n",
    "    y_hat, kl = model_outputs\n",
    "    y_hat = torch.squeeze(y_hat)\n",
    "    y_true = torch.squeeze(y_true)\n",
    "    mse = torch.nn.MSELoss()(y_hat, y_true)\n",
    "    return mse + kl * kl_weight\n",
    "\n",
    "losses = train_model(bnn_torch, mse_kl_loss, 200)\n",
    "plt.plot(losses);"
   ]
  },
  {
   "cell_type": "code",
   "execution_count": 31,
   "metadata": {
    "tags": []
   },
   "outputs": [],
   "source": [
    "def compute_predictions(model, dataset, iterations=20):\n",
    "    model.eval()\n",
    "    single_item_dataloader_test = DataLoader(dataset, batch_size=1)\n",
    "    \n",
    "    # Extract target labels from dataset and ensure they are on CPU\n",
    "    y_test = np.array([label.cpu().item() for _, label in dataset])  # Ensure labels are on CPU\n",
    "    predicted = np.zeros((len(y_test), iterations))  # Initialize predictions array\n",
    "\n",
    "    for j, (x, y) in tqdm(enumerate(single_item_dataloader_test), total=len(y_test)):\n",
    "        for i in range(iterations):\n",
    "            # Move input to the same device as the model\n",
    "            x = x.to(next(model.parameters()).device)  # Ensure x is on the correct device\n",
    "            y_hat, _ = model(x)\n",
    "            # Ensure y_hat is moved to CPU and converted to NumPy\n",
    "            y_hat = y_hat.detach().cpu().numpy().squeeze()  # Remove unnecessary dimensions\n",
    "            predicted[j, i] = y_hat  # Store the prediction\n",
    "\n",
    "    return predicted, y_test"
   ]
  },
  {
   "cell_type": "code",
   "execution_count": 31,
   "metadata": {
    "tags": []
   },
   "outputs": [],
   "source": [
    "def display_predictions(predictions, targets, samples=10):\n",
    "    prediction_mean = np.mean(predictions, axis=1).tolist()\n",
    "    prediction_min = np.min(predictions, axis=1).tolist()\n",
    "    prediction_max = np.max(predictions, axis=1).tolist()\n",
    "    prediction_range = (np.max(predictions, axis=1) - np.min(predictions, axis=1)).tolist()\n",
    "\n",
    "    for idx in range(samples):\n",
    "        print(\n",
    "            f\"Predictions mean: {round(prediction_mean[idx], 2)}, \"\n",
    "            f\"min: {round(prediction_min[idx], 2)}, \"\n",
    "            f\"max: {round(prediction_max[idx], 2)}, \"\n",
    "            f\"range: {round(prediction_range[idx], 2)} - \"\n",
    "            f\"Actual: {targets[idx]}\"\n",
    "        )"
   ]
  },
  {
   "cell_type": "code",
   "execution_count": 31,
   "metadata": {
    "tags": []
   },
   "outputs": [
    {
     "name": "stderr",
     "output_type": "stream",
     "text": [
      "100%|██████████| 735/735 [00:09<00:00, 80.01it/s]"
     ]
    },
    {
     "name": "stdout",
     "output_type": "stream",
     "text": [
      "Predictions mean: 6.05, min: 5.38, max: 6.75, range: 1.38 - Actual: 6.0\n",
      "Predictions mean: 5.21, min: 4.51, max: 5.95, range: 1.44 - Actual: 6.0\n",
      "Predictions mean: 4.84, min: 3.9, max: 5.62, range: 1.72 - Actual: 4.0\n",
      "Predictions mean: 5.6, min: 5.21, max: 6.04, range: 0.83 - Actual: 5.0\n",
      "Predictions mean: 6.33, min: 5.55, max: 6.97, range: 1.42 - Actual: 7.0\n",
      "Predictions mean: 5.78, min: 4.97, max: 6.41, range: 1.43 - Actual: 6.0\n",
      "Predictions mean: 5.77, min: 5.01, max: 6.4, range: 1.39 - Actual: 7.0\n",
      "Predictions mean: 5.02, min: 4.49, max: 5.61, range: 1.12 - Actual: 5.0\n",
      "Predictions mean: 6.35, min: 5.64, max: 7.5, range: 1.86 - Actual: 7.0\n",
      "Predictions mean: 5.63, min: 5.04, max: 6.2, range: 1.15 - Actual: 6.0\n"
     ]
    },
    {
     "name": "stderr",
     "output_type": "stream",
     "text": [
      "\n"
     ]
    }
   ],
   "source": [
    "# Example usage\n",
    "predictions, y_test = compute_predictions(bnn_torch, dataset_test)\n",
    "display_predictions(predictions, y_test)"
   ]
  },
  {
   "cell_type": "code",
   "execution_count": 32,
   "metadata": {
    "tags": []
   },
   "outputs": [
    {
     "name": "stdout",
     "output_type": "stream",
     "text": [
      "mean prediction RMSE: 0.817\n"
     ]
    }
   ],
   "source": [
    "errors = []\n",
    "mean_prediction = np.mean(predictions,axis=-1)\n",
    "for y_hat, y in zip(mean_prediction, y_test):\n",
    "    errors.append((y_hat - y)**2)\n",
    "\n",
    "rmse = np.sqrt(np.mean(np.concatenate(errors, axis=None)))\n",
    "print(f\"mean prediction RMSE: {round(rmse, 3):.3f}\")"
   ]
  },
  {
   "cell_type": "code",
   "execution_count": 33,
   "metadata": {
    "scrolled": true,
    "tags": []
   },
   "outputs": [
    {
     "data": {
      "image/png": "[encoded data removed]",
      "text/plain": [
       "<Figure size 640x480 with 1 Axes>"
      ]
     },
     "metadata": {},
     "output_type": "display_data"
    }
   ],
   "source": [
    "idx=np.random.choice(range(predictions.shape[0]), size=10, replace=False)\n",
    "plt.boxplot(predictions[idx].T)\n",
    "plt.plot(range(1,11), y_test[idx], 'r.', alpha=0.8);"
   ]
  },
  {
   "cell_type": "markdown",
   "metadata": {},
   "source": [
    "## Full Bayesian Network\n",
    "\n",
    "전체 베이시안 신경망을 구현하겠습니다. 이는 확률적 편향과 출력 가중치를 추가하는 것에 해당한다.\n",
    "\n",
    "각 가중치/편향에 대한 후방은 여전히 독립적인 가우시안이다."
   ]
  },
  {
   "cell_type": "code",
   "execution_count": 34,
   "metadata": {
    "tags": []
   },
   "outputs": [],
   "source": [
    "class FullBnnTorch(nn.Module):\n",
    "    def __init__(self, input_dim, hidden_dim, activation=None):\n",
    "        super(FullBnnTorch, self).__init__()\n",
    "        # All parameters W, b + W_output + b_output\n",
    "        n = input_dim * hidden_dim + hidden_dim + hidden_dim + 1\n",
    "        self.mu = nn.Parameter(torch.zeros((n), dtype=torch.float32))\n",
    "        self.rho  = nn.Parameter(torch.log(torch.expm1(torch.ones((n), dtype=torch.float32))))\n",
    "        \n",
    "        self.act = activation\n",
    "        self.hidden_dim = hidden_dim\n",
    "        self.input_dim = input_dim\n",
    "        self.prior = torch.distributions.Normal(loc=torch.zeros((n), device=device, dtype=torch.float32),\n",
    "                                                scale=torch.ones((n), device=device, dtype=torch.float32))\n",
    "        #self.posterior = torch.distributions.Normal(loc=self.mu, \n",
    "        #                                            scale=torch.log(1.+torch.exp(self.rho)))\n",
    "        self.kl_func = torch.distributions.kl.kl_divergence\n",
    "        self.batch_norm = torch.nn.BatchNorm1d(input_dim)\n",
    "\n",
    "        \n",
    "    def forward(self, inputs):\n",
    "        inputs = self.batch_norm(inputs)\n",
    "        q = torch.distributions.Normal(loc=self.mu, \n",
    "                                       scale=torch.log(1.+torch.exp(self.rho)))\n",
    "        \n",
    "        kl = torch.sum(self.kl_func(q, self.prior))\n",
    "        # we use q.rsample() which uses the reparametrization trick instead of \n",
    "        # q.sample() which breaks the auto-differentation path\n",
    "        all_w = q.rsample() \n",
    "        \n",
    "        # split all_w into the different weight and biases matrices\n",
    "        W_hidden = all_w[0:self.input_dim * self.hidden_dim].reshape((self.input_dim, self.hidden_dim))\n",
    "        cur = self.input_dim * self.hidden_dim\n",
    "        b_hidden = all_w[cur:cur + self.hidden_dim]\n",
    "        cur = cur + self.hidden_dim\n",
    "        W_output = all_w[cur:cur + self.hidden_dim].reshape((self.hidden_dim, 1))\n",
    "        b_output = all_w[-2:-1]\n",
    "        h = inputs @ W_hidden + b_hidden\n",
    "        if self.act is not None:\n",
    "            h = self.act(h)\n",
    "        output = h @ W_output + b_output\n",
    "        return output, kl"
   ]
  },
  {
   "cell_type": "code",
   "execution_count": 35,
   "metadata": {
    "id": "m9CErey5vW84",
    "tags": []
   },
   "outputs": [
    {
     "data": {
      "text/plain": [
       "[417, 417, 11, 11]"
      ]
     },
     "execution_count": 35,
     "metadata": {},
     "output_type": "execute_result"
    }
   ],
   "source": [
    "full_bnn_torch = FullBnnTorch(11, 32, torch.nn.functional.relu).to(device)\n",
    "[p.numel() for p in full_bnn_torch.parameters()]\n",
    "# 417 = 11*32 + 32 + 32*1 + 1"
   ]
  },
  {
   "cell_type": "code",
   "execution_count": 36,
   "metadata": {
    "id": "m9CErey5vW84",
    "tags": []
   },
   "outputs": [
    {
     "name": "stderr",
     "output_type": "stream",
     "text": [
      "100%|██████████| 400/400 [00:35<00:00, 11.22it/s]\n"
     ]
    },
    {
     "data": {
      "image/png": "[encoded data removed]",
      "text/plain": [
       "<Figure size 640x480 with 1 Axes>"
      ]
     },
     "metadata": {},
     "output_type": "display_data"
    }
   ],
   "source": [
    "kl_weight = 1. / batch_size\n",
    "\n",
    "def mse_kl_loss(model_outputs, y_true):\n",
    "    y_hat, kl = model_outputs\n",
    "    y_hat = torch.squeeze(y_hat)\n",
    "    y_true = torch.squeeze(y_true)\n",
    "    mse = torch.nn.MSELoss()(y_hat, y_true)\n",
    "    return mse + kl * kl_weight\n",
    "\n",
    "losses = train_model(full_bnn_torch, mse_kl_loss, 400)\n",
    "plt.plot(losses);"
   ]
  },
  {
   "cell_type": "code",
   "execution_count": 38,
   "metadata": {
    "tags": []
   },
   "outputs": [
    {
     "name": "stderr",
     "output_type": "stream",
     "text": [
      "100%|██████████| 735/735 [00:09<00:00, 78.04it/s]"
     ]
    },
    {
     "name": "stdout",
     "output_type": "stream",
     "text": [
      "Predictions mean: 5.82, min: 4.6, max: 7.54, range: 2.94 - Actual: 6.0\n",
      "Predictions mean: 5.65, min: 4.43, max: 7.19, range: 2.76 - Actual: 6.0\n",
      "Predictions mean: 5.32, min: 4.09, max: 7.18, range: 3.09 - Actual: 4.0\n",
      "Predictions mean: 5.55, min: 4.51, max: 6.69, range: 2.18 - Actual: 5.0\n",
      "Predictions mean: 6.38, min: 4.63, max: 8.2, range: 3.57 - Actual: 7.0\n",
      "Predictions mean: 6.02, min: 4.81, max: 8.8, range: 3.99 - Actual: 6.0\n",
      "Predictions mean: 5.71, min: 4.56, max: 6.82, range: 2.26 - Actual: 7.0\n",
      "Predictions mean: 5.2, min: 4.39, max: 5.96, range: 1.57 - Actual: 5.0\n",
      "Predictions mean: 6.84, min: 5.59, max: 8.63, range: 3.05 - Actual: 7.0\n",
      "Predictions mean: 5.94, min: 4.53, max: 7.16, range: 2.63 - Actual: 6.0\n"
     ]
    },
    {
     "name": "stderr",
     "output_type": "stream",
     "text": [
      "\n"
     ]
    }
   ],
   "source": [
    "# Example usage\n",
    "predictions, y_test = compute_predictions(full_bnn_torch, dataset_test)\n",
    "display_predictions(predictions, y_test)"
   ]
  },
  {
   "cell_type": "code",
   "execution_count": 39,
   "metadata": {
    "tags": []
   },
   "outputs": [
    {
     "name": "stdout",
     "output_type": "stream",
     "text": [
      "mean prediction RMSE: 0.810\n"
     ]
    }
   ],
   "source": [
    "errors = []\n",
    "mean_prediction = np.mean(predictions,axis=-1)\n",
    "for y_hat, y in zip(mean_prediction, y_test):\n",
    "    errors.append((y_hat - y)**2)\n",
    "\n",
    "rmse = np.sqrt(np.mean(np.concatenate(errors, axis=None)))\n",
    "print(f\"mean prediction RMSE: {round(rmse, 3):.3f}\")"
   ]
  },
  {
   "cell_type": "code",
   "execution_count": 40,
   "metadata": {
    "tags": []
   },
   "outputs": [
    {
     "data": {
      "image/png": "[encoded data removed]",
      "text/plain": [
       "<Figure size 640x480 with 1 Axes>"
      ]
     },
     "metadata": {},
     "output_type": "display_data"
    }
   ],
   "source": [
    "idx=np.random.choice(range(predictions.shape[0]), size=10, replace=False)\n",
    "plt.boxplot(predictions[idx].T)\n",
    "plt.plot(range(1,11), y_test[idx], 'r.', alpha=0.8);"
   ]
  },
  {
   "cell_type": "markdown",
   "metadata": {},
   "source": [
    "## Going further\n",
    "\n",
    "### A better prior\n",
    "\n",
    "먼저 Scale Mixture prior를 실행한다, \n",
    "$$\n",
    "P(w) = \\prod_j π N(w_j |0, σ_1^2) + (1 − π)N (w_j |0, σ_2^2)\n",
    "$$\n",
    "\n",
    "일반적으로 $π = 1/2$, and $σ_1 > σ_2$."
   ]
  },
  {
   "cell_type": "code",
   "execution_count": 48,
   "metadata": {
    "tags": []
   },
   "outputs": [
    {
     "data": {
      "image/png": "[encoded data removed]",
      "text/plain": [
       "<Figure size 640x480 with 1 Axes>"
      ]
     },
     "metadata": {},
     "output_type": "display_data"
    }
   ],
   "source": [
    "import torch.distributions as D\n",
    "\n",
    "# Ensure 'device' is properly defined\n",
    "device = torch.device(\"cuda\" if torch.cuda.is_available() else \"cpu\")\n",
    "\n",
    "def scale_mix_prior(n):\n",
    "    mix = D.Categorical(torch.ones(2, device=device))  # Ensure mix is on the correct device\n",
    "    mu = torch.zeros((2, n), device=device, dtype=torch.float32)  # Ensure mu is on the correct device\n",
    "    s1 = torch.ones((1, n), device=device, dtype=torch.float32) * 1.0  # Large variance\n",
    "    s2 = torch.ones((1, n), device=device, dtype=torch.float32) * 0.1  # Small variance\n",
    "    comp = D.Independent(D.Normal(mu, torch.cat((s1, s2), dim=0)), 1)  # Ensure all tensors are on the same device\n",
    "    gmm = D.MixtureSameFamily(mix, comp)\n",
    "    return gmm\n",
    "\n",
    "# Plot the histogram\n",
    "prior = scale_mix_prior(1)\n",
    "samples = prior.sample((1000,))  # Sample 1000 points\n",
    "plt.hist(samples[:, 0].cpu().numpy(), bins=100)  # Ensure samples are on CPU for plotting\n",
    "plt.xlabel(\"Value\")\n",
    "plt.ylabel(\"Frequency\")\n",
    "plt.title(\"Samples from Scale Mixture Prior\")\n",
    "plt.show()"
   ]
  },
  {
   "cell_type": "markdown",
   "metadata": {},
   "source": [
    "### KL_weight\n",
    "\n",
    "제대로 조정하기 어렵고 학습에 큰 영향을 미친다. 고정된 값보다는 일정이 유용함"
   ]
  },
  {
   "cell_type": "markdown",
   "metadata": {
    "id": "53tmcKY_FM7X"
   },
   "source": [
    "## Comparison with the parametrizing a distribution\n",
    "\n",
    "\n",
    "지금까지는 가중치에 대한 분포가 있지만 각 입력에 대한 단일 포인트 추정치(가중치를 샘플링하면)가 있다.\n",
    "\n",
    "<img src=\"https://raw.githubusercontent.com/charlesollion/dlexperiments/master/6-Bayesian-DL/stochasticNN.png\" width=\"400\" height=\"200\">\n",
    "\n",
    "\n",
    "단일 지점 추정치가 아닌 출력 분포를 모델링할 수도 있습니다. 마지막 레이어를 변경하여 가우시안 매개변수화를 출력으로 사용합니다. 이는 데이터의 불확실성, 감소 불가능한 노이즈, 데이터 생성 프로세스의 확률적 특성을 포착하는 것과 관련이 있어야 한다.\n",
    "\n",
    "그런 다음 이 분포의 음의 로지스틱 가능성을 MSE 대신 손실 함수로 사용하며, 이 경우에는 확률적 가중치를 사용하지 않는다."
   ]
  },
  {
   "cell_type": "code",
   "execution_count": 88,
   "metadata": {
    "tags": []
   },
   "outputs": [],
   "source": [
    "import torch.nn as nn\n",
    "\n",
    "class DistributionModel(nn.Module):\n",
    "    def __init__(self, input_dim, hidden_dim):\n",
    "        super(DistributionModel, self).__init__()\n",
    "        self.hidden_layer = nn.Linear(input_dim, hidden_dim)\n",
    "        # We output two values, which will be interpreted as mu and log sigma of a distribution\n",
    "        self.out_layer = nn.Linear(hidden_dim, 2)\n",
    "        \n",
    "        self.act = torch.relu\n",
    "        \n",
    "    def forward(self, inputs):\n",
    "        h = self.hidden_layer(inputs)\n",
    "        h = self.act(h)\n",
    "        output = self.out_layer(h)\n",
    "        mu, logscale = torch.split(output, [1,1], dim=-1)\n",
    "        output = torch.distributions.Normal(loc=mu,\n",
    "                                            scale=torch.exp(logscale))\n",
    "        \n",
    "        # we return a distribution instead of a single point estimate\n",
    "        return output"
   ]
  },
  {
   "cell_type": "code",
   "execution_count": 89,
   "metadata": {
    "tags": []
   },
   "outputs": [
    {
     "data": {
      "text/plain": [
       "[352, 32, 64, 2]"
      ]
     },
     "execution_count": 89,
     "metadata": {},
     "output_type": "execute_result"
    }
   ],
   "source": [
    "distrib_model = DistributionModel(11, 32).to(device)\n",
    "[p.numel() for p in distrib_model.parameters()]\n",
    "# 11*32 + 32 + 32*2 + 2"
   ]
  },
  {
   "cell_type": "code",
   "execution_count": 90,
   "metadata": {
    "tags": []
   },
   "outputs": [
    {
     "name": "stderr",
     "output_type": "stream",
     "text": [
      "100%|██████████| 200/200 [00:15<00:00, 13.06it/s]\n"
     ]
    },
    {
     "data": {
      "image/png": "[encoded data removed]",
      "text/plain": [
       "<Figure size 640x480 with 1 Axes>"
      ]
     },
     "metadata": {},
     "output_type": "display_data"
    }
   ],
   "source": [
    "def nll_loss(model_outputs, y_true):\n",
    "    return - torch.sum(model_outputs.log_prob(y_true))\n",
    "\n",
    "losses = train_model(distrib_model, nll_loss, 200)\n",
    "plt.plot(losses);"
   ]
  },
  {
   "cell_type": "code",
   "execution_count": 91,
   "metadata": {
    "tags": []
   },
   "outputs": [
    {
     "name": "stdout",
     "output_type": "stream",
     "text": [
      "mean prediction RMSE: 0.935\n",
      "average 95% confidence interval size: 3.598\n"
     ]
    }
   ],
   "source": [
    "distrib_model.eval()\n",
    "errors = []\n",
    "intervals = []\n",
    "for x,y in dataloader_test:\n",
    "    d = distrib_model(x)\n",
    "    y_hat = d.mean\n",
    "    intervals.append(d.scale.detach().cpu().numpy())\n",
    "    errors.append(((torch.squeeze(y_hat) - torch.squeeze(y))**2).detach().cpu().numpy())\n",
    "    \n",
    "\n",
    "rmse = np.sqrt(np.mean(np.concatenate(errors, axis=None)))\n",
    "inter = np.mean(np.concatenate(intervals, axis=None)) * 1.96 * 2\n",
    "print(f\"mean prediction RMSE: {round(rmse, 3):.3f}\")\n",
    "print(f\"average 95% confidence interval size: {round(inter, 3):.3f}\")"
   ]
  },
  {
   "cell_type": "code",
   "execution_count": 92,
   "metadata": {
    "tags": []
   },
   "outputs": [
    {
     "data": {
      "text/plain": [
       "tensor([[-0.0604, -0.7727, -0.4483,  ...,  0.0071, -1.0511,  0.1548],\n",
       "        [-0.2973, -0.8722,  5.5248,  ..., -0.6564, -1.5777, -1.4655],\n",
       "        [ 1.3608,  3.8027,  3.2533,  ..., -1.7843,  1.6698, -0.8984],\n",
       "        ...,\n",
       "        [-0.5342, -1.7177, -0.3642,  ..., -0.1256,  0.5288,  0.1548],\n",
       "        [-0.6526,  0.9182, -0.4483,  ...,  0.6706, -0.2612,  0.8840],\n",
       "        [-0.1789,  0.2219,  1.3184,  ..., -0.4573, -0.3489, -0.4933]],\n",
       "       device='cuda:0')"
      ]
     },
     "execution_count": 92,
     "metadata": {},
     "output_type": "execute_result"
    }
   ],
   "source": [
    "examples_torch[:len(samples)]"
   ]
  },
  {
   "cell_type": "code",
   "execution_count": 98,
   "metadata": {
    "tags": []
   },
   "outputs": [
    {
     "name": "stdout",
     "output_type": "stream",
     "text": [
      "Prediction mean: 5.93, stddev: 0.91, 95% CI: [7.72 - 4.14] - Actual: 6.0\n",
      "Prediction mean: 6.08, stddev: 0.94, 95% CI: [7.92 - 4.23] - Actual: 6.0\n",
      "Prediction mean: 6.13, stddev: 0.91, 95% CI: [7.92 - 4.34] - Actual: 4.0\n",
      "Prediction mean: 5.95, stddev: 0.91, 95% CI: [7.74 - 4.17] - Actual: 5.0\n",
      "Prediction mean: 5.87, stddev: 0.92, 95% CI: [7.67 - 4.06] - Actual: 7.0\n",
      "Prediction mean: 5.82, stddev: 0.92, 95% CI: [7.63 - 4.01] - Actual: 6.0\n",
      "Prediction mean: 5.96, stddev: 0.91, 95% CI: [7.75 - 4.18] - Actual: 7.0\n",
      "Prediction mean: 5.91, stddev: 0.93, 95% CI: [7.73 - 4.09] - Actual: 5.0\n",
      "Prediction mean: 5.91, stddev: 0.92, 95% CI: [7.71 - 4.11] - Actual: 7.0\n",
      "Prediction mean: 5.92, stddev: 0.92, 95% CI: [7.72 - 4.12] - Actual: 6.0\n"
     ]
    }
   ],
   "source": [
    "samples = 10\n",
    "\n",
    "examples_torch, y_test = next(iter(dataloader_test))  # 라벨 포함 데이터 가져오기\n",
    "predicted_d = distrib_model(examples_torch[:samples])\n",
    "predicted_means = predicted_d.mean.detach().cpu().numpy()\n",
    "predicted_sigmas = predicted_d.scale.detach().cpu().numpy()\n",
    "\n",
    "upper = (predicted_means + (1.96 * predicted_sigmas)).tolist()\n",
    "lower = (predicted_means - (1.96 * predicted_sigmas)).tolist()\n",
    "\n",
    "for idx in range(samples):\n",
    "    print(\n",
    "        f\"Prediction mean: {round(predicted_means[idx][0], 2):.2f}, \"\n",
    "        f\"stddev: {round(predicted_sigmas[idx][0], 2):.2f}, \"\n",
    "        f\"95% CI: [{round(upper[idx][0], 2)} - {round(lower[idx][0], 2)}]\"\n",
    "        f\" - Actual: {y_test[idx].item()}\"\n",
    "    )"
   ]
  },
  {
   "cell_type": "code",
   "execution_count": 116,
   "metadata": {
    "tags": []
   },
   "outputs": [
    {
     "data": {
      "image/png": "[encoded data removed]",
      "text/plain": [
       "<Figure size 640x480 with 1 Axes>"
      ]
     },
     "metadata": {},
     "output_type": "display_data"
    }
   ],
   "source": [
    "predictions = predicted_d.sample((20,))[:,:,0].detach().cpu()\n",
    "plt.boxplot(predictions[idx].T)\n",
    "plt.plot(range(1,11), y_test[idx].detach().cpu(), 'r.', alpha=0.8);"
   ]
  }
 ],
 "metadata": {
  "accelerator": "GPU",
  "colab": {
   "collapsed_sections": [],
   "name": "BayesianDeepWine",
   "provenance": [],
   "toc_visible": true
  },
  "kernelspec": {
   "display_name": "lecture",
   "language": "python",
   "name": "lecture"
  },
  "language_info": {
   "codemirror_mode": {
    "name": "ipython",
    "version": 3
   },
   "file_extension": ".py",
   "mimetype": "text/x-python",
   "name": "python",
   "nbconvert_exporter": "python",
   "pygments_lexer": "ipython3",
   "version": "3.11.7"
  },
  "toc": {
   "base_numbering": 1,
   "nav_menu": {},
   "number_sections": true,
   "sideBar": true,
   "skip_h1_title": false,
   "title_cell": "Table of Contents",
   "title_sidebar": "Contents",
   "toc_cell": false,
   "toc_position": {},
   "toc_section_display": true,
   "toc_window_display": false
  }
 },
 "nbformat": 4,
 "nbformat_minor": 4
}
