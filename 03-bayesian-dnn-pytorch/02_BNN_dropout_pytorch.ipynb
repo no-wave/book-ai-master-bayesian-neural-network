{
 "cells": [
  {
   "cell_type": "markdown",
   "metadata": {
    "id": "d5fU0bcRFM7B"
   },
   "source": [
    "# Uncertainty in DL: MC-Dropout\n",
    "\n",
    "이 세션에서는 베이지안 근사치로서의 드롭아웃에 설명된 대로 몬테카를로 드롭아웃을 이해하고 구현하는 것을 목표로 합니다: 딥러닝에서 모델 불확실성 표현하기.\n",
    "\n",
    "![](https://github.com/charlesollion/dlexperiments/raw/master/6-Bayesian-DL/BDLworkflow.png)"
   ]
  },
  {
   "cell_type": "markdown",
   "metadata": {
    "id": "JjW7a270FM7G"
   },
   "source": [
    "## Installation"
   ]
  },
  {
   "cell_type": "code",
   "execution_count": null,
   "metadata": {
    "id": "JjW7a270FM7G"
   },
   "outputs": [],
   "source": [
    "pip install pytorch"
   ]
  },
  {
   "cell_type": "code",
   "execution_count": 1,
   "metadata": {
    "tags": []
   },
   "outputs": [],
   "source": [
    "import torch\n",
    "device = torch.device(\"cuda:0\" if torch.cuda.is_available() else \"cpu\")"
   ]
  },
  {
   "cell_type": "code",
   "execution_count": 2,
   "metadata": {
    "tags": []
   },
   "outputs": [],
   "source": [
    "import torch\n",
    "import pandas as pd\n",
    "import numpy as np\n",
    "from torch.utils.data import TensorDataset, DataLoader\n",
    "from sklearn.model_selection import train_test_split\n",
    "from sklearn import preprocessing"
   ]
  },
  {
   "cell_type": "markdown",
   "metadata": {
    "id": "aJcfG-w_FM7H"
   },
   "source": [
    "## The dataset"
   ]
  },
  {
   "cell_type": "markdown",
   "metadata": {},
   "source": [
    "'Wine Qiuality'을 사용합니다. 4,898개의 예가 포함된 레드 와인 하위 집합을 사용합니다. 이 데이터 집합에는 와인의 11가지 물리화학적 특징이 수치로 표시되어 있으며, 0에서 10 사이의 점수인 와인 품질을 예측하는 것이 과제이다.\n",
    "\n",
    "전문가들은 정수로 점수를 주었지만, 단순하고 신뢰 구간을 쉽게 해석하기 위해 먼저 0에서 10 사이의 연속 값으로 간주하고 이를 회귀 작업으로 처리한다. 데이터를 보다 연속적으로 만들기 위해 y에 작은 관측 노이즈를 추가한다."
   ]
  },
  {
   "cell_type": "code",
   "execution_count": 3,
   "metadata": {
    "tags": []
   },
   "outputs": [
    {
     "data": {
      "text/html": [
       "<div>\n",
       "<style scoped>\n",
       "    .dataframe tbody tr th:only-of-type {\n",
       "        vertical-align: middle;\n",
       "    }\n",
       "\n",
       "    .dataframe tbody tr th {\n",
       "        vertical-align: top;\n",
       "    }\n",
       "\n",
       "    .dataframe thead th {\n",
       "        text-align: right;\n",
       "    }\n",
       "</style>\n",
       "<table border=\"1\" class=\"dataframe\">\n",
       "  <thead>\n",
       "    <tr style=\"text-align: right;\">\n",
       "      <th></th>\n",
       "      <th>fixed acidity</th>\n",
       "      <th>volatile acidity</th>\n",
       "      <th>citric acid</th>\n",
       "      <th>residual sugar</th>\n",
       "      <th>chlorides</th>\n",
       "      <th>free sulfur dioxide</th>\n",
       "      <th>total sulfur dioxide</th>\n",
       "      <th>density</th>\n",
       "      <th>pH</th>\n",
       "      <th>sulphates</th>\n",
       "      <th>alcohol</th>\n",
       "      <th>rate</th>\n",
       "    </tr>\n",
       "  </thead>\n",
       "  <tbody>\n",
       "    <tr>\n",
       "      <th>0</th>\n",
       "      <td>7.6</td>\n",
       "      <td>0.32</td>\n",
       "      <td>0.34</td>\n",
       "      <td>18.35</td>\n",
       "      <td>0.054</td>\n",
       "      <td>44.0</td>\n",
       "      <td>197.0</td>\n",
       "      <td>1.00080</td>\n",
       "      <td>3.22</td>\n",
       "      <td>0.55</td>\n",
       "      <td>9.0</td>\n",
       "      <td>5.0</td>\n",
       "    </tr>\n",
       "    <tr>\n",
       "      <th>1</th>\n",
       "      <td>6.3</td>\n",
       "      <td>0.27</td>\n",
       "      <td>0.49</td>\n",
       "      <td>1.20</td>\n",
       "      <td>0.063</td>\n",
       "      <td>35.0</td>\n",
       "      <td>92.0</td>\n",
       "      <td>0.99110</td>\n",
       "      <td>3.38</td>\n",
       "      <td>0.42</td>\n",
       "      <td>12.2</td>\n",
       "      <td>6.0</td>\n",
       "    </tr>\n",
       "    <tr>\n",
       "      <th>2</th>\n",
       "      <td>5.3</td>\n",
       "      <td>0.43</td>\n",
       "      <td>0.11</td>\n",
       "      <td>1.10</td>\n",
       "      <td>0.029</td>\n",
       "      <td>6.0</td>\n",
       "      <td>51.0</td>\n",
       "      <td>0.99076</td>\n",
       "      <td>3.51</td>\n",
       "      <td>0.48</td>\n",
       "      <td>11.2</td>\n",
       "      <td>4.0</td>\n",
       "    </tr>\n",
       "    <tr>\n",
       "      <th>3</th>\n",
       "      <td>6.6</td>\n",
       "      <td>0.41</td>\n",
       "      <td>0.27</td>\n",
       "      <td>10.70</td>\n",
       "      <td>0.110</td>\n",
       "      <td>20.0</td>\n",
       "      <td>103.0</td>\n",
       "      <td>0.99672</td>\n",
       "      <td>3.08</td>\n",
       "      <td>0.41</td>\n",
       "      <td>9.0</td>\n",
       "      <td>6.0</td>\n",
       "    </tr>\n",
       "    <tr>\n",
       "      <th>4</th>\n",
       "      <td>5.9</td>\n",
       "      <td>0.34</td>\n",
       "      <td>0.30</td>\n",
       "      <td>3.80</td>\n",
       "      <td>0.035</td>\n",
       "      <td>57.0</td>\n",
       "      <td>135.0</td>\n",
       "      <td>0.99016</td>\n",
       "      <td>3.09</td>\n",
       "      <td>0.34</td>\n",
       "      <td>12.0</td>\n",
       "      <td>6.0</td>\n",
       "    </tr>\n",
       "  </tbody>\n",
       "</table>\n",
       "</div>"
      ],
      "text/plain": [
       "   fixed acidity  volatile acidity  citric acid  residual sugar  chlorides  \\\n",
       "0            7.6              0.32         0.34           18.35      0.054   \n",
       "1            6.3              0.27         0.49            1.20      0.063   \n",
       "2            5.3              0.43         0.11            1.10      0.029   \n",
       "3            6.6              0.41         0.27           10.70      0.110   \n",
       "4            5.9              0.34         0.30            3.80      0.035   \n",
       "\n",
       "   free sulfur dioxide  total sulfur dioxide  density    pH  sulphates  \\\n",
       "0                 44.0                 197.0  1.00080  3.22       0.55   \n",
       "1                 35.0                  92.0  0.99110  3.38       0.42   \n",
       "2                  6.0                  51.0  0.99076  3.51       0.48   \n",
       "3                 20.0                 103.0  0.99672  3.08       0.41   \n",
       "4                 57.0                 135.0  0.99016  3.09       0.34   \n",
       "\n",
       "   alcohol  rate  \n",
       "0      9.0   5.0  \n",
       "1     12.2   6.0  \n",
       "2     11.2   4.0  \n",
       "3      9.0   6.0  \n",
       "4     12.0   6.0  "
      ]
     },
     "execution_count": 3,
     "metadata": {},
     "output_type": "execute_result"
    }
   ],
   "source": [
    "# load data\n",
    "df = pd.read_csv('../dataset/wine_quality.csv')\n",
    "df.head()"
   ]
  },
  {
   "cell_type": "code",
   "execution_count": 4,
   "metadata": {
    "tags": []
   },
   "outputs": [
    {
     "data": {
      "text/plain": [
       "(4898, 12)"
      ]
     },
     "execution_count": 4,
     "metadata": {},
     "output_type": "execute_result"
    }
   ],
   "source": [
    "df.shape"
   ]
  },
  {
   "cell_type": "code",
   "execution_count": 5,
   "metadata": {
    "tags": []
   },
   "outputs": [
    {
     "name": "stdout",
     "output_type": "stream",
     "text": [
      "<class 'pandas.core.frame.DataFrame'>\n",
      "RangeIndex: 4898 entries, 0 to 4897\n",
      "Data columns (total 12 columns):\n",
      " #   Column                Non-Null Count  Dtype  \n",
      "---  ------                --------------  -----  \n",
      " 0   fixed acidity         4898 non-null   float64\n",
      " 1   volatile acidity      4898 non-null   float64\n",
      " 2   citric acid           4898 non-null   float64\n",
      " 3   residual sugar        4898 non-null   float64\n",
      " 4   chlorides             4898 non-null   float64\n",
      " 5   free sulfur dioxide   4898 non-null   float64\n",
      " 6   total sulfur dioxide  4898 non-null   float64\n",
      " 7   density               4898 non-null   float64\n",
      " 8   pH                    4898 non-null   float64\n",
      " 9   sulphates             4898 non-null   float64\n",
      " 10  alcohol               4898 non-null   float64\n",
      " 11  rate                  4898 non-null   float64\n",
      "dtypes: float64(12)\n",
      "memory usage: 459.3 KB\n"
     ]
    }
   ],
   "source": [
    "df.info()"
   ]
  },
  {
   "cell_type": "code",
   "execution_count": 6,
   "metadata": {
    "tags": []
   },
   "outputs": [
    {
     "data": {
      "text/html": [
       "<div>\n",
       "<style scoped>\n",
       "    .dataframe tbody tr th:only-of-type {\n",
       "        vertical-align: middle;\n",
       "    }\n",
       "\n",
       "    .dataframe tbody tr th {\n",
       "        vertical-align: top;\n",
       "    }\n",
       "\n",
       "    .dataframe thead th {\n",
       "        text-align: right;\n",
       "    }\n",
       "</style>\n",
       "<table border=\"1\" class=\"dataframe\">\n",
       "  <thead>\n",
       "    <tr style=\"text-align: right;\">\n",
       "      <th></th>\n",
       "      <th>fixed acidity</th>\n",
       "      <th>volatile acidity</th>\n",
       "      <th>citric acid</th>\n",
       "      <th>residual sugar</th>\n",
       "      <th>chlorides</th>\n",
       "      <th>free sulfur dioxide</th>\n",
       "      <th>total sulfur dioxide</th>\n",
       "      <th>density</th>\n",
       "      <th>pH</th>\n",
       "      <th>sulphates</th>\n",
       "      <th>alcohol</th>\n",
       "      <th>rate</th>\n",
       "    </tr>\n",
       "  </thead>\n",
       "  <tbody>\n",
       "    <tr>\n",
       "      <th>count</th>\n",
       "      <td>4898.000000</td>\n",
       "      <td>4898.000000</td>\n",
       "      <td>4898.000000</td>\n",
       "      <td>4898.000000</td>\n",
       "      <td>4898.000000</td>\n",
       "      <td>4898.000000</td>\n",
       "      <td>4898.000000</td>\n",
       "      <td>4898.000000</td>\n",
       "      <td>4898.000000</td>\n",
       "      <td>4898.000000</td>\n",
       "      <td>4898.000000</td>\n",
       "      <td>4898.000000</td>\n",
       "    </tr>\n",
       "    <tr>\n",
       "      <th>mean</th>\n",
       "      <td>6.854788</td>\n",
       "      <td>0.278241</td>\n",
       "      <td>0.334192</td>\n",
       "      <td>6.391415</td>\n",
       "      <td>0.045772</td>\n",
       "      <td>35.308085</td>\n",
       "      <td>138.360657</td>\n",
       "      <td>0.994027</td>\n",
       "      <td>3.188267</td>\n",
       "      <td>0.489847</td>\n",
       "      <td>10.514267</td>\n",
       "      <td>5.877909</td>\n",
       "    </tr>\n",
       "    <tr>\n",
       "      <th>std</th>\n",
       "      <td>0.843868</td>\n",
       "      <td>0.100795</td>\n",
       "      <td>0.121020</td>\n",
       "      <td>5.072058</td>\n",
       "      <td>0.021848</td>\n",
       "      <td>17.007137</td>\n",
       "      <td>42.498065</td>\n",
       "      <td>0.002991</td>\n",
       "      <td>0.151001</td>\n",
       "      <td>0.114126</td>\n",
       "      <td>1.230621</td>\n",
       "      <td>0.885639</td>\n",
       "    </tr>\n",
       "    <tr>\n",
       "      <th>min</th>\n",
       "      <td>3.800000</td>\n",
       "      <td>0.080000</td>\n",
       "      <td>0.000000</td>\n",
       "      <td>0.600000</td>\n",
       "      <td>0.009000</td>\n",
       "      <td>2.000000</td>\n",
       "      <td>9.000000</td>\n",
       "      <td>0.987110</td>\n",
       "      <td>2.720000</td>\n",
       "      <td>0.220000</td>\n",
       "      <td>8.000000</td>\n",
       "      <td>3.000000</td>\n",
       "    </tr>\n",
       "    <tr>\n",
       "      <th>25%</th>\n",
       "      <td>6.300000</td>\n",
       "      <td>0.210000</td>\n",
       "      <td>0.270000</td>\n",
       "      <td>1.700000</td>\n",
       "      <td>0.036000</td>\n",
       "      <td>23.000000</td>\n",
       "      <td>108.000000</td>\n",
       "      <td>0.991723</td>\n",
       "      <td>3.090000</td>\n",
       "      <td>0.410000</td>\n",
       "      <td>9.500000</td>\n",
       "      <td>5.000000</td>\n",
       "    </tr>\n",
       "    <tr>\n",
       "      <th>50%</th>\n",
       "      <td>6.800000</td>\n",
       "      <td>0.260000</td>\n",
       "      <td>0.320000</td>\n",
       "      <td>5.200000</td>\n",
       "      <td>0.043000</td>\n",
       "      <td>34.000000</td>\n",
       "      <td>134.000000</td>\n",
       "      <td>0.993740</td>\n",
       "      <td>3.180000</td>\n",
       "      <td>0.470000</td>\n",
       "      <td>10.400000</td>\n",
       "      <td>6.000000</td>\n",
       "    </tr>\n",
       "    <tr>\n",
       "      <th>75%</th>\n",
       "      <td>7.300000</td>\n",
       "      <td>0.320000</td>\n",
       "      <td>0.390000</td>\n",
       "      <td>9.900000</td>\n",
       "      <td>0.050000</td>\n",
       "      <td>46.000000</td>\n",
       "      <td>167.000000</td>\n",
       "      <td>0.996100</td>\n",
       "      <td>3.280000</td>\n",
       "      <td>0.550000</td>\n",
       "      <td>11.400000</td>\n",
       "      <td>6.000000</td>\n",
       "    </tr>\n",
       "    <tr>\n",
       "      <th>max</th>\n",
       "      <td>14.200000</td>\n",
       "      <td>1.100000</td>\n",
       "      <td>1.660000</td>\n",
       "      <td>65.800000</td>\n",
       "      <td>0.346000</td>\n",
       "      <td>289.000000</td>\n",
       "      <td>440.000000</td>\n",
       "      <td>1.038980</td>\n",
       "      <td>3.820000</td>\n",
       "      <td>1.080000</td>\n",
       "      <td>14.200000</td>\n",
       "      <td>9.000000</td>\n",
       "    </tr>\n",
       "  </tbody>\n",
       "</table>\n",
       "</div>"
      ],
      "text/plain": [
       "       fixed acidity  volatile acidity  citric acid  residual sugar  \\\n",
       "count    4898.000000       4898.000000  4898.000000     4898.000000   \n",
       "mean        6.854788          0.278241     0.334192        6.391415   \n",
       "std         0.843868          0.100795     0.121020        5.072058   \n",
       "min         3.800000          0.080000     0.000000        0.600000   \n",
       "25%         6.300000          0.210000     0.270000        1.700000   \n",
       "50%         6.800000          0.260000     0.320000        5.200000   \n",
       "75%         7.300000          0.320000     0.390000        9.900000   \n",
       "max        14.200000          1.100000     1.660000       65.800000   \n",
       "\n",
       "         chlorides  free sulfur dioxide  total sulfur dioxide      density  \\\n",
       "count  4898.000000          4898.000000           4898.000000  4898.000000   \n",
       "mean      0.045772            35.308085            138.360657     0.994027   \n",
       "std       0.021848            17.007137             42.498065     0.002991   \n",
       "min       0.009000             2.000000              9.000000     0.987110   \n",
       "25%       0.036000            23.000000            108.000000     0.991723   \n",
       "50%       0.043000            34.000000            134.000000     0.993740   \n",
       "75%       0.050000            46.000000            167.000000     0.996100   \n",
       "max       0.346000           289.000000            440.000000     1.038980   \n",
       "\n",
       "                pH    sulphates      alcohol         rate  \n",
       "count  4898.000000  4898.000000  4898.000000  4898.000000  \n",
       "mean      3.188267     0.489847    10.514267     5.877909  \n",
       "std       0.151001     0.114126     1.230621     0.885639  \n",
       "min       2.720000     0.220000     8.000000     3.000000  \n",
       "25%       3.090000     0.410000     9.500000     5.000000  \n",
       "50%       3.180000     0.470000    10.400000     6.000000  \n",
       "75%       3.280000     0.550000    11.400000     6.000000  \n",
       "max       3.820000     1.080000    14.200000     9.000000  "
      ]
     },
     "execution_count": 6,
     "metadata": {},
     "output_type": "execute_result"
    }
   ],
   "source": [
    "df.describe()"
   ]
  },
  {
   "cell_type": "markdown",
   "metadata": {},
   "source": [
    "## Feature Engineering"
   ]
  },
  {
   "cell_type": "code",
   "execution_count": 7,
   "metadata": {
    "tags": []
   },
   "outputs": [],
   "source": [
    "X = df.drop('rate', axis=1)\n",
    "y = df['rate']"
   ]
  },
  {
   "cell_type": "code",
   "execution_count": 8,
   "metadata": {
    "tags": []
   },
   "outputs": [
    {
     "data": {
      "text/plain": [
       "((4163, 11), (735, 11), (4163,), (735,))"
      ]
     },
     "execution_count": 8,
     "metadata": {},
     "output_type": "execute_result"
    }
   ],
   "source": [
    "X_train, X_test, y_train, y_test = train_test_split(\n",
    "    X, y, \n",
    "    test_size=0.15, \n",
    "    random_state=42\n",
    ")\n",
    "X_train.shape, X_test.shape, y_train.shape, y_test.shape"
   ]
  },
  {
   "cell_type": "code",
   "execution_count": 9,
   "metadata": {
    "tags": []
   },
   "outputs": [],
   "source": [
    "# y_train에 약간의 노이즈 추가\n",
    "y_train = y_train + np.random.normal(0,0.2, size=y_train.shape)"
   ]
  },
  {
   "cell_type": "code",
   "execution_count": 10,
   "metadata": {
    "tags": []
   },
   "outputs": [],
   "source": [
    "# mean = 0 ; standard deviation = 1.0\n",
    "scaler = preprocessing.StandardScaler()\n",
    "\n",
    "X_train = scaler.fit_transform(X_train)\n",
    "X_test = scaler.transform(X_test)"
   ]
  },
  {
   "cell_type": "code",
   "execution_count": 11,
   "metadata": {
    "tags": []
   },
   "outputs": [],
   "source": [
    "# transform to torch tensor\n",
    "tensor_X_train = torch.from_numpy(X_train).float().to(device) \n",
    "tensor_y_train = torch.from_numpy(y_train.values).float().to(device) \n",
    "tensor_X_test = torch.from_numpy(X_test).float().to(device) \n",
    "tensor_y_test = torch.from_numpy(y_test.values).float().to(device) "
   ]
  },
  {
   "cell_type": "code",
   "execution_count": 12,
   "metadata": {
    "tags": []
   },
   "outputs": [],
   "source": [
    "batch_size = 256"
   ]
  },
  {
   "cell_type": "code",
   "execution_count": 13,
   "metadata": {
    "tags": []
   },
   "outputs": [],
   "source": [
    "# build dataset and dataloader torch objects\n",
    "dataset_train = TensorDataset(\n",
    "    tensor_X_train, tensor_y_train\n",
    ")\n",
    "dataset_test = TensorDataset(\n",
    "    tensor_X_test, tensor_y_test\n",
    ")\n",
    "dataloader_train = DataLoader(\n",
    "    dataset_train, \n",
    "    batch_size=batch_size, \n",
    "    shuffle=True\n",
    ")\n",
    "dataloader_test = DataLoader(\n",
    "    dataset_test, \n",
    "    batch_size=batch_size\n",
    ")"
   ]
  },
  {
   "cell_type": "code",
   "execution_count": 14,
   "metadata": {
    "tags": []
   },
   "outputs": [
    {
     "data": {
      "image/png": "[encoded data removed]",
      "text/plain": [
       "<Figure size 640x480 with 1 Axes>"
      ]
     },
     "metadata": {},
     "output_type": "display_data"
    }
   ],
   "source": [
    "import matplotlib.pyplot as plt\n",
    "plt.hist(y_train, bins=100);"
   ]
  },
  {
   "cell_type": "markdown",
   "metadata": {
    "id": "VUEGoFbJFM7P"
   },
   "source": [
    "## Baseline: Standard Neural Network"
   ]
  },
  {
   "cell_type": "code",
   "execution_count": 15,
   "metadata": {
    "id": "Qyqun6Ch2IaQ",
    "tags": []
   },
   "outputs": [],
   "source": [
    "import torch.nn as nn\n",
    "\n",
    "class BaselineMLP(nn.Module):\n",
    "    def __init__(self, input_dim, hidden_dim):\n",
    "        super(BaselineMLP, self).__init__()\n",
    "        self.hidden_layer1 = nn.Linear(input_dim, hidden_dim)\n",
    "        self.hidden_layer2 = nn.Linear(hidden_dim, hidden_dim)\n",
    "        self.out_layer = nn.Linear(hidden_dim, 1)\n",
    "        self.act = torch.relu\n",
    "        \n",
    "    def forward(self, inputs):\n",
    "        # First layer\n",
    "        h = self.hidden_layer1(inputs)\n",
    "        h = self.act(h)\n",
    "        # Second layer\n",
    "        h = self.hidden_layer2(h)\n",
    "        h = self.act(h)\n",
    "        output = self.out_layer(h)\n",
    "        \n",
    "        return output"
   ]
  },
  {
   "cell_type": "code",
   "execution_count": 16,
   "metadata": {
    "id": "Y-yBAJje3LEd",
    "tags": []
   },
   "outputs": [],
   "source": [
    "import torch.optim as optim\n",
    "from tqdm import tqdm\n",
    "\n",
    "def train_model(model, num_epochs):\n",
    "    optimizer = optim.RMSprop(model.parameters(), lr=0.003, weight_decay=1e-5)\n",
    "    loss = torch.nn.MSELoss()\n",
    "    losses = []\n",
    "    model.train()\n",
    "    for e in tqdm(range(num_epochs)):\n",
    "        for x, y in dataloader_train:\n",
    "            optimizer.zero_grad()\n",
    "            loss_value = loss(model(x), y)\n",
    "            loss_value.backward()\n",
    "            losses.append(loss_value.detach().cpu().item())\n",
    "            optimizer.step()\n",
    "    return losses\n",
    "\n",
    "\n",
    "def eval_model(model):\n",
    "    model.eval()\n",
    "    errors = []\n",
    "    for x,y in dataloader_test:\n",
    "        y_hat = model(x)\n",
    "        errors.append(((torch.squeeze(y_hat) - torch.squeeze(y))**2).detach().cpu().numpy())\n",
    "  \n",
    "    rmse = np.sqrt(np.mean(np.concatenate(errors, axis=None)))\n",
    "    return round(rmse, 3)"
   ]
  },
  {
   "cell_type": "code",
   "execution_count": 17,
   "metadata": {
    "id": "smdJBd6q287-",
    "tags": []
   },
   "outputs": [
    {
     "data": {
      "text/plain": [
       "BaselineMLP(\n",
       "  (hidden_layer1): Linear(in_features=11, out_features=32, bias=True)\n",
       "  (hidden_layer2): Linear(in_features=32, out_features=32, bias=True)\n",
       "  (out_layer): Linear(in_features=32, out_features=1, bias=True)\n",
       ")"
      ]
     },
     "execution_count": 17,
     "metadata": {},
     "output_type": "execute_result"
    }
   ],
   "source": [
    "baseline_model = BaselineMLP(11, 32).to(device)\n",
    "baseline_model"
   ]
  },
  {
   "cell_type": "code",
   "execution_count": 19,
   "metadata": {
    "tags": []
   },
   "outputs": [
    {
     "data": {
      "text/plain": [
       "[352, 32, 1024, 32, 32, 1]"
      ]
     },
     "execution_count": 19,
     "metadata": {},
     "output_type": "execute_result"
    }
   ],
   "source": [
    "[p.numel() for p in baseline_model.parameters()]\n",
    "# hidden layer W, hidden layer b, output layer W, output layer b"
   ]
  },
  {
   "cell_type": "markdown",
   "metadata": {},
   "source": [
    "### Baseline evaluations\n",
    "학습되지 않은 모델 RMSE와 매우 멍청한 상수 모델(단지 y_train의 평균을 예측하는 모델)을 살펴보면:"
   ]
  },
  {
   "cell_type": "code",
   "execution_count": 20,
   "metadata": {
    "tags": []
   },
   "outputs": [
    {
     "name": "stdout",
     "output_type": "stream",
     "text": [
      "untrained RMSE: 5.922\n"
     ]
    }
   ],
   "source": [
    "rmse = eval_model(baseline_model)\n",
    "print(f\"untrained RMSE: {rmse:.3f}\")"
   ]
  },
  {
   "cell_type": "code",
   "execution_count": 22,
   "metadata": {
    "tags": []
   },
   "outputs": [
    {
     "name": "stdout",
     "output_type": "stream",
     "text": [
      "constant model RMSE: 0.916\n"
     ]
    }
   ],
   "source": [
    "class Constant():\n",
    "    def eval(self):\n",
    "        pass\n",
    "    \n",
    "    def __call__(self, x):\n",
    "        return torch.ones((x.shape[0], 1)).to(device) * np.mean(y_train)\n",
    "\n",
    "rmse = eval_model(Constant())\n",
    "print(f\"constant model RMSE: {round(rmse, 3):.3f}\")"
   ]
  },
  {
   "cell_type": "markdown",
   "metadata": {},
   "source": [
    "### Training model"
   ]
  },
  {
   "cell_type": "code",
   "execution_count": 23,
   "metadata": {
    "tags": []
   },
   "outputs": [
    {
     "name": "stderr",
     "output_type": "stream",
     "text": [
      "  0%|          | 0/50 [00:00<?, ?it/s]/home/kubwa/anaconda3/envs/lecture/lib/python3.11/site-packages/torch/nn/modules/loss.py:538: UserWarning: Using a target size (torch.Size([256])) that is different to the input size (torch.Size([256, 1])). This will likely lead to incorrect results due to broadcasting. Please ensure they have the same size.\n",
      "  return F.mse_loss(input, target, reduction=self.reduction)\n",
      "/home/kubwa/anaconda3/envs/lecture/lib/python3.11/site-packages/torch/nn/modules/loss.py:538: UserWarning: Using a target size (torch.Size([67])) that is different to the input size (torch.Size([67, 1])). This will likely lead to incorrect results due to broadcasting. Please ensure they have the same size.\n",
      "  return F.mse_loss(input, target, reduction=self.reduction)\n",
      "100%|██████████| 50/50 [00:03<00:00, 14.46it/s]\n"
     ]
    },
    {
     "data": {
      "image/png": "[encoded data removed]",
      "text/plain": [
       "<Figure size 640x480 with 1 Axes>"
      ]
     },
     "metadata": {},
     "output_type": "display_data"
    }
   ],
   "source": [
    "losses = train_model(baseline_model, 50)\n",
    "\n",
    "plt.plot(losses);"
   ]
  },
  {
   "cell_type": "code",
   "execution_count": 24,
   "metadata": {
    "tags": []
   },
   "outputs": [
    {
     "name": "stdout",
     "output_type": "stream",
     "text": [
      "trained RMSE: 0.950\n"
     ]
    }
   ],
   "source": [
    "rmse = eval_model(baseline_model)\n",
    "print(f\"trained RMSE: {rmse:.3f}\")"
   ]
  },
  {
   "cell_type": "code",
   "execution_count": null,
   "metadata": {
    "tags": []
   },
   "outputs": [],
   "source": [
    "samples = 10\n",
    "# first ten examples\n",
    "examples_torch, _ = next(iter(dataloader_test))\n",
    "predicted = baseline_model(examples_torch[:samples])\n",
    "predicted = predicted.detach().cpu().numpy()\n",
    "for idx in range(samples):\n",
    "    print(f\"Predicted: {round(float(predicted[idx][0]), 1)} - Actual: {y_test[idx].item()}\")"
   ]
  },
  {
   "cell_type": "code",
   "execution_count": 27,
   "metadata": {
    "tags": []
   },
   "outputs": [
    {
     "name": "stdout",
     "output_type": "stream",
     "text": [
      "Predicted: 5.7 - Actual: 6.0\n",
      "Predicted: 5.9 - Actual: 6.0\n",
      "Predicted: 5.8 - Actual: 4.0\n",
      "Predicted: 5.7 - Actual: 5.0\n",
      "Predicted: 5.6 - Actual: 7.0\n",
      "Predicted: 5.6 - Actual: 6.0\n",
      "Predicted: 5.7 - Actual: 7.0\n",
      "Predicted: 5.7 - Actual: 5.0\n",
      "Predicted: 5.7 - Actual: 7.0\n",
      "Predicted: 5.7 - Actual: 6.0\n"
     ]
    }
   ],
   "source": [
    "samples = 10\n",
    "\n",
    "# first ten examples\n",
    "examples_torch, y_test = next(iter(dataloader_test))  # 라벨 포함 데이터 가져오기\n",
    "predicted = baseline_model(examples_torch[:samples])  # 모델 예측\n",
    "predicted = predicted.detach().cpu().numpy()  # NumPy로 변환\n",
    "\n",
    "for idx in range(samples):\n",
    "    # 실제값과 예측값 출력\n",
    "    print(f\"Predicted: {round(float(predicted[idx][0]), 1)} - Actual: {y_test[idx].item()}\")"
   ]
  },
  {
   "cell_type": "markdown",
   "metadata": {},
   "source": [
    "## Simple Dropout Mode\n",
    "다음에서는 확률적 가중치로 구성된 선형 레이어를 구현하는 것으로 시작합니다. 출력 레이어는 이전과 동일하게 유지됩니다."
   ]
  },
  {
   "cell_type": "code",
   "execution_count": 28,
   "metadata": {
    "tags": []
   },
   "outputs": [],
   "source": [
    "import torch.nn as nn\n",
    "\n",
    "class DropoutMLP(nn.Module):\n",
    "    def __init__(self, input_dim, hidden_dim, dropout_proba):\n",
    "        super(DropoutMLP, self).__init__()\n",
    "        self.hidden_layer1 = nn.Linear(input_dim, hidden_dim)\n",
    "        self.dropout1 = nn.Dropout(dropout_proba)\n",
    "        self.hidden_layer2 = nn.Linear(hidden_dim, hidden_dim)\n",
    "        self.dropout2 = nn.Dropout(dropout_proba)\n",
    "        self.out_layer = nn.Linear(hidden_dim, 1)\n",
    "        self.act = torch.relu\n",
    "        \n",
    "    def forward(self, inputs):\n",
    "        # First layer\n",
    "        h = self.hidden_layer1(inputs)\n",
    "        h = self.act(h)\n",
    "        h = self.dropout1(h)\n",
    "        # Second layer\n",
    "        h = self.hidden_layer2(h)\n",
    "        h = self.act(h)\n",
    "        h = self.dropout2(h)\n",
    "        # Output layer\n",
    "        output = self.out_layer(h)\n",
    "        return output"
   ]
  },
  {
   "cell_type": "code",
   "execution_count": 29,
   "metadata": {
    "tags": []
   },
   "outputs": [
    {
     "data": {
      "text/plain": [
       "[352, 32, 1024, 32, 32, 1]"
      ]
     },
     "execution_count": 29,
     "metadata": {},
     "output_type": "execute_result"
    }
   ],
   "source": [
    "dropout_model = DropoutMLP(11, 32, 0.1).to(device)\n",
    "[p.numel() for p in dropout_model.parameters()]\n",
    "#mu, rho, W_output, b_output, batch_norm mu, batch_norm sigma"
   ]
  },
  {
   "cell_type": "code",
   "execution_count": 30,
   "metadata": {
    "tags": []
   },
   "outputs": [
    {
     "name": "stderr",
     "output_type": "stream",
     "text": [
      "100%|██████████| 200/200 [00:12<00:00, 15.89it/s]\n"
     ]
    },
    {
     "data": {
      "image/png": "[encoded data removed]",
      "text/plain": [
       "<Figure size 640x480 with 1 Axes>"
      ]
     },
     "metadata": {},
     "output_type": "display_data"
    }
   ],
   "source": [
    "losses = train_model(dropout_model, 200)\n",
    "plt.plot(losses);"
   ]
  },
  {
   "cell_type": "markdown",
   "metadata": {},
   "source": [
    "### Evaluating the model\n",
    "이제 단일 추정치 대신 예측 분포가 있으므로 여러 개의 드롭아웃 마스크를 샘플링하고 테스트 세트의 각 예제에 대해 여러 예측을 계산할 수 있습니다. 이를 통해 분포 평균, 분산을 확인하거나 히스토그램을 표시할 수 있다.\n",
    "\n",
    "하지만 먼저 MC 드롭아웃이 아닌 표준 드롭아웃에서 전통적으로 수행되는 결정론적 방식으로 모델을 평가해 보면:"
   ]
  },
  {
   "cell_type": "code",
   "execution_count": 31,
   "metadata": {
    "tags": []
   },
   "outputs": [
    {
     "name": "stdout",
     "output_type": "stream",
     "text": [
      "trained deterministic network RMSE: 0.950\n"
     ]
    }
   ],
   "source": [
    "# 확률적이지 않은 드롭아웃은 테스트 시점에 다른 동작을 합니다(가중치에 1-p를 곱함).\n",
    "rmse = eval_model(baseline_model)\n",
    "print(f\"trained deterministic network RMSE: {rmse:.3f}\")"
   ]
  },
  {
   "cell_type": "code",
   "execution_count": 39,
   "metadata": {
    "tags": []
   },
   "outputs": [],
   "source": [
    "def enable_dropout(model):\n",
    "    \"\"\" Function to enable the dropout layers during test-time \"\"\"\n",
    "    for m in model.modules():\n",
    "        if isinstance(m, nn.Dropout):\n",
    "            m.train()\n",
    "\n",
    "def compute_predictions(model, n_samples=20):\n",
    "    \"\"\" Compute `n_samples` predictions for each example in the test set\"\"\"\n",
    "    model.eval()\n",
    "    enable_dropout(model)  # 테스트 시간에 드롭아웃 활성화\n",
    "    n_test = len(dataset_test)\n",
    "    dropout_predictions = np.zeros((n_samples, n_test))\n",
    "    \n",
    "    for i in range(n_samples):\n",
    "        with torch.no_grad():\n",
    "            batch_y = np.squeeze(model(tensor_X_test.to(device)).cpu().numpy())\n",
    "            dropout_predictions[i] = batch_y\n",
    "\n",
    "    mean = np.mean(dropout_predictions, axis=0)  # 예측값 평균\n",
    "    variance = np.var(dropout_predictions, axis=0)  # 예측값 분산\n",
    "    return dropout_predictions, mean, variance"
   ]
  },
  {
   "cell_type": "code",
   "execution_count": 40,
   "metadata": {
    "tags": []
   },
   "outputs": [],
   "source": [
    "preds, mean, var = compute_predictions(dropout_model)"
   ]
  },
  {
   "cell_type": "code",
   "execution_count": 42,
   "metadata": {
    "tags": []
   },
   "outputs": [],
   "source": [
    "def display_predictions(predictions, targets, idxs):\n",
    "    \"\"\" Display predictions for examples in the test set indexed by the list `idxs`\"\"\"\n",
    "    prediction_mean = np.mean(predictions, axis=0).tolist()\n",
    "    prediction_min = np.min(predictions, axis=0).tolist()\n",
    "    prediction_max = np.max(predictions, axis=0).tolist()\n",
    "    prediction_range = (np.max(predictions, axis=0) - np.min(predictions, axis=0)).tolist()\n",
    "\n",
    "    for idx in idxs:\n",
    "        print(\n",
    "            f\"Predictions mean: {round(prediction_mean[idx], 2)}, \"\n",
    "            f\"min: {round(prediction_min[idx], 2)}, \"\n",
    "            f\"max: {round(prediction_max[idx], 2)}, \"\n",
    "            f\"range: {round(prediction_range[idx], 2)} - \"\n",
    "            f\"Actual: {targets[idx].item()}\"\n",
    "        )\n",
    "    plt.boxplot(predictions[:, idxs].T)\n",
    "    plt.plot(range(1, len(idxs) + 1), targets[idxs].cpu().numpy(), 'r.', alpha=0.8)\n",
    "    plt.xlabel(\"Sample Index\")\n",
    "    plt.ylabel(\"Prediction\")\n",
    "    plt.title(\"Prediction Boxplot with Actual Values\")\n",
    "    plt.show()"
   ]
  },
  {
   "cell_type": "code",
   "execution_count": 44,
   "metadata": {
    "tags": []
   },
   "outputs": [
    {
     "name": "stdout",
     "output_type": "stream",
     "text": [
      "Predictions mean: 5.92, min: 5.54, max: 6.28, range: 0.74 - Actual: 8.0\n",
      "Predictions mean: 5.95, min: 5.35, max: 6.28, range: 0.93 - Actual: 5.0\n",
      "Predictions mean: 5.83, min: 5.01, max: 6.28, range: 1.28 - Actual: 7.0\n",
      "Predictions mean: 5.9, min: 5.39, max: 6.29, range: 0.9 - Actual: 6.0\n",
      "Predictions mean: 5.95, min: 5.38, max: 6.28, range: 0.91 - Actual: 7.0\n",
      "Predictions mean: 5.87, min: 5.39, max: 6.28, range: 0.89 - Actual: 5.0\n",
      "Predictions mean: 5.88, min: 4.58, max: 6.29, range: 1.72 - Actual: 5.0\n",
      "Predictions mean: 5.9, min: 5.56, max: 6.28, range: 0.73 - Actual: 7.0\n",
      "Predictions mean: 5.78, min: 5.02, max: 6.11, range: 1.09 - Actual: 5.0\n",
      "Predictions mean: 5.85, min: 5.34, max: 6.28, range: 0.95 - Actual: 7.0\n"
     ]
    },
    {
     "data": {
      "image/png": "[encoded data removed]",
      "text/plain": [
       "<Figure size 640x480 with 1 Axes>"
      ]
     },
     "metadata": {},
     "output_type": "display_data"
    }
   ],
   "source": [
    "# 유효한 예측 범위 내에서 무작위 인덱스 생성\n",
    "idxs = np.random.choice(range(min(preds.shape[1], len(y_test))), size=10, replace=False)\n",
    "\n",
    "# 선택한 인덱스에 대한 예측 표시\n",
    "display_predictions(preds, y_test, idxs)"
   ]
  },
  {
   "cell_type": "markdown",
   "metadata": {},
   "source": [
    "단일 추정치와 비교할 때, 예측의 경험적 평균은 RMSE가 더 낮다:"
   ]
  },
  {
   "cell_type": "code",
   "execution_count": 50,
   "metadata": {
    "tags": []
   },
   "outputs": [
    {
     "name": "stdout",
     "output_type": "stream",
     "text": [
      "mean prediction RMSE: 0.923\n"
     ]
    }
   ],
   "source": [
    "errors = []\n",
    "for y_hat, y in zip(mean, y_test.cpu().numpy()):\n",
    "    errors.append((y_hat - y)**2)\n",
    "\n",
    "rmse = np.sqrt(np.mean(np.concatenate(errors, axis=None)))\n",
    "print(f\"mean prediction RMSE: {round(rmse, 3):.3f}\")"
   ]
  },
  {
   "cell_type": "markdown",
   "metadata": {},
   "source": [
    "또한 모델이 일정한 값이 아닌 테스트 예제에 따라 달라지는 변수를 생성하는 것을 확인할 수 있다:"
   ]
  },
  {
   "cell_type": "code",
   "execution_count": 51,
   "metadata": {
    "tags": []
   },
   "outputs": [
    {
     "data": {
      "image/png": "[encoded data removed]",
      "text/plain": [
       "<Figure size 640x480 with 1 Axes>"
      ]
     },
     "metadata": {},
     "output_type": "display_data"
    }
   ],
   "source": [
    "plt.hist(var, bins=40, alpha=0.4, color=\"b\");"
   ]
  },
  {
   "cell_type": "markdown",
   "metadata": {},
   "source": [
    "## Comparing different values of $p$"
   ]
  },
  {
   "cell_type": "markdown",
   "metadata": {},
   "source": [
    "하이퍼파라미터로 선택한 $p$의 다양한 값의 결과가 $p=0.1, p=0.2$와 같은 다양한 값으로 비슷한 결과(즉, 분산)로 수렴해야 한다.\n",
    "\n",
    "예를 들면 $p=0.5$를 선택하여 $p$의 여러 값을 테스트할 수 있으며 수렴을 보장하기 위해 에포크 수를 늘리는 것도 좋은 방법일 수 있다($p$가 높을수록 느려짐).\n",
    "\n",
    "분산은 Emprical Varation을 계산:\n",
    "$$V_{q(y^\\-star|x^\\-star)} = V^{empirical} + τ^{-1}$$\n",
    "\n",
    "여기서 $τ = \\frac{pl^2}{2N\\lambda}$, $p$는 탈락 확률, $l$은 가중치 초기화에 따른 초모수, $N$은 데이터 포인트 수, $\\lambda$는 가중치 감쇠 파라미터이다. 실제로는 다른 파라미터를 조정할 수 있으므로 경험적 분산만 사용한다.(예를 들어 가중치 감쇠는 임의로 작게 설정하여 $τ^{-1}$를 무시할 수 있다.)."
   ]
  },
  {
   "cell_type": "code",
   "execution_count": 54,
   "metadata": {
    "tags": []
   },
   "outputs": [
    {
     "name": "stdout",
     "output_type": "stream",
     "text": [
      "training model with p=0.0\n"
     ]
    },
    {
     "name": "stderr",
     "output_type": "stream",
     "text": [
      "100%|██████████| 200/200 [00:12<00:00, 16.16it/s]\n"
     ]
    },
    {
     "name": "stdout",
     "output_type": "stream",
     "text": [
      "p=0.0 mean prediction RMSE: 0.903\n",
      "p=0.0 average variance: 0.000\n",
      "training model with p=0.01\n"
     ]
    },
    {
     "name": "stderr",
     "output_type": "stream",
     "text": [
      "100%|██████████| 200/200 [00:13<00:00, 14.75it/s]\n"
     ]
    },
    {
     "name": "stdout",
     "output_type": "stream",
     "text": [
      "p=0.01 mean prediction RMSE: 0.915\n",
      "p=0.01 average variance: 0.017\n",
      "training model with p=0.1\n"
     ]
    },
    {
     "name": "stderr",
     "output_type": "stream",
     "text": [
      "100%|██████████| 200/200 [00:13<00:00, 14.70it/s]\n"
     ]
    },
    {
     "name": "stdout",
     "output_type": "stream",
     "text": [
      "p=0.1 mean prediction RMSE: 0.945\n",
      "p=0.1 average variance: 0.050\n",
      "training model with p=0.2\n"
     ]
    },
    {
     "name": "stderr",
     "output_type": "stream",
     "text": [
      "100%|██████████| 200/200 [00:13<00:00, 14.93it/s]\n"
     ]
    },
    {
     "name": "stdout",
     "output_type": "stream",
     "text": [
      "p=0.2 mean prediction RMSE: 0.917\n",
      "p=0.2 average variance: 0.053\n",
      "training model with p=0.4\n"
     ]
    },
    {
     "name": "stderr",
     "output_type": "stream",
     "text": [
      "100%|██████████| 200/200 [00:12<00:00, 15.48it/s]"
     ]
    },
    {
     "name": "stdout",
     "output_type": "stream",
     "text": [
      "p=0.4 mean prediction RMSE: 0.916\n",
      "p=0.4 average variance: 0.010\n"
     ]
    },
    {
     "name": "stderr",
     "output_type": "stream",
     "text": [
      "\n"
     ]
    }
   ],
   "source": [
    "variances =[]\n",
    "for p in [0.0, 0.01, 0.1, 0.2, 0.4]:\n",
    "    print(f\"training model with p={p}\")\n",
    "    dropout_model = DropoutMLP(11, 32, p).to(device)\n",
    "    losses = train_model(dropout_model, 200)\n",
    "    preds, mean, var = compute_predictions(dropout_model)\n",
    "    variances.append(var)\n",
    "    \n",
    "    errors = []\n",
    "    for y_hat, y in zip(mean, y_test.cpu().numpy()):\n",
    "        errors.append((y_hat - y)**2)\n",
    "\n",
    "    rmse = np.sqrt(np.mean(np.concatenate(errors, axis=None)))\n",
    "    print(f\"p={p} mean prediction RMSE: {round(rmse, 3):.3f}\")\n",
    "    print(f\"p={p} average variance: {np.mean(var):.3f}\")"
   ]
  },
  {
   "cell_type": "code",
   "execution_count": 55,
   "metadata": {
    "tags": []
   },
   "outputs": [
    {
     "data": {
      "text/plain": [
       "(735, 5)"
      ]
     },
     "execution_count": 55,
     "metadata": {},
     "output_type": "execute_result"
    }
   ],
   "source": [
    "np.vstack(variances[:]).T.shape"
   ]
  },
  {
   "cell_type": "code",
   "execution_count": 56,
   "metadata": {
    "tags": []
   },
   "outputs": [
    {
     "data": {
      "image/png": "[encoded data removed]",
      "text/plain": [
       "<Figure size 640x480 with 1 Axes>"
      ]
     },
     "metadata": {},
     "output_type": "display_data"
    }
   ],
   "source": [
    "plt.hist(np.vstack(variances[1:]).T, histtype='step', bins=40, label=[f\"p={p}\" for p in [0.01, 0.1, 0.2, 0.4]], \n",
    "         fill=False, alpha=0.6, linewidth=2, hatch='..');\n",
    "plt.legend();"
   ]
  },
  {
   "cell_type": "code",
   "execution_count": 58,
   "metadata": {
    "tags": []
   },
   "outputs": [
    {
     "name": "stdout",
     "output_type": "stream",
     "text": [
      "training model with p=0.2\n"
     ]
    },
    {
     "name": "stderr",
     "output_type": "stream",
     "text": [
      "100%|██████████| 1000/1000 [01:02<00:00, 16.08it/s]"
     ]
    },
    {
     "name": "stdout",
     "output_type": "stream",
     "text": [
      "p=0.2 mean prediction RMSE: 0.916\n",
      "p=0.2 average variance: 0.000\n"
     ]
    },
    {
     "name": "stderr",
     "output_type": "stream",
     "text": [
      "\n"
     ]
    }
   ],
   "source": [
    "# long run\n",
    "p = 0.2\n",
    "print(f\"training model with p={p}\")\n",
    "\n",
    "dropout_model = DropoutMLP(11, 32, p).to(device)\n",
    "losses = train_model(dropout_model, 1000)\n",
    "preds, mean, var = compute_predictions(dropout_model)\n",
    "\n",
    "errors = []\n",
    "for y_hat, y in zip(mean, y_test.cpu().numpy()):\n",
    "    errors.append((y_hat - y)**2)\n",
    "\n",
    "rmse = np.sqrt(np.mean(np.concatenate(errors, axis=None)))\n",
    "print(f\"p={p} mean prediction RMSE: {round(rmse, 3):.3f}\")\n",
    "print(f\"p={p} average variance: {np.mean(var):.3f}\")"
   ]
  },
  {
   "cell_type": "code",
   "execution_count": 76,
   "metadata": {
    "tags": []
   },
   "outputs": [
    {
     "name": "stdout",
     "output_type": "stream",
     "text": [
      "Predictions mean: 5.87, min: 5.87, max: 5.87, range: 0.0 - Actual: 6.0\n",
      "Predictions mean: 5.87, min: 5.87, max: 5.87, range: 0.0 - Actual: 5.0\n",
      "Predictions mean: 5.87, min: 5.87, max: 5.87, range: 0.0 - Actual: 6.0\n",
      "Predictions mean: 5.87, min: 5.87, max: 5.87, range: 0.0 - Actual: 7.0\n",
      "Predictions mean: 5.87, min: 5.87, max: 5.87, range: 0.0 - Actual: 6.0\n",
      "Predictions mean: 5.87, min: 5.87, max: 5.87, range: 0.0 - Actual: 7.0\n",
      "Predictions mean: 5.87, min: 5.87, max: 5.87, range: 0.0 - Actual: 7.0\n",
      "Predictions mean: 5.87, min: 5.87, max: 5.87, range: 0.0 - Actual: 6.0\n",
      "Predictions mean: 5.87, min: 5.87, max: 5.87, range: 0.0 - Actual: 7.0\n",
      "Predictions mean: 5.87, min: 5.87, max: 5.87, range: 0.0 - Actual: 6.0\n"
     ]
    },
    {
     "data": {
      "image/png": "[encoded data removed]",
      "text/plain": [
       "<Figure size 640x480 with 1 Axes>"
      ]
     },
     "metadata": {},
     "output_type": "display_data"
    }
   ],
   "source": [
    "# 유효한 예측 범위 내에서 무작위 인덱스 생성\n",
    "idxs = np.random.choice(range(min(preds.shape[1], len(y_test))), size=10, replace=False)\n",
    "\n",
    "# 선택한 인덱스에 대한 예측 표시\n",
    "display_predictions(preds, y_test, idxs)"
   ]
  }
 ],
 "metadata": {
  "accelerator": "GPU",
  "colab": {
   "collapsed_sections": [],
   "name": "BayesianDeepWine",
   "provenance": [],
   "toc_visible": true
  },
  "kernelspec": {
   "display_name": "lecture",
   "language": "python",
   "name": "lecture"
  },
  "language_info": {
   "codemirror_mode": {
    "name": "ipython",
    "version": 3
   },
   "file_extension": ".py",
   "mimetype": "text/x-python",
   "name": "python",
   "nbconvert_exporter": "python",
   "pygments_lexer": "ipython3",
   "version": "3.11.7"
  },
  "toc": {
   "base_numbering": 1,
   "nav_menu": {},
   "number_sections": true,
   "sideBar": true,
   "skip_h1_title": false,
   "title_cell": "Table of Contents",
   "title_sidebar": "Contents",
   "toc_cell": false,
   "toc_position": {},
   "toc_section_display": true,
   "toc_window_display": false
  }
 },
 "nbformat": 4,
 "nbformat_minor": 4
}
