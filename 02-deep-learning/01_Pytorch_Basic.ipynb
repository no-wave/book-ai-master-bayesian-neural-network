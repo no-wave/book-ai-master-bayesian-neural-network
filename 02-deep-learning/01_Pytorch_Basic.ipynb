{
 "cells": [
  {
   "cell_type": "markdown",
   "id": "705a0fce-9e0b-4b8d-8aaa-8aee5faec61a",
   "metadata": {},
   "source": [
    "# Deep Learning : Pytorch"
   ]
  },
  {
   "cell_type": "markdown",
   "id": "066ae8c6-2793-4e1d-8a5d-7004968bfd58",
   "metadata": {},
   "source": [
    "- GPU 사용을 위한 CUDA 버전에 따른 설치는 여기서 확인: https://pytorch.org/get-started/previous-versions/"
   ]
  },
  {
   "cell_type": "markdown",
   "id": "6fb30ab5-6cea-46c8-9529-fd596289ccb3",
   "metadata": {},
   "source": [
    "## 1. Pytroch Autograd"
   ]
  },
  {
   "cell_type": "code",
   "execution_count": null,
   "id": "b8822cce-d48e-4844-8029-a1f5c7b3adb2",
   "metadata": {},
   "outputs": [],
   "source": [
    "!pip install torch\n"
   ]
  },
  {
   "cell_type": "code",
   "execution_count": 1,
   "id": "8508b422-2305-4cdc-b7eb-e3f4a554e67a",
   "metadata": {
    "tags": []
   },
   "outputs": [
    {
     "data": {
      "text/plain": [
       "'2.0.1+cu117'"
      ]
     },
     "execution_count": 1,
     "metadata": {},
     "output_type": "execute_result"
    }
   ],
   "source": [
    "import torch\n",
    "torch.__version__"
   ]
  },
  {
   "cell_type": "code",
   "execution_count": 2,
   "id": "b723ddcd-86ff-4951-b91d-6691bd361a23",
   "metadata": {
    "tags": []
   },
   "outputs": [],
   "source": [
    "x = torch.randn(3)\n",
    "y = x + 2"
   ]
  },
  {
   "cell_type": "code",
   "execution_count": 3,
   "id": "438862d6-33fb-42e5-b774-2465c1a69eaa",
   "metadata": {
    "tags": []
   },
   "outputs": [
    {
     "data": {
      "text/plain": [
       "tensor([-0.4798, -0.9456,  0.3479])"
      ]
     },
     "execution_count": 3,
     "metadata": {},
     "output_type": "execute_result"
    }
   ],
   "source": [
    "x"
   ]
  },
  {
   "cell_type": "code",
   "execution_count": 4,
   "id": "2981eda6-c80f-456b-b977-dc81f3c0dad9",
   "metadata": {
    "tags": []
   },
   "outputs": [
    {
     "data": {
      "text/plain": [
       "tensor([1.5202, 1.0544, 2.3479])"
      ]
     },
     "execution_count": 4,
     "metadata": {},
     "output_type": "execute_result"
    }
   ],
   "source": [
    "y"
   ]
  },
  {
   "cell_type": "code",
   "execution_count": 5,
   "id": "92a4558e-dd57-4227-8a8e-377e9a4448d9",
   "metadata": {
    "tags": []
   },
   "outputs": [
    {
     "data": {
      "text/plain": [
       "tensor([ 6.9331,  3.3353, 16.5379])"
      ]
     },
     "execution_count": 5,
     "metadata": {},
     "output_type": "execute_result"
    }
   ],
   "source": [
    "z = y * y * 3\n",
    "z"
   ]
  },
  {
   "cell_type": "code",
   "execution_count": 6,
   "id": "b1b02d90-9fad-4d66-ba0a-bbb6470b3593",
   "metadata": {
    "tags": []
   },
   "outputs": [
    {
     "data": {
      "text/plain": [
       "tensor(8.9354)"
      ]
     },
     "execution_count": 6,
     "metadata": {},
     "output_type": "execute_result"
    }
   ],
   "source": [
    "z.mean()"
   ]
  },
  {
   "cell_type": "code",
   "execution_count": 9,
   "id": "438dd32e-f8c2-46d3-aa2a-4550362061b9",
   "metadata": {
    "tags": []
   },
   "outputs": [
    {
     "data": {
      "text/plain": [
       "8.935440063476562"
      ]
     },
     "execution_count": 9,
     "metadata": {},
     "output_type": "execute_result"
    }
   ],
   "source": [
    "z.mean().item()"
   ]
  },
  {
   "cell_type": "code",
   "execution_count": 10,
   "id": "ad52abcb-c93f-4c80-820f-3a5b82ad26b0",
   "metadata": {
    "tags": []
   },
   "outputs": [
    {
     "data": {
      "text/plain": [
       "tensor([[0.6245, 0.5441],\n",
       "        [0.9295, 0.7642]], requires_grad=True)"
      ]
     },
     "execution_count": 10,
     "metadata": {},
     "output_type": "execute_result"
    }
   ],
   "source": [
    "# requires_grad를 지정\n",
    "a = torch.rand(2, 2, requires_grad=True)\n",
    "a"
   ]
  },
  {
   "cell_type": "code",
   "execution_count": 11,
   "id": "8de29277-c5c1-4b38-8720-2c387ddf684a",
   "metadata": {
    "tags": []
   },
   "outputs": [
    {
     "data": {
      "text/plain": [
       "True"
      ]
     },
     "execution_count": 11,
     "metadata": {},
     "output_type": "execute_result"
    }
   ],
   "source": [
    "a.requires_grad"
   ]
  },
  {
   "cell_type": "code",
   "execution_count": 12,
   "id": "66ca213c-215a-4720-9c13-d2e180ff8bc1",
   "metadata": {
    "tags": []
   },
   "outputs": [
    {
     "data": {
      "text/plain": [
       "tensor([[0.6245, 0.5441],\n",
       "        [0.9295, 0.7642]])"
      ]
     },
     "execution_count": 12,
     "metadata": {},
     "output_type": "execute_result"
    }
   ],
   "source": [
    "a.detach()"
   ]
  },
  {
   "cell_type": "code",
   "execution_count": 17,
   "id": "887b2f27-03b6-4d8c-ac01-f13399a03fd5",
   "metadata": {
    "tags": []
   },
   "outputs": [
    {
     "name": "stdout",
     "output_type": "stream",
     "text": [
      "tensor([0.2302, 0.8942, 0.1210])\n"
     ]
    }
   ],
   "source": [
    "# torch.no_grad() \n",
    "with torch.no_grad():\n",
    "    print(x**2)"
   ]
  },
  {
   "cell_type": "code",
   "execution_count": 18,
   "id": "c97eda68-c83c-4068-9a40-36d5720cb795",
   "metadata": {
    "tags": []
   },
   "outputs": [
    {
     "name": "stdout",
     "output_type": "stream",
     "text": [
      "tensor([3., 3., 3., 3.])\n",
      "tensor([3., 3., 3., 3.])\n",
      "tensor([3., 3., 3., 3.])\n",
      "tensor([3., 3., 3., 3.])\n",
      "tensor([3., 3., 3., 3.])\n",
      "tensor([-0.5000, -0.5000, -0.5000, -0.5000], requires_grad=True)\n",
      "tensor(-2.4000, grad_fn=<SumBackward0>)\n"
     ]
    }
   ],
   "source": [
    "weight = torch.ones(4, requires_grad=True)\n",
    "\n",
    "for epoch in range(5):\n",
    "    model_out = (weight*3).sum()\n",
    "    model_out.backward()\n",
    "    \n",
    "    print(weight.grad)\n",
    "    \n",
    "    with torch.no_grad():\n",
    "        weight-= 0.1 * weight.grad\n",
    "        \n",
    "    weight.grad.zero_()\n",
    "    \n",
    "print(weight)\n",
    "print(model_out)"
   ]
  },
  {
   "cell_type": "markdown",
   "id": "09b9f5a7-6b23-4422-99b8-299c2f2a278a",
   "metadata": {},
   "source": [
    "## 2. Backpropagation"
   ]
  },
  {
   "cell_type": "code",
   "execution_count": 27,
   "id": "2c1d46d9-de97-4634-adb3-56c5a12da602",
   "metadata": {
    "tags": []
   },
   "outputs": [],
   "source": [
    "x = torch.tensor(1.0)\n",
    "y = torch.tensor(2.0)"
   ]
  },
  {
   "cell_type": "code",
   "execution_count": 28,
   "id": "e00a9099-7d2c-49bc-9818-923a2a474a0e",
   "metadata": {
    "tags": []
   },
   "outputs": [],
   "source": [
    "w = torch.tensor(1.0, requires_grad=True)"
   ]
  },
  {
   "cell_type": "code",
   "execution_count": 29,
   "id": "865809a2-a304-46c1-9681-370296cfd960",
   "metadata": {
    "tags": []
   },
   "outputs": [
    {
     "data": {
      "text/plain": [
       "tensor(1., requires_grad=True)"
      ]
     },
     "execution_count": 29,
     "metadata": {},
     "output_type": "execute_result"
    }
   ],
   "source": [
    "w"
   ]
  },
  {
   "cell_type": "code",
   "execution_count": 30,
   "id": "363393a3-da6e-44a3-bbb4-7849c4b08c90",
   "metadata": {
    "tags": []
   },
   "outputs": [
    {
     "name": "stdout",
     "output_type": "stream",
     "text": [
      "tensor(1., grad_fn=<PowBackward0>)\n"
     ]
    }
   ],
   "source": [
    "y_predict = w * x\n",
    "loss = (y - y_predict)**2\n",
    "print(loss)"
   ]
  },
  {
   "cell_type": "code",
   "execution_count": 31,
   "id": "3aa3eab4-b5c9-4033-8bd0-265855ac73f9",
   "metadata": {
    "tags": []
   },
   "outputs": [
    {
     "data": {
      "text/plain": [
       "tensor(-2.)"
      ]
     },
     "execution_count": 31,
     "metadata": {},
     "output_type": "execute_result"
    }
   ],
   "source": [
    "loss.backward()\n",
    "w.grad"
   ]
  },
  {
   "cell_type": "code",
   "execution_count": 33,
   "id": "e85151b1-fcfe-47eb-b56d-e78c743a1400",
   "metadata": {
    "tags": []
   },
   "outputs": [
    {
     "data": {
      "text/plain": [
       "tensor(0.)"
      ]
     },
     "execution_count": 33,
     "metadata": {},
     "output_type": "execute_result"
    }
   ],
   "source": [
    "with torch.no_grad():\n",
    "    w -= 0.01 * w.grad\n",
    "w.grad.zero_()"
   ]
  },
  {
   "cell_type": "markdown",
   "id": "960827ab-a0a7-438b-bcd4-33f7c52366b0",
   "metadata": {},
   "source": [
    "## 3. Gradient Descent"
   ]
  },
  {
   "cell_type": "markdown",
   "id": "d0bfcc70-6507-45cc-8f37-cbc43a508ee3",
   "metadata": {},
   "source": [
    "### 3.1 Manual Build"
   ]
  },
  {
   "cell_type": "code",
   "execution_count": 56,
   "id": "ea51a6a2-8ee5-42c7-8ab3-91a367ce1c2d",
   "metadata": {
    "tags": []
   },
   "outputs": [],
   "source": [
    "import numpy as np\n",
    "\n",
    "X = np.array([1,2,3,4], dtype=np.float32)\n",
    "Y = np.array([2,4,6,8], dtype=np.float32)\n",
    "\n",
    "w = 0.0"
   ]
  },
  {
   "cell_type": "code",
   "execution_count": 57,
   "id": "26d0b8a6-4411-40d0-a951-820079094ce0",
   "metadata": {
    "tags": []
   },
   "outputs": [],
   "source": [
    "def forward(x):\n",
    "    return w*x"
   ]
  },
  {
   "cell_type": "code",
   "execution_count": 58,
   "id": "f4213a48-8563-4c60-ba4f-98c3195ee00f",
   "metadata": {
    "tags": []
   },
   "outputs": [],
   "source": [
    "def loss(y, y_pred):\n",
    "    return ((y_pred - y)**2).mean()"
   ]
  },
  {
   "cell_type": "code",
   "execution_count": 59,
   "id": "1b09db66-5baa-43c8-847f-3ac1a8802a7b",
   "metadata": {
    "tags": []
   },
   "outputs": [
    {
     "name": "stdout",
     "output_type": "stream",
     "text": [
      "0.0\n"
     ]
    }
   ],
   "source": [
    "def gradient(x, y, y_pred):\n",
    "    return np.dot(2*x, y_pred-y).mean()\n",
    "print(forward(5))"
   ]
  },
  {
   "cell_type": "code",
   "execution_count": 60,
   "id": "c994f8a5-6beb-492e-b3a7-f831120a0e31",
   "metadata": {
    "tags": []
   },
   "outputs": [
    {
     "name": "stdout",
     "output_type": "stream",
     "text": [
      "epoch 1: w = 1.200, loss = 30.0000\n",
      "epoch 3: w = 1.872, loss = 0.7680\n",
      "epoch 5: w = 1.980, loss = 0.0197\n",
      "epoch 7: w = 1.997, loss = 0.0005\n",
      "epoch 9: w = 1.999, loss = 0.0000\n",
      "epoch 11: w = 2.000, loss = 0.0000\n",
      "epoch 13: w = 2.000, loss = 0.0000\n",
      "epoch 15: w = 2.000, loss = 0.0000\n",
      "epoch 17: w = 2.000, loss = 0.0000\n",
      "epoch 19: w = 2.000, loss = 0.0000\n",
      "predict after training: f(5) = 10.000\n"
     ]
    }
   ],
   "source": [
    "# training\n",
    "learning_rate = 0.01\n",
    "n_iters = 20\n",
    "\n",
    "for epoch in range(n_iters):\n",
    "    # foward pass\n",
    "    y_pred = forward(X)\n",
    "    \n",
    "    # loss\n",
    "    l = loss(Y, y_pred)\n",
    "    \n",
    "    # gradients 계산\n",
    "    dw = gradient(X, Y, y_pred)\n",
    "    \n",
    "    # update weight\n",
    "    w -= learning_rate * dw\n",
    "    \n",
    "    if epoch % 2 == 0:\n",
    "        print(f'epoch {epoch+1}: w = {w:.3f}, loss = {l:.4f}')\n",
    "print(f'predict after training: f(5) = {forward(5):.3f}')"
   ]
  },
  {
   "cell_type": "markdown",
   "id": "4e630d56-5a03-417b-b6c4-342c12c9ae41",
   "metadata": {},
   "source": [
    "### 3.2. Autograd"
   ]
  },
  {
   "cell_type": "code",
   "execution_count": 65,
   "id": "a3ef67fa-75ea-466f-80e8-468284cee2b7",
   "metadata": {
    "tags": []
   },
   "outputs": [],
   "source": [
    "import torch\n",
    "\n",
    "X = torch.tensor([1,2,3,4], dtype=torch.float32)\n",
    "Y = torch.tensor([2,4,6,8], dtype=torch.float32)\n",
    "\n",
    "w = torch.tensor(0.0, dtype=torch.float32, requires_grad=True)"
   ]
  },
  {
   "cell_type": "code",
   "execution_count": 66,
   "id": "fa9177cb-0698-4613-bbf1-21052c9eb6e7",
   "metadata": {
    "tags": []
   },
   "outputs": [],
   "source": [
    "def forward(x):\n",
    "    return w*x\n",
    "\n",
    "def loss(y, y_pred):\n",
    "    return ((y_pred-y)**2).mean()"
   ]
  },
  {
   "cell_type": "code",
   "execution_count": 67,
   "id": "10fefbfd-e231-4402-8dd3-222cfe507ca8",
   "metadata": {
    "tags": []
   },
   "outputs": [
    {
     "name": "stdout",
     "output_type": "stream",
     "text": [
      "epoch 1: w=0.300, loss=30.000000\n",
      "epoch 11: w=1.665, loss=1.162786\n",
      "epoch 21: w=1.934, loss=0.045069\n",
      "epoch 31: w=1.987, loss=0.001747\n",
      "epoch 41: w=1.997, loss=0.000068\n",
      "epoch 51: w=1.999, loss=0.000003\n",
      "epoch 61: w=2.000, loss=0.000000\n",
      "epoch 71: w=2.000, loss=0.000000\n",
      "epoch 81: w=2.000, loss=0.000000\n",
      "epoch 91: w=2.000, loss=0.000000\n",
      "Prediction after trining: f(5)=10.000\n"
     ]
    }
   ],
   "source": [
    "# torch training\n",
    "learning_rate = 0.01\n",
    "n_iters = 100\n",
    "\n",
    "for epoch in range(n_iters):\n",
    "    # foward predict\n",
    "    y_pred = forward(X)\n",
    "    \n",
    "    # loss\n",
    "    l = loss(Y, y_pred)\n",
    "    \n",
    "    # backward pass\n",
    "    l.backward()\n",
    "    \n",
    "    # update weights\n",
    "    # w.data = w.data - learning_rate*w.grad\n",
    "    with torch.no_grad():\n",
    "        w -= learning_rate * w.grad\n",
    "        \n",
    "    # update 후에 w를 zero화 시킨다\n",
    "    w.grad.zero_()\n",
    "    \n",
    "    if epoch % 10 == 0:\n",
    "        print(f'epoch {epoch+1}: w={w.item():.3f}, loss={l.item():4f}')\n",
    "        \n",
    "print(f'Prediction after trining: f(5)={forward(5).item():.3f}')"
   ]
  },
  {
   "cell_type": "markdown",
   "id": "4eb466d7-2441-4ffe-b84d-8e4645aacb9c",
   "metadata": {},
   "source": [
    "## 4. Loss Function & Optimizer"
   ]
  },
  {
   "cell_type": "code",
   "execution_count": 71,
   "id": "27b94acd-6e02-44cd-b234-eaa399fb13fe",
   "metadata": {
    "tags": []
   },
   "outputs": [],
   "source": [
    "import torch\n",
    "import torch.nn as nn\n",
    "\n",
    "X = torch.tensor([1,2,3,4], dtype=torch.float32)\n",
    "Y = torch.tensor([2,4,6,8], dtype=torch.float32)\n",
    "\n",
    "w = torch.tensor(0.0, dtype=torch.float32, requires_grad=True)"
   ]
  },
  {
   "cell_type": "code",
   "execution_count": 72,
   "id": "c6f255f9-f4eb-4730-ae64-1ce7f932596c",
   "metadata": {
    "tags": []
   },
   "outputs": [],
   "source": [
    "def forward(x):\n",
    "    return w*x"
   ]
  },
  {
   "cell_type": "code",
   "execution_count": 73,
   "id": "26c7afce-e3c9-4c21-b3be-871970a89a56",
   "metadata": {
    "tags": []
   },
   "outputs": [],
   "source": [
    "learning_rate = 0.01\n",
    "n_iters = 100"
   ]
  },
  {
   "cell_type": "code",
   "execution_count": 74,
   "id": "1625dca3-fad2-49db-8418-5a8a343d6dc5",
   "metadata": {
    "tags": []
   },
   "outputs": [],
   "source": [
    "# loss function and optimizer\n",
    "loss = nn.MSELoss()\n",
    "optimizer = torch.optim.SGD([w], lr=learning_rate)"
   ]
  },
  {
   "cell_type": "code",
   "execution_count": 75,
   "id": "a4c4a20f-f486-4077-8a8e-cdaf44e5a865",
   "metadata": {
    "tags": []
   },
   "outputs": [
    {
     "name": "stdout",
     "output_type": "stream",
     "text": [
      "epoch 1 :w= tensor(0.3000, requires_grad=True) loss= tensor(30., grad_fn=<MseLossBackward0>)\n",
      "epoch 11 :w= tensor(1.6653, requires_grad=True) loss= tensor(1.1628, grad_fn=<MseLossBackward0>)\n",
      "epoch 21 :w= tensor(1.9341, requires_grad=True) loss= tensor(0.0451, grad_fn=<MseLossBackward0>)\n",
      "epoch 31 :w= tensor(1.9870, requires_grad=True) loss= tensor(0.0017, grad_fn=<MseLossBackward0>)\n",
      "epoch 41 :w= tensor(1.9974, requires_grad=True) loss= tensor(6.7705e-05, grad_fn=<MseLossBackward0>)\n",
      "epoch 51 :w= tensor(1.9995, requires_grad=True) loss= tensor(2.6244e-06, grad_fn=<MseLossBackward0>)\n",
      "epoch 61 :w= tensor(1.9999, requires_grad=True) loss= tensor(1.0176e-07, grad_fn=<MseLossBackward0>)\n",
      "epoch 71 :w= tensor(2.0000, requires_grad=True) loss= tensor(3.9742e-09, grad_fn=<MseLossBackward0>)\n",
      "epoch 81 :w= tensor(2.0000, requires_grad=True) loss= tensor(1.4670e-10, grad_fn=<MseLossBackward0>)\n",
      "epoch 91 :w= tensor(2.0000, requires_grad=True) loss= tensor(5.0768e-12, grad_fn=<MseLossBackward0>)\n",
      "Prediction after trining: f(5)=10.000\n"
     ]
    }
   ],
   "source": [
    "for epoch in range(n_iters):\n",
    "    # foward predict\n",
    "    y_pred = forward(X)\n",
    "    \n",
    "    # loss\n",
    "    l = loss(Y, y_pred)\n",
    "    \n",
    "    # backward pass\n",
    "    l.backward()\n",
    "    \n",
    "    # update weights\n",
    "    optimizer.step()\n",
    "        \n",
    "    # update 후에 w를 zero화 시킨다\n",
    "    optimizer.zero_grad()\n",
    "    \n",
    "    if epoch % 10 == 0:\n",
    "        print('epoch', epoch+1, ':w=', w, 'loss=', l)\n",
    "        \n",
    "print(f'Prediction after trining: f(5)={forward(5).item():.3f}')"
   ]
  },
  {
   "cell_type": "markdown",
   "id": "3bfcc54f-e412-46b0-ac5c-25aec4510c13",
   "metadata": {},
   "source": [
    "## 5. Advanced Training"
   ]
  },
  {
   "cell_type": "code",
   "execution_count": 104,
   "id": "0b600114-75b3-4104-989a-8c2be2ae5617",
   "metadata": {
    "tags": []
   },
   "outputs": [],
   "source": [
    "import torch\n",
    "import torch.nn as nn\n",
    "\n",
    "X = torch.tensor([[1],[2],[3],[4]], dtype=torch.float32)\n",
    "Y = torch.tensor([[2],[4],[6],[8]], dtype=torch.float32)\n",
    "\n",
    "n_samples, n_features = X.shape"
   ]
  },
  {
   "cell_type": "code",
   "execution_count": 105,
   "id": "0af1787d-606e-40d0-9cac-0485d5b7f6fa",
   "metadata": {
    "tags": []
   },
   "outputs": [
    {
     "data": {
      "text/plain": [
       "tensor([5.])"
      ]
     },
     "execution_count": 105,
     "metadata": {},
     "output_type": "execute_result"
    }
   ],
   "source": [
    "X_test = torch.tensor([5], dtype=torch.float32)\n",
    "X_test"
   ]
  },
  {
   "cell_type": "code",
   "execution_count": 106,
   "id": "c6739bac-ba17-4a21-840e-cd6889a7b5cc",
   "metadata": {
    "tags": []
   },
   "outputs": [],
   "source": [
    "input_size = X.shape[1]\n",
    "output_size = Y.shape[1]"
   ]
  },
  {
   "cell_type": "code",
   "execution_count": 107,
   "id": "9302ef08-632c-4879-9c59-c21c4b5c009b",
   "metadata": {
    "tags": []
   },
   "outputs": [],
   "source": [
    "# model build\n",
    "model = nn.Linear(input_size, output_size)"
   ]
  },
  {
   "cell_type": "code",
   "execution_count": 108,
   "id": "26844000-7d77-4a47-9665-bf290750e7c4",
   "metadata": {
    "tags": []
   },
   "outputs": [],
   "source": [
    "class LinearRegression(nn.Module):\n",
    "    def __init__(self, input_dim, output_dim):\n",
    "        super(LinearRegression, self).__init__()\n",
    "        # define layers\n",
    "        self.lin = nn.Linear(input_dim, output_dim)\n",
    "    \n",
    "    def forward(self, x):\n",
    "        return self.lin(x)"
   ]
  },
  {
   "cell_type": "code",
   "execution_count": 109,
   "id": "295803c6-f0be-442c-857f-60de7c677310",
   "metadata": {
    "tags": []
   },
   "outputs": [],
   "source": [
    "model = LinearRegression(input_size, output_size)"
   ]
  },
  {
   "cell_type": "code",
   "execution_count": 110,
   "id": "781046c4-bff2-4226-b802-415962391c90",
   "metadata": {
    "tags": []
   },
   "outputs": [],
   "source": [
    "learning_rate=0.01\n",
    "n_iters=100\n",
    "\n",
    "# loss function and optimizer\n",
    "loss = nn.MSELoss()\n",
    "optimizer = torch.optim.SGD(model.parameters(), lr=learning_rate)"
   ]
  },
  {
   "cell_type": "code",
   "execution_count": 111,
   "id": "225f026b-723c-4da8-a8a8-a548b220a99c",
   "metadata": {
    "tags": []
   },
   "outputs": [
    {
     "name": "stdout",
     "output_type": "stream",
     "text": [
      "epoch 1 :w= -0.05885088071227074 loss= tensor(35.3990, grad_fn=<MseLossBackward0>)\n",
      "epoch 11 :w= 1.3112915754318237 loss= tensor(1.1753, grad_fn=<MseLossBackward0>)\n",
      "epoch 21 :w= 1.5422389507293701 loss= tensor(0.2748, grad_fn=<MseLossBackward0>)\n",
      "epoch 31 :w= 1.5896360874176025 loss= tensor(0.2372, grad_fn=<MseLossBackward0>)\n",
      "epoch 41 :w= 1.6072065830230713 loss= tensor(0.2229, grad_fn=<MseLossBackward0>)\n",
      "epoch 51 :w= 1.6196857690811157 loss= tensor(0.2099, grad_fn=<MseLossBackward0>)\n",
      "epoch 61 :w= 1.6310608386993408 loss= tensor(0.1977, grad_fn=<MseLossBackward0>)\n",
      "epoch 71 :w= 1.641981601715088 loss= tensor(0.1862, grad_fn=<MseLossBackward0>)\n",
      "epoch 81 :w= 1.6525605916976929 loss= tensor(0.1753, grad_fn=<MseLossBackward0>)\n",
      "epoch 91 :w= 1.662824273109436 loss= tensor(0.1651, grad_fn=<MseLossBackward0>)\n",
      "Prediction after trining: f(X_test)=9.324\n"
     ]
    }
   ],
   "source": [
    "for epoch in range(n_iters):\n",
    "    # foward predict\n",
    "    y_pred = model(X)\n",
    "    \n",
    "    # loss\n",
    "    l = loss(Y, y_pred)\n",
    "    \n",
    "    # backward pass\n",
    "    l.backward()\n",
    "    \n",
    "    # update weights\n",
    "    optimizer.step()\n",
    "        \n",
    "    # update 후에 w를 zero화 시킨다\n",
    "    optimizer.zero_grad()\n",
    "    \n",
    "    if epoch % 10 == 0:\n",
    "        w, b = model.parameters()\n",
    "        print('epoch', epoch+1, ':w=', w[0].item(), 'loss=', l)\n",
    "        \n",
    "print(f'Prediction after trining: f(X_test)={model(X_test).item():.3f}')"
   ]
  }
 ],
 "metadata": {
  "kernelspec": {
   "display_name": "pytorch",
   "language": "python",
   "name": "pytorch"
  },
  "language_info": {
   "codemirror_mode": {
    "name": "ipython",
    "version": 3
   },
   "file_extension": ".py",
   "mimetype": "text/x-python",
   "name": "python",
   "nbconvert_exporter": "python",
   "pygments_lexer": "ipython3",
   "version": "3.11.9"
  }
 },
 "nbformat": 4,
 "nbformat_minor": 5
}
