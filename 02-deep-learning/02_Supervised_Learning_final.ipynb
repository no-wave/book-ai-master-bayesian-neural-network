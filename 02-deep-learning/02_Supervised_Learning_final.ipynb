{
 "cells": [
  {
   "cell_type": "markdown",
   "id": "50a2674f-c062-41ff-be83-590aaa76bcbb",
   "metadata": {},
   "source": [
    "# Pytorch: Supervised Learning\n",
    "* Classification: AC Motor `vibration_10k.csv`"
   ]
  },
  {
   "cell_type": "markdown",
   "id": "b9db6d10-f086-4760-9389-8d7193464660",
   "metadata": {},
   "source": [
    "## Pytorch: Classification"
   ]
  },
  {
   "cell_type": "code",
   "execution_count": 34,
   "id": "8f556d40-8d9e-4d54-bb4f-fc9d74428636",
   "metadata": {
    "tags": []
   },
   "outputs": [],
   "source": [
    "import numpy as np\n",
    "import pandas as pd\n",
    "import matplotlib.pyplot as plt\n",
    "\n",
    "import torch\n",
    "import torch.nn as nn\n",
    "import torch.optim as optim\n",
    "from torch.utils.data import Dataset, DataLoader\n",
    "from tqdm.notebook import tqdm\n",
    "\n",
    "from sklearn.preprocessing import StandardScaler\n",
    "from sklearn.model_selection import train_test_split\n",
    "from sklearn.metrics import confusion_matrix, classification_report"
   ]
  },
  {
   "cell_type": "code",
   "execution_count": 35,
   "id": "9875e12b-6c15-4aeb-a563-db55bba0322a",
   "metadata": {
    "tags": []
   },
   "outputs": [
    {
     "data": {
      "text/html": [
       "<div>\n",
       "<style scoped>\n",
       "    .dataframe tbody tr th:only-of-type {\n",
       "        vertical-align: middle;\n",
       "    }\n",
       "\n",
       "    .dataframe tbody tr th {\n",
       "        vertical-align: top;\n",
       "    }\n",
       "\n",
       "    .dataframe thead th {\n",
       "        text-align: right;\n",
       "    }\n",
       "</style>\n",
       "<table border=\"1\" class=\"dataframe\">\n",
       "  <thead>\n",
       "    <tr style=\"text-align: right;\">\n",
       "      <th></th>\n",
       "      <th>Label_No</th>\n",
       "      <th>Label</th>\n",
       "      <th>Motor</th>\n",
       "      <th>WATT</th>\n",
       "      <th>AMP</th>\n",
       "      <th>AbsMax</th>\n",
       "      <th>AbsMean</th>\n",
       "      <th>P2P</th>\n",
       "      <th>RMS</th>\n",
       "      <th>Skewness</th>\n",
       "      <th>...</th>\n",
       "      <th>Shape</th>\n",
       "      <th>Impulse</th>\n",
       "      <th>1x</th>\n",
       "      <th>2x</th>\n",
       "      <th>3x</th>\n",
       "      <th>4x</th>\n",
       "      <th>1xB</th>\n",
       "      <th>2xB</th>\n",
       "      <th>3xB</th>\n",
       "      <th>4xB</th>\n",
       "    </tr>\n",
       "    <tr>\n",
       "      <th>Date</th>\n",
       "      <th></th>\n",
       "      <th></th>\n",
       "      <th></th>\n",
       "      <th></th>\n",
       "      <th></th>\n",
       "      <th></th>\n",
       "      <th></th>\n",
       "      <th></th>\n",
       "      <th></th>\n",
       "      <th></th>\n",
       "      <th></th>\n",
       "      <th></th>\n",
       "      <th></th>\n",
       "      <th></th>\n",
       "      <th></th>\n",
       "      <th></th>\n",
       "      <th></th>\n",
       "      <th></th>\n",
       "      <th></th>\n",
       "      <th></th>\n",
       "      <th></th>\n",
       "    </tr>\n",
       "  </thead>\n",
       "  <tbody>\n",
       "    <tr>\n",
       "      <th>2020-11-25 14:01:00</th>\n",
       "      <td>0.0</td>\n",
       "      <td>정상</td>\n",
       "      <td>L-CAHU-03R</td>\n",
       "      <td>11.0</td>\n",
       "      <td>22.0</td>\n",
       "      <td>0.054116</td>\n",
       "      <td>0.011482</td>\n",
       "      <td>0.092395</td>\n",
       "      <td>0.014053</td>\n",
       "      <td>-0.142563</td>\n",
       "      <td>...</td>\n",
       "      <td>1.223906</td>\n",
       "      <td>4.713012</td>\n",
       "      <td>0.021590</td>\n",
       "      <td>0.002832</td>\n",
       "      <td>0.000747</td>\n",
       "      <td>0.000476</td>\n",
       "      <td>0.000814</td>\n",
       "      <td>0.000405</td>\n",
       "      <td>0.000370</td>\n",
       "      <td>0.000278</td>\n",
       "    </tr>\n",
       "    <tr>\n",
       "      <th>2020-11-25 14:05:06</th>\n",
       "      <td>0.0</td>\n",
       "      <td>정상</td>\n",
       "      <td>L-CAHU-03R</td>\n",
       "      <td>11.0</td>\n",
       "      <td>22.0</td>\n",
       "      <td>0.051435</td>\n",
       "      <td>0.011649</td>\n",
       "      <td>0.088863</td>\n",
       "      <td>0.014295</td>\n",
       "      <td>-0.129078</td>\n",
       "      <td>...</td>\n",
       "      <td>1.227197</td>\n",
       "      <td>4.415492</td>\n",
       "      <td>0.021702</td>\n",
       "      <td>0.002757</td>\n",
       "      <td>0.000674</td>\n",
       "      <td>0.000674</td>\n",
       "      <td>0.000993</td>\n",
       "      <td>0.000407</td>\n",
       "      <td>0.000258</td>\n",
       "      <td>0.000224</td>\n",
       "    </tr>\n",
       "    <tr>\n",
       "      <th>2020-11-25 14:06:12</th>\n",
       "      <td>0.0</td>\n",
       "      <td>정상</td>\n",
       "      <td>L-CAHU-03R</td>\n",
       "      <td>11.0</td>\n",
       "      <td>22.0</td>\n",
       "      <td>0.046130</td>\n",
       "      <td>0.012619</td>\n",
       "      <td>0.085221</td>\n",
       "      <td>0.015276</td>\n",
       "      <td>-0.144933</td>\n",
       "      <td>...</td>\n",
       "      <td>1.210515</td>\n",
       "      <td>3.655473</td>\n",
       "      <td>0.021162</td>\n",
       "      <td>0.002808</td>\n",
       "      <td>0.000938</td>\n",
       "      <td>0.000420</td>\n",
       "      <td>0.000507</td>\n",
       "      <td>0.000395</td>\n",
       "      <td>0.000217</td>\n",
       "      <td>0.000176</td>\n",
       "    </tr>\n",
       "    <tr>\n",
       "      <th>2020-11-25 14:06:24</th>\n",
       "      <td>0.0</td>\n",
       "      <td>정상</td>\n",
       "      <td>L-CAHU-03R</td>\n",
       "      <td>11.0</td>\n",
       "      <td>22.0</td>\n",
       "      <td>0.053497</td>\n",
       "      <td>0.011505</td>\n",
       "      <td>0.093581</td>\n",
       "      <td>0.014059</td>\n",
       "      <td>-0.124687</td>\n",
       "      <td>...</td>\n",
       "      <td>1.221968</td>\n",
       "      <td>4.649777</td>\n",
       "      <td>0.021820</td>\n",
       "      <td>0.002246</td>\n",
       "      <td>0.000765</td>\n",
       "      <td>0.000583</td>\n",
       "      <td>0.000961</td>\n",
       "      <td>0.000614</td>\n",
       "      <td>0.000276</td>\n",
       "      <td>0.000347</td>\n",
       "    </tr>\n",
       "    <tr>\n",
       "      <th>2020-11-25 14:07:03</th>\n",
       "      <td>0.0</td>\n",
       "      <td>정상</td>\n",
       "      <td>L-PAHU-02S</td>\n",
       "      <td>37.0</td>\n",
       "      <td>71.1</td>\n",
       "      <td>0.073671</td>\n",
       "      <td>0.014504</td>\n",
       "      <td>0.123645</td>\n",
       "      <td>0.017763</td>\n",
       "      <td>-0.180152</td>\n",
       "      <td>...</td>\n",
       "      <td>1.224668</td>\n",
       "      <td>5.079276</td>\n",
       "      <td>0.000268</td>\n",
       "      <td>0.002277</td>\n",
       "      <td>0.000215</td>\n",
       "      <td>0.000851</td>\n",
       "      <td>0.000442</td>\n",
       "      <td>0.000774</td>\n",
       "      <td>0.000115</td>\n",
       "      <td>0.000496</td>\n",
       "    </tr>\n",
       "  </tbody>\n",
       "</table>\n",
       "<p>5 rows × 22 columns</p>\n",
       "</div>"
      ],
      "text/plain": [
       "                     Label_No Label       Motor  WATT   AMP    AbsMax  \\\n",
       "Date                                                                    \n",
       "2020-11-25 14:01:00       0.0    정상  L-CAHU-03R  11.0  22.0  0.054116   \n",
       "2020-11-25 14:05:06       0.0    정상  L-CAHU-03R  11.0  22.0  0.051435   \n",
       "2020-11-25 14:06:12       0.0    정상  L-CAHU-03R  11.0  22.0  0.046130   \n",
       "2020-11-25 14:06:24       0.0    정상  L-CAHU-03R  11.0  22.0  0.053497   \n",
       "2020-11-25 14:07:03       0.0    정상  L-PAHU-02S  37.0  71.1  0.073671   \n",
       "\n",
       "                      AbsMean       P2P       RMS  Skewness  ...     Shape  \\\n",
       "Date                                                         ...             \n",
       "2020-11-25 14:01:00  0.011482  0.092395  0.014053 -0.142563  ...  1.223906   \n",
       "2020-11-25 14:05:06  0.011649  0.088863  0.014295 -0.129078  ...  1.227197   \n",
       "2020-11-25 14:06:12  0.012619  0.085221  0.015276 -0.144933  ...  1.210515   \n",
       "2020-11-25 14:06:24  0.011505  0.093581  0.014059 -0.124687  ...  1.221968   \n",
       "2020-11-25 14:07:03  0.014504  0.123645  0.017763 -0.180152  ...  1.224668   \n",
       "\n",
       "                      Impulse        1x        2x        3x        4x  \\\n",
       "Date                                                                    \n",
       "2020-11-25 14:01:00  4.713012  0.021590  0.002832  0.000747  0.000476   \n",
       "2020-11-25 14:05:06  4.415492  0.021702  0.002757  0.000674  0.000674   \n",
       "2020-11-25 14:06:12  3.655473  0.021162  0.002808  0.000938  0.000420   \n",
       "2020-11-25 14:06:24  4.649777  0.021820  0.002246  0.000765  0.000583   \n",
       "2020-11-25 14:07:03  5.079276  0.000268  0.002277  0.000215  0.000851   \n",
       "\n",
       "                          1xB       2xB       3xB       4xB  \n",
       "Date                                                         \n",
       "2020-11-25 14:01:00  0.000814  0.000405  0.000370  0.000278  \n",
       "2020-11-25 14:05:06  0.000993  0.000407  0.000258  0.000224  \n",
       "2020-11-25 14:06:12  0.000507  0.000395  0.000217  0.000176  \n",
       "2020-11-25 14:06:24  0.000961  0.000614  0.000276  0.000347  \n",
       "2020-11-25 14:07:03  0.000442  0.000774  0.000115  0.000496  \n",
       "\n",
       "[5 rows x 22 columns]"
      ]
     },
     "execution_count": 35,
     "metadata": {},
     "output_type": "execute_result"
    }
   ],
   "source": [
    "df = pd.read_csv('../dataset/vibration_10k.csv', index_col=0)\n",
    "df.head()"
   ]
  },
  {
   "cell_type": "code",
   "execution_count": 36,
   "id": "0380f029-a1fa-4b88-a825-2ebfc7fe482d",
   "metadata": {
    "tags": []
   },
   "outputs": [
    {
     "data": {
      "text/plain": [
       "(10000, 22)"
      ]
     },
     "execution_count": 36,
     "metadata": {},
     "output_type": "execute_result"
    }
   ],
   "source": [
    "df.shape"
   ]
  },
  {
   "cell_type": "code",
   "execution_count": 37,
   "id": "2c5d93c9-bbae-44b0-9c57-1d3589acc549",
   "metadata": {
    "tags": []
   },
   "outputs": [
    {
     "name": "stdout",
     "output_type": "stream",
     "text": [
      "<class 'pandas.core.frame.DataFrame'>\n",
      "Index: 10000 entries, 2020-11-25 14:01:00 to 2021-01-31 17:55:22\n",
      "Data columns (total 22 columns):\n",
      " #   Column    Non-Null Count  Dtype  \n",
      "---  ------    --------------  -----  \n",
      " 0   Label_No  10000 non-null  float64\n",
      " 1   Label     10000 non-null  object \n",
      " 2   Motor     10000 non-null  object \n",
      " 3   WATT      10000 non-null  float64\n",
      " 4   AMP       10000 non-null  float64\n",
      " 5   AbsMax    9988 non-null   float64\n",
      " 6   AbsMean   10000 non-null  float64\n",
      " 7   P2P       10000 non-null  float64\n",
      " 8   RMS       10000 non-null  float64\n",
      " 9   Skewness  10000 non-null  float64\n",
      " 10  Kurtosis  10000 non-null  float64\n",
      " 11  Crest     10000 non-null  float64\n",
      " 12  Shape     10000 non-null  float64\n",
      " 13  Impulse   10000 non-null  float64\n",
      " 14  1x        10000 non-null  float64\n",
      " 15  2x        10000 non-null  float64\n",
      " 16  3x        10000 non-null  float64\n",
      " 17  4x        10000 non-null  float64\n",
      " 18  1xB       10000 non-null  float64\n",
      " 19  2xB       10000 non-null  float64\n",
      " 20  3xB       10000 non-null  float64\n",
      " 21  4xB       10000 non-null  float64\n",
      "dtypes: float64(20), object(2)\n",
      "memory usage: 1.8+ MB\n"
     ]
    }
   ],
   "source": [
    "df.info()"
   ]
  },
  {
   "cell_type": "code",
   "execution_count": 38,
   "id": "b9a842a1-8c19-4a60-be90-2c6ebd8920c9",
   "metadata": {
    "tags": []
   },
   "outputs": [
    {
     "data": {
      "text/plain": [
       "Label\n",
       "정상        4612\n",
       "벨트느슨함     1654\n",
       "축정렬불량     1337\n",
       "베어링불량     1243\n",
       "회전체불평형    1154\n",
       "Name: count, dtype: int64"
      ]
     },
     "execution_count": 38,
     "metadata": {},
     "output_type": "execute_result"
    }
   ],
   "source": [
    "df['Label'].value_counts()"
   ]
  },
  {
   "cell_type": "code",
   "execution_count": 39,
   "id": "eaa73371-71b0-4594-9050-665325c24633",
   "metadata": {
    "tags": []
   },
   "outputs": [
    {
     "data": {
      "text/plain": [
       "5"
      ]
     },
     "execution_count": 39,
     "metadata": {},
     "output_type": "execute_result"
    }
   ],
   "source": [
    "df['Label_No'].nunique()"
   ]
  },
  {
   "cell_type": "markdown",
   "id": "ad85fb39-0b52-4ebd-9e9e-bf1d05abe3ea",
   "metadata": {},
   "source": [
    "## 데이터 전처리"
   ]
  },
  {
   "cell_type": "code",
   "execution_count": 40,
   "id": "afd74a3b-eea6-4268-b0fe-c559648e0b02",
   "metadata": {
    "tags": []
   },
   "outputs": [
    {
     "data": {
      "text/plain": [
       "Label_No     0\n",
       "Label        0\n",
       "Motor        0\n",
       "WATT         0\n",
       "AMP          0\n",
       "AbsMax      12\n",
       "AbsMean      0\n",
       "P2P          0\n",
       "RMS          0\n",
       "Skewness     0\n",
       "Kurtosis     0\n",
       "Crest        0\n",
       "Shape        0\n",
       "Impulse      0\n",
       "1x           0\n",
       "2x           0\n",
       "3x           0\n",
       "4x           0\n",
       "1xB          0\n",
       "2xB          0\n",
       "3xB          0\n",
       "4xB          0\n",
       "dtype: int64"
      ]
     },
     "execution_count": 40,
     "metadata": {},
     "output_type": "execute_result"
    }
   ],
   "source": [
    "df.isnull().sum()"
   ]
  },
  {
   "cell_type": "code",
   "execution_count": 41,
   "id": "8185b7ac-954d-4c67-9649-066c2b0c65b4",
   "metadata": {
    "tags": []
   },
   "outputs": [
    {
     "data": {
      "text/plain": [
       "Label_No    0\n",
       "Label       0\n",
       "Motor       0\n",
       "WATT        0\n",
       "AMP         0\n",
       "AbsMax      0\n",
       "AbsMean     0\n",
       "P2P         0\n",
       "RMS         0\n",
       "Skewness    0\n",
       "Kurtosis    0\n",
       "Crest       0\n",
       "Shape       0\n",
       "Impulse     0\n",
       "1x          0\n",
       "2x          0\n",
       "3x          0\n",
       "4x          0\n",
       "1xB         0\n",
       "2xB         0\n",
       "3xB         0\n",
       "4xB         0\n",
       "dtype: int64"
      ]
     },
     "execution_count": 41,
     "metadata": {},
     "output_type": "execute_result"
    }
   ],
   "source": [
    "df['AbsMax'].fillna(df['AbsMax'].median(), inplace=True)\n",
    "df.isna().sum()"
   ]
  },
  {
   "cell_type": "markdown",
   "id": "3a9cdd9e-e394-4709-8cdb-3b6be8ffe613",
   "metadata": {},
   "source": [
    "## Train/Test/Validation split"
   ]
  },
  {
   "cell_type": "code",
   "execution_count": 42,
   "id": "d61032a7-f1b6-45fe-b9d5-3a80fa851e28",
   "metadata": {
    "tags": []
   },
   "outputs": [
    {
     "data": {
      "text/plain": [
       "((8100, 19), (900, 19), (1000, 19))"
      ]
     },
     "execution_count": 42,
     "metadata": {},
     "output_type": "execute_result"
    }
   ],
   "source": [
    "from sklearn.model_selection import train_test_split\n",
    "\n",
    "X = df.drop(['Label_No', 'Label', 'Motor'], axis=1).values.astype(np.float32)\n",
    "y = df['Label_No'].values\n",
    "\n",
    "X_train, X_test, y_train, y_test = train_test_split(X, y,\n",
    "                                                    train_size=0.9,\n",
    "                                                    random_state=100)\n",
    "X_train, X_val, y_train, y_val = train_test_split(X_train, y_train,\n",
    "                                                  train_size=0.9,\n",
    "                                                  random_state=100)\n",
    "\n",
    "X_train.shape, X_val.shape, X_test.shape"
   ]
  },
  {
   "cell_type": "code",
   "execution_count": 43,
   "id": "b717a7fb-af1e-4735-a4a3-676908dddbe3",
   "metadata": {
    "tags": []
   },
   "outputs": [],
   "source": [
    "sc = StandardScaler()\n",
    "X_train = sc.fit_transform(X_train)\n",
    "X_val = sc.transform(X_val)\n",
    "X_test = sc.transform(X_test)"
   ]
  },
  {
   "cell_type": "markdown",
   "id": "6129cffb-5c5b-4bf2-a824-587d2c7e714c",
   "metadata": {},
   "source": [
    "## Custom Dataset"
   ]
  },
  {
   "cell_type": "code",
   "execution_count": 44,
   "id": "c623d044-a4bd-4e4e-af1c-4730f58ccd02",
   "metadata": {
    "tags": []
   },
   "outputs": [],
   "source": [
    "class Dataset(Dataset):\n",
    "    def __init__(self, X_train, y_train):\n",
    "        self.X = torch.from_numpy(X_train)\n",
    "        self.y = torch.from_numpy(y_train).type(torch.LongTensor) # 0,1,2,3,4\n",
    "        self.len = self.X.shape[0]\n",
    "        \n",
    "    def __getitem__(self, index):\n",
    "        return self.X[index], self.y[index]\n",
    "    \n",
    "    def __len__(self):\n",
    "        return self.len"
   ]
  },
  {
   "cell_type": "code",
   "execution_count": 45,
   "id": "ec11e421-10e5-440b-9880-89f7144e2075",
   "metadata": {
    "tags": []
   },
   "outputs": [],
   "source": [
    "traindata = Dataset(X_train, y_train)\n",
    "valdata = Dataset(X_val, y_val)\n",
    "testdata = Dataset(X_test, y_test)"
   ]
  },
  {
   "cell_type": "code",
   "execution_count": 46,
   "id": "c4c97f76-f7e6-41e1-b7f7-114e358172c9",
   "metadata": {
    "tags": []
   },
   "outputs": [
    {
     "data": {
      "text/plain": [
       "(tensor([ 2.9360,  2.9223, -0.2450, -0.1864, -0.2465, -0.2145,  0.0336, -0.2420,\n",
       "         -0.1951, -0.1683, -0.1787,  0.1850, -0.4115, -0.1707, -0.1647, -0.1426,\n",
       "         -0.6645, -0.4022, -0.2380]),\n",
       " tensor(4))"
      ]
     },
     "execution_count": 46,
     "metadata": {},
     "output_type": "execute_result"
    }
   ],
   "source": [
    "traindata[0]"
   ]
  },
  {
   "cell_type": "code",
   "execution_count": 47,
   "id": "5b61608a-757a-4c84-8510-5acd77255bc2",
   "metadata": {
    "tags": []
   },
   "outputs": [],
   "source": [
    "BATCH_SIZE=64\n",
    "EPOCHS=20\n",
    "LEARNING_RATE=0.001\n",
    "NUM_FEATURES=X_train.shape[1]\n",
    "NUM_CLASSES=df['Label_No'].nunique()"
   ]
  },
  {
   "cell_type": "markdown",
   "id": "5bc49f94-9484-4794-9683-7732e698168d",
   "metadata": {},
   "source": [
    "## DataLoader"
   ]
  },
  {
   "cell_type": "code",
   "execution_count": 48,
   "id": "dc2839cd-9dca-44fd-9a73-d6af8c6e7c3e",
   "metadata": {
    "tags": []
   },
   "outputs": [],
   "source": [
    "train_loader = DataLoader(traindata,\n",
    "                          batch_size=BATCH_SIZE,\n",
    "                          shuffle=True)\n",
    "val_loader = DataLoader(valdata,\n",
    "                          batch_size=BATCH_SIZE,\n",
    "                          shuffle=True)\n",
    "test_loader = DataLoader(testdata,\n",
    "                          batch_size=1)"
   ]
  },
  {
   "cell_type": "markdown",
   "id": "ef114b51-fd47-4b3b-8fd2-25ffd0beb07b",
   "metadata": {},
   "source": [
    "## Model Build"
   ]
  },
  {
   "cell_type": "code",
   "execution_count": 49,
   "id": "c974228a-78e6-45f8-996e-6729f1d657b4",
   "metadata": {
    "tags": []
   },
   "outputs": [],
   "source": [
    "class MultiClassification(nn.Module):\n",
    "    def __init__(self, num_feature, num_class):\n",
    "        super(MultiClassification, self).__init__()\n",
    "        \n",
    "        self.layer_1 = nn.Linear(num_feature, 512)\n",
    "        self.layer_2 = nn.Linear(512, 128)\n",
    "        self.layer_3 = nn.Linear(128, 64)\n",
    "        self.layer_out = nn.Linear(64, num_class)\n",
    "        \n",
    "        self.relu = nn.ReLU()\n",
    "        #self.dropout = nn.Dropout(p=0.2)\n",
    "        #self.batchnorm1 = nn.BatchNorm1d(512)\n",
    "        #self.batchnorm2 = nn.BatchNorm1d(128)\n",
    "        #self.batchnorm3 = nn.BatchNorm1d(64)\n",
    "        \n",
    "    def forward(self, x):\n",
    "        x = self.layer_1(x)\n",
    "        #x = self.batchnorm1(x)\n",
    "        x = self.relu(x)\n",
    "        \n",
    "        x = self.layer_2(x)\n",
    "        #x = self.batchnorm2(x)\n",
    "        x = self.relu(x)\n",
    "        #x = self.dropout(x)\n",
    "        \n",
    "        x = self.layer_3(x)\n",
    "        #x = self.batchnorm3(x)\n",
    "        x = self.relu(x)\n",
    "        #x = self.dropout(x)\n",
    "        \n",
    "        x = self.layer_out(x) # softmax function을 적용x\n",
    "        return x"
   ]
  },
  {
   "cell_type": "code",
   "execution_count": 50,
   "id": "660cbc49-b8be-4709-951f-575e5306c77b",
   "metadata": {
    "tags": []
   },
   "outputs": [],
   "source": [
    "device = torch.device('cuda' if torch.cuda.is_available() else 'cpu')"
   ]
  },
  {
   "cell_type": "markdown",
   "id": "c6c03ef8-4c73-4bac-8a92-fef572b26451",
   "metadata": {},
   "source": [
    "## Loss Function & Optimizer"
   ]
  },
  {
   "cell_type": "code",
   "execution_count": 51,
   "id": "c09d7da7-d21d-46b0-92ff-f8a767233417",
   "metadata": {
    "tags": []
   },
   "outputs": [
    {
     "name": "stdout",
     "output_type": "stream",
     "text": [
      "MultiClassification(\n",
      "  (layer_1): Linear(in_features=19, out_features=512, bias=True)\n",
      "  (layer_2): Linear(in_features=512, out_features=128, bias=True)\n",
      "  (layer_3): Linear(in_features=128, out_features=64, bias=True)\n",
      "  (layer_out): Linear(in_features=64, out_features=5, bias=True)\n",
      "  (relu): ReLU()\n",
      ")\n"
     ]
    }
   ],
   "source": [
    "model = MultiClassification(NUM_FEATURES, NUM_CLASSES)\n",
    "model.to(device)\n",
    "\n",
    "criterion = nn.CrossEntropyLoss() #softmax 함수 포함\n",
    "optimizer = optim.Adam(model.parameters(), lr=LEARNING_RATE)\n",
    "print(model)"
   ]
  },
  {
   "cell_type": "markdown",
   "id": "afe2230d-5916-4a65-93d0-bb275ec427c8",
   "metadata": {},
   "source": [
    "## Training"
   ]
  },
  {
   "cell_type": "code",
   "execution_count": 52,
   "id": "5cab57d3-4714-4c73-8218-757d416c136c",
   "metadata": {
    "tags": []
   },
   "outputs": [],
   "source": [
    "def multi_acc(y_pred, y_test):\n",
    "    y_pred_softmax = torch.softmax(y_pred, dim=1)\n",
    "    _, y_pred_tags = torch.max(y_pred_softmax, dim=1)\n",
    "    \n",
    "    correct_pred = (y_pred_tags == y_test).float()\n",
    "    acc = correct_pred.sum() / len(correct_pred)\n",
    "    acc = torch.round(acc * 100)\n",
    "    return acc"
   ]
  },
  {
   "cell_type": "code",
   "execution_count": 53,
   "id": "b9554a1f-0afe-47f1-8413-0920370ac16e",
   "metadata": {
    "tags": []
   },
   "outputs": [
    {
     "data": {
      "application/vnd.jupyter.widget-view+json": {
       "model_id": "914f0e483abe4d9793f204d5365011b7",
       "version_major": 2,
       "version_minor": 0
      },
      "text/plain": [
       "  0%|          | 0/20 [00:00<?, ?it/s]"
      ]
     },
     "metadata": {},
     "output_type": "display_data"
    },
    {
     "name": "stdout",
     "output_type": "stream",
     "text": [
      "Epoch 001: | Train Loss: 0.902 | Val Loss: 0.572     | Train Acc: 65.047 | Val Acc: 74.267\n",
      "Epoch 002: | Train Loss: 0.437 | Val Loss: 0.285     | Train Acc: 83.488 | Val Acc: 91.667\n",
      "Epoch 003: | Train Loss: 0.220 | Val Loss: 0.160     | Train Acc: 92.528 | Val Acc: 95.333\n",
      "Epoch 004: | Train Loss: 0.173 | Val Loss: 0.137     | Train Acc: 93.646 | Val Acc: 96.067\n",
      "Epoch 005: | Train Loss: 0.142 | Val Loss: 0.125     | Train Acc: 94.614 | Val Acc: 95.333\n",
      "Epoch 006: | Train Loss: 0.126 | Val Loss: 0.096     | Train Acc: 95.291 | Val Acc: 97.133\n",
      "Epoch 007: | Train Loss: 0.106 | Val Loss: 0.077     | Train Acc: 95.819 | Val Acc: 97.733\n",
      "Epoch 008: | Train Loss: 0.095 | Val Loss: 0.082     | Train Acc: 96.417 | Val Acc: 96.933\n",
      "Epoch 009: | Train Loss: 0.088 | Val Loss: 0.072     | Train Acc: 96.535 | Val Acc: 97.933\n",
      "Epoch 010: | Train Loss: 0.093 | Val Loss: 0.099     | Train Acc: 96.323 | Val Acc: 95.200\n",
      "Epoch 011: | Train Loss: 0.079 | Val Loss: 0.074     | Train Acc: 96.843 | Val Acc: 97.133\n",
      "Epoch 012: | Train Loss: 0.088 | Val Loss: 0.085     | Train Acc: 96.528 | Val Acc: 96.800\n",
      "Epoch 013: | Train Loss: 0.086 | Val Loss: 0.095     | Train Acc: 96.488 | Val Acc: 94.933\n",
      "Epoch 014: | Train Loss: 0.075 | Val Loss: 0.065     | Train Acc: 97.118 | Val Acc: 97.400\n",
      "Epoch 015: | Train Loss: 0.070 | Val Loss: 0.057     | Train Acc: 97.378 | Val Acc: 97.733\n",
      "Epoch 016: | Train Loss: 0.077 | Val Loss: 0.048     | Train Acc: 96.465 | Val Acc: 98.200\n",
      "Epoch 017: | Train Loss: 0.058 | Val Loss: 0.044     | Train Acc: 97.567 | Val Acc: 98.267\n",
      "Epoch 018: | Train Loss: 0.059 | Val Loss: 0.040     | Train Acc: 97.433 | Val Acc: 98.200\n",
      "Epoch 019: | Train Loss: 0.058 | Val Loss: 0.045     | Train Acc: 97.559 | Val Acc: 98.267\n",
      "Epoch 020: | Train Loss: 0.056 | Val Loss: 0.043     | Train Acc: 97.622 | Val Acc: 98.267\n"
     ]
    }
   ],
   "source": [
    "accuracy_stats = {'train':[], 'val':[]}\n",
    "loss_stats = {'train':[], 'val':[]}\n",
    "\n",
    "for epoch in tqdm(range(1, EPOCHS+1)):\n",
    "    \n",
    "    # train\n",
    "    train_epoch_loss = 0\n",
    "    train_epoch_acc = 0\n",
    "    for X_train_batch, y_train_batch in train_loader:\n",
    "        X_train_batch, y_train_batch = X_train_batch.to(device), y_train_batch.to(device)\n",
    "        \n",
    "        y_train_pred = model(X_train_batch)\n",
    "        train_loss = criterion(y_train_pred, y_train_batch)\n",
    "        train_acc = multi_acc(y_train_pred, y_train_batch)\n",
    "        \n",
    "        train_loss.backward()\n",
    "        optimizer.step()\n",
    "        optimizer.zero_grad()\n",
    "        \n",
    "        train_epoch_loss += train_loss.item()\n",
    "        train_epoch_acc += train_acc.item()\n",
    "        \n",
    "    # validation\n",
    "    with torch.no_grad():\n",
    "        val_epoch_loss = 0\n",
    "        val_epoch_acc = 0\n",
    "        \n",
    "        model.eval() # validation 또는 test 시에 학습된 모델을 evaluation만 하겠다.\n",
    "        \n",
    "        for X_val_batch, y_val_batch in val_loader:\n",
    "            X_val_batch, y_val_batch = X_val_batch.to(device), y_val_batch.to(device)\n",
    "\n",
    "            y_val_pred = model(X_val_batch)\n",
    "            val_loss = criterion(y_val_pred, y_val_batch)\n",
    "            val_acc = multi_acc(y_val_pred, y_val_batch)\n",
    "\n",
    "            val_epoch_loss += val_loss.item()\n",
    "            val_epoch_acc += val_acc.item()\n",
    "            \n",
    "    loss_stats['train'].append(train_epoch_loss/len(train_loader))\n",
    "    loss_stats['val'].append(val_epoch_loss/len(val_loader))\n",
    "    accuracy_stats['train'].append(train_epoch_acc/len(train_loader))\n",
    "    accuracy_stats['val'].append(val_epoch_acc/len(val_loader))\n",
    "    \n",
    "    print(f'Epoch {epoch+0:03}: | Train Loss: {train_epoch_loss/len(train_loader):.3f} | Val Loss: {val_epoch_loss/len(val_loader):.3f} \\\n",
    "    | Train Acc: {train_epoch_acc/len(train_loader):.3f} | Val Acc: {val_epoch_acc/len(val_loader):.3f}')\n",
    "    "
   ]
  },
  {
   "cell_type": "markdown",
   "id": "4bfbfa7f-2b5e-40cd-a621-fa08c2b00c34",
   "metadata": {},
   "source": [
    "## Loss/Accuracy Visualization"
   ]
  },
  {
   "cell_type": "code",
   "execution_count": 54,
   "id": "0e7a0188-1123-4576-80e9-20718a2eac69",
   "metadata": {
    "tags": []
   },
   "outputs": [
    {
     "data": {
      "image/png": "[encoded data removed]",
      "text/plain": [
       "<Figure size 2000x700 with 2 Axes>"
      ]
     },
     "metadata": {},
     "output_type": "display_data"
    }
   ],
   "source": [
    "fig, ax = plt.subplots(1, 2, figsize=(20,7))\n",
    "\n",
    "ax[0].plot(accuracy_stats['train'], label='train')\n",
    "ax[0].plot(accuracy_stats['val'], label='val')\n",
    "ax[0].set_title('Accuracy')\n",
    "ax[0].legend(loc='best')\n",
    "\n",
    "ax[1].plot(loss_stats['train'], label='train')\n",
    "ax[1].plot(loss_stats['val'], label='val')\n",
    "ax[1].set_title('Loss')\n",
    "ax[1].legend(loc='best')\n",
    "\n",
    "plt.show()"
   ]
  },
  {
   "cell_type": "markdown",
   "id": "25540d43-fb5a-437f-babc-779a6a8e8aed",
   "metadata": {},
   "source": [
    "## Inference"
   ]
  },
  {
   "cell_type": "code",
   "execution_count": 55,
   "id": "fa0ce5db-b7c7-4a0d-ad3d-ef7fcf891eee",
   "metadata": {
    "tags": []
   },
   "outputs": [],
   "source": [
    "y_pred_list = []\n",
    "with torch.no_grad():\n",
    "    model.eval()\n",
    "    for X_batch, _ in test_loader:\n",
    "        X_batch = X_batch.to(device)\n",
    "        y_test_pred = model(X_batch)\n",
    "        _, y_pred_class = torch.max(y_test_pred, dim=1)\n",
    "        y_pred_list.append(y_pred_class.cpu().numpy())\n",
    "        \n",
    "#y_pred_list        "
   ]
  },
  {
   "cell_type": "code",
   "execution_count": 56,
   "id": "cc13d449-e9bf-45ee-8565-9cfccc52e906",
   "metadata": {
    "tags": []
   },
   "outputs": [
    {
     "name": "stdout",
     "output_type": "stream",
     "text": [
      "              precision    recall  f1-score   support\n",
      "\n",
      "         0.0       0.95      0.99      0.97       460\n",
      "         1.0       0.98      0.85      0.91       123\n",
      "         2.0       1.00      1.00      1.00       107\n",
      "         3.0       0.98      0.98      0.98       131\n",
      "         4.0       1.00      0.98      0.99       179\n",
      "\n",
      "    accuracy                           0.97      1000\n",
      "   macro avg       0.98      0.96      0.97      1000\n",
      "weighted avg       0.97      0.97      0.97      1000\n",
      "\n"
     ]
    }
   ],
   "source": [
    "print(classification_report(y_test, y_pred_list))"
   ]
  },
  {
   "cell_type": "markdown",
   "id": "157eaa17-db63-47e4-a204-64a8ba8ac537",
   "metadata": {},
   "source": [
    "## Save & Load Model\n",
    "1. model 전체를 저장: `torch.save(model명, 저장 path)`\n",
    "1. model dict 형식으로 저장: `torch.save(model명.state_dict(), 저장 path)`"
   ]
  },
  {
   "cell_type": "code",
   "execution_count": 58,
   "id": "5c9cb312-a569-40a0-85f5-803bc948ce55",
   "metadata": {},
   "outputs": [],
   "source": [
    "torch.save(model, 'models/acmotor.pth') # 모델 저장 확장자명은 *.pt, *.pth"
   ]
  },
  {
   "cell_type": "code",
   "execution_count": 60,
   "id": "dc00dfb8-6c28-4d3c-a7ff-81e50156210a",
   "metadata": {
    "tags": []
   },
   "outputs": [],
   "source": [
    "torch.save(model.state_dict(), 'models/acmotor_dict.pth') # 모델 저장 확장자명은 *.pt, *.pth"
   ]
  },
  {
   "cell_type": "code",
   "execution_count": 62,
   "id": "9b2b1152-2828-455e-8fc2-16a069c4d9b6",
   "metadata": {
    "tags": []
   },
   "outputs": [],
   "source": [
    "model_new = torch.load('models/acmotor.pth')"
   ]
  },
  {
   "cell_type": "code",
   "execution_count": 64,
   "id": "a4dd1162-b5f3-4943-a6c5-05955dd19a48",
   "metadata": {
    "tags": []
   },
   "outputs": [
    {
     "data": {
      "text/plain": [
       "<All keys matched successfully>"
      ]
     },
     "execution_count": 64,
     "metadata": {},
     "output_type": "execute_result"
    }
   ],
   "source": [
    "model_new.load_state_dict(torch.load('models/acmotor_dict.pth'))"
   ]
  }
 ],
 "metadata": {
  "kernelspec": {
   "display_name": "pytorch",
   "language": "python",
   "name": "pytorch"
  },
  "language_info": {
   "codemirror_mode": {
    "name": "ipython",
    "version": 3
   },
   "file_extension": ".py",
   "mimetype": "text/x-python",
   "name": "python",
   "nbconvert_exporter": "python",
   "pygments_lexer": "ipython3",
   "version": "3.11.9"
  }
 },
 "nbformat": 4,
 "nbformat_minor": 5
}
