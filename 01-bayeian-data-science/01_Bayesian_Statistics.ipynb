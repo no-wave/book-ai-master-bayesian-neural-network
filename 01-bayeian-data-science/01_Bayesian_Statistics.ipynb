{
 "cells": [
  {
   "cell_type": "markdown",
   "id": "231dea64-ef28-4826-8f04-2a75ab5085b6",
   "metadata": {},
   "source": [
    "# Bayesian Statistics"
   ]
  },
  {
   "cell_type": "markdown",
   "id": "dcbde8e1-aa14-4318-8337-0738616eadda",
   "metadata": {},
   "source": [
    "## 베이즈 정리\n",
    "\n",
    "베이즈 정리는 사건(Event)에 대한 사전 지식으로 얻을 수 있는 모든 이벤트의 확률을 설명하는 것으로 이해할 수 있다. 베이즈 정리는 사건에 대한 데이터가 있고 사건과 관련된 조건에 대한 사전 지식이 있는 경우 사건의 조건부 확률을 설명하는 데 사용한다. 예를 들어, 로지스틱 회귀와 같은 통계 모델에 대해 이야기할 때 주어진 데이터에 대한 확률 분포로 간주할 수 있으며, 이 모델의 경우 베이즈 정리를 사용하여 모델의 매개 변수를 추정한다.\n",
    "\n",
    "베이지안 통계의 확률은 신념의 정도로 취급할 수 있으므로, 베이지안 정리를 사용하여 정량화함으로써 신념을 생성할 수 있는 확률 분포를 매개변수(또는 매개변수 집합)에 직접 할당한다. 수학적으로 베이즈 정리는 다음과 같이 표현한다:\n",
    "\n",
    "\n",
    "여기서 A와 B는 두 개의 사건이다. 더 자세히 설명하기 위한 예를 들자면, 각각 몇 개의 색깔의 공으로 구성된 두 개의 가방 A와 B가 주어져 있다. 빨간 공이 뽑힐 경우 가방 A에서 빨간 공이 뽑힐 확률을 구하기 위해 베이즈 정리를 사용한다면 후행 이벤트가 이미 발생했다는 가정 하에 선행 이벤트의 확률을 구하는 과정이다."
   ]
  },
  {
   "cell_type": "markdown",
   "id": "dcec8445-afc8-4b88-bb8d-fb2ede322ec9",
   "metadata": {},
   "source": [
    "### 사전 확률\n",
    "\n",
    "베이즈 정리의 공식에서 P(A)는 A의 사전 확률을 의미합니다. 사전 확률 또는 사전은 불확실한 양의 확률 분포로 정의할 수 있으며, 이는 증거를 고려하지 않거나 고려하기 전에 불확실한 양에 대한 믿음을 표현하는 것이다. 예를 들어, 엄청난 수의 공을 양동이에 분배해야 하는 경우 특정 양동이에 들어갈 공의 비율을 나타내는 확률 분포를 사전 확률 분포로 간주한다. 미지의 양의 예는 모든 통계 모델의매개변수가 될 수 있습니다. 공식 P(A)는 어떤 증거가 고려되기 전에 A의 발생에 대한 믿음을 표현한다.\n",
    "\n",
    "### 확률 함수\n",
    "\n",
    "베이즈 정리 공식에서 P(B|A)는 관측된 데이터의 합동 확률을 설명하는 데 도움이 되는 모든 통계 모델의 매개변수 함수로 정의할 수 있는 가능성 함수로, 간단히 확률이라고 할 수 있다. A가 참이라는 것을 알았을 때 B의 확률로 더 단순화한다. 수치적으로는 명제 A에 대한 지지가 증거 B에 의해 주어지는 지지값이다.\n",
    "\n",
    "### 사후 확률\n",
    "\n",
    "베이즈 정리 공식에서 P(B|A)는 존재하고 고려되는 관련 증거에 대한 지식이 있을 때 임의의 사건이나 불확실한 명제의 조건부 확률로 정의할 수 있는 사후 확률을 말한다. 베이즈 정리 확률 공식에 따르면 이 값은 증거 B가 고려되었을 때 A의 확률을 나타낸다.\n",
    "\n",
    "위의 직관과 정의를 통해 베이즈 정리는 사후 확률은 가능성 확률, 사전 확률, 증거(B)가 참일 확률의 역의 곱과 같다는 식으로 쓸 수 있다.\n",
    "\n",
    "다음 글에서는 이러한 기본 베이지안 통계가 어떻게 작동하는지, 파이썬에서 어떻게 수행할 수 있는지 이해할 수 있도록 예제를 살펴보겠습니다."
   ]
  },
  {
   "cell_type": "markdown",
   "id": "8e2c4e84-53bf-4f3c-b719-7ddc8cba23e7",
   "metadata": {},
   "source": [
    "## Python 구현\n",
    "\n",
    "이 모든 용어를 파이썬으로 살펴볼 수 있는 예를 들어 보겠다:\n",
    "\n",
    "예를 들어 버킷 A와 B가 두 개 있다고 가정한다. 버킷 A에는 파란색 공 30개와 노란색 공 10개가 있고, 버킷 B에는 파란색 공 20개와 노란색 공 20개가 있다. 우리는 하나의 공을 선택해야 한다면, 버킷 A를 선택할 확률은 얼마나 될까?\n",
    "\n",
    "두 버킷 중 하나를 선택할 확률은 같지만 선택한 버킷에서 파란색 공을 골랐다고 말할 수 있으므로 문제는 버킷 A에서 파란색 공을 골랐을 확률이 얼마인가 하는 것과 같다."
   ]
  },
  {
   "cell_type": "markdown",
   "id": "485fc9ba-f4f4-45d0-9537-12474fba65d3",
   "metadata": {},
   "source": [
    "### 라이브러리 불러오기"
   ]
  },
  {
   "cell_type": "code",
   "execution_count": 3,
   "id": "d38a25e1-a503-4307-be32-bef4d0725340",
   "metadata": {
    "tags": []
   },
   "outputs": [],
   "source": [
    "import numpy as np\n",
    "import pandas as pd\n",
    "import matplotlib.pyplot as plt\n",
    "import seaborn as sns"
   ]
  },
  {
   "cell_type": "markdown",
   "id": "c27bdcfc-6cd6-40c9-ad5c-c4369283aaf8",
   "metadata": {},
   "source": [
    "질문에 따르면 가설(Hypothesis)과 나타날 확률은 다음과 같습다:"
   ]
  },
  {
   "cell_type": "code",
   "execution_count": 4,
   "id": "9bc1c70d-3233-46b6-a608-ed06a6aa26d9",
   "metadata": {
    "tags": []
   },
   "outputs": [],
   "source": [
    "hypos = 'bucket a', 'bucket b'\n",
    "probs= 1/2,1/2"
   ]
  },
  {
   "cell_type": "markdown",
   "id": "62a750d1-8445-4153-a403-3fc2300a0292",
   "metadata": {},
   "source": [
    "pandas 시리즈로 변환하여 계산을 수행한다:"
   ]
  },
  {
   "cell_type": "code",
   "execution_count": 5,
   "id": "45262c66-8ca1-4014-9dbc-d6880bcef869",
   "metadata": {
    "tags": []
   },
   "outputs": [
    {
     "name": "stdout",
     "output_type": "stream",
     "text": [
      "bucket a    0.5\n",
      "bucket b    0.5\n",
      "dtype: float64\n"
     ]
    }
   ],
   "source": [
    "prior = pd.Series(probs, hypos)\n",
    "print(prior)"
   ]
  },
  {
   "cell_type": "markdown",
   "id": "a8792f48-a98b-4411-80af-3b146df00aaa",
   "metadata": {},
   "source": [
    "여기서 시리즈는 이산 확률 변수의 확률 분포로 정의할 수 있는 확률 질량 함수를 나타내며, 보다 간단하게는 이산 확률 분포를 정의하는 도구로 간주할 수 있다.\n",
    "\n",
    "문제에 따르면, 우리는 양동이 A에서 파란색 공을 선택할 확률은 ¾이고 양동이 B에서 어떤 공이나 파란색 공을 선택할 확률은 ½이라는 것을 알고 있다. 이 확률 또는 확률은 Liklihood 가능도(또는 가능성)이라 정의할 수 있다.\n",
    "\n",
    "Liklihood 가능도는 결과 Y가 관측되었을 때 현상 X가 나타날 가능성"
   ]
  },
  {
   "cell_type": "code",
   "execution_count": 7,
   "id": "6f395df5-0351-4987-a4b1-e04fc2f55193",
   "metadata": {
    "tags": []
   },
   "outputs": [],
   "source": [
    "likelihood = 3/4, 1/2"
   ]
  },
  {
   "cell_type": "code",
   "execution_count": 8,
   "id": "55d5875f-d9cf-4a93-8778-6f5331b2d932",
   "metadata": {
    "tags": []
   },
   "outputs": [
    {
     "name": "stdout",
     "output_type": "stream",
     "text": [
      "bucket a    0.375\n",
      "bucket b    0.250\n",
      "dtype: float64\n"
     ]
    }
   ],
   "source": [
    "unnorm = prior * likelihood\n",
    "print(unnorm)"
   ]
  },
  {
   "cell_type": "markdown",
   "id": "040553e1-90ca-46b4-8f57-1f6bf17756b3",
   "metadata": {},
   "source": [
    "사후확률을 정규화하기 위하여 정규화되지 않은 사후확률을 정규화되지 않은 확률의 합으로 나눈다."
   ]
  },
  {
   "cell_type": "code",
   "execution_count": 12,
   "id": "d8bff5d5-e269-4db7-bad5-7ded0a74b5a0",
   "metadata": {
    "tags": []
   },
   "outputs": [
    {
     "data": {
      "text/plain": [
       "0.625"
      ]
     },
     "execution_count": 12,
     "metadata": {},
     "output_type": "execute_result"
    }
   ],
   "source": [
    "prob_data = unnorm.sum()\n",
    "prob_data"
   ]
  },
  {
   "cell_type": "code",
   "execution_count": 13,
   "id": "1a9400c8-7d54-4cba-833c-946ed5c4b9ab",
   "metadata": {
    "tags": []
   },
   "outputs": [
    {
     "data": {
      "text/plain": [
       "bucket a    0.6\n",
       "bucket b    0.4\n",
       "dtype: float64"
      ]
     },
     "execution_count": 13,
     "metadata": {},
     "output_type": "execute_result"
    }
   ],
   "source": [
    "posterior = unnorm / prob_data\n",
    "posterior"
   ]
  },
  {
   "cell_type": "markdown",
   "id": "d731d9be-9e56-41e0-9a86-602c50fd6270",
   "metadata": {},
   "source": [
    "여기서 베이즈 정리의 결과를 통해 파란색 공이 있는 버킷 A를 선택할 확률은 0.6이다.\n",
    "\n",
    "이제 위 문제와 비슷한 상황에서 이전에 들어 올린 블록을 다시 넣고 비슷한 양동이에서 공을 선택했는데 노란색 공이라고 가정해 보자. 이제 두 번 모두 양동이 A를 선택하여 공을 골랐을 확률은 얼마일까?\n",
    "\n",
    "여기서 첫 번째 문제에서 계산한 사후확률이 이 문제보다 앞선다고 말할 수 있는데, 이는 다음을 의미한다."
   ]
  },
  {
   "cell_type": "code",
   "execution_count": 14,
   "id": "bc0b7f89-3ef7-4c77-b1b1-72389d5b4b54",
   "metadata": {
    "tags": []
   },
   "outputs": [
    {
     "name": "stdout",
     "output_type": "stream",
     "text": [
      "bucket a    0.6\n",
      "bucket b    0.4\n",
      "dtype: float64\n"
     ]
    }
   ],
   "source": [
    "prior = posterior\n",
    "print(prior)"
   ]
  },
  {
   "cell_type": "markdown",
   "id": "5db87fb5-042b-4f23-9cf0-b6b38fc9030e",
   "metadata": {},
   "source": [
    "이러한 문제가 발생할 가능성 Liklihood는 다음과 같다:"
   ]
  },
  {
   "cell_type": "code",
   "execution_count": 15,
   "id": "8507b9d9-da28-4375-891c-3ae33c1408b9",
   "metadata": {
    "tags": []
   },
   "outputs": [],
   "source": [
    "likelihood = 3/4, 1/2"
   ]
  },
  {
   "cell_type": "markdown",
   "id": "9ce55a4e-e046-4cc9-a522-0ba905ce378b",
   "metadata": {},
   "source": [
    "정규화되지 않은 사후확률은 다음과 같다:"
   ]
  },
  {
   "cell_type": "code",
   "execution_count": 16,
   "id": "eac1f8df-7191-413f-a890-1b7c9e2df632",
   "metadata": {
    "tags": []
   },
   "outputs": [
    {
     "name": "stdout",
     "output_type": "stream",
     "text": [
      "bucket a    0.45\n",
      "bucket b    0.20\n",
      "dtype: float64\n"
     ]
    }
   ],
   "source": [
    "unnorm = prior * likelihood\n",
    "print(unnorm)"
   ]
  },
  {
   "cell_type": "markdown",
   "id": "14ac6b9a-3c0b-4b99-a3b1-47d4613015c1",
   "metadata": {},
   "source": [
    "정규화되지 않은 사후확률의 합을 구하면:"
   ]
  },
  {
   "cell_type": "code",
   "execution_count": 17,
   "id": "38dd79cd-90d8-4f73-b245-01e21ce8e2a6",
   "metadata": {
    "tags": []
   },
   "outputs": [
    {
     "data": {
      "text/plain": [
       "0.6499999999999999"
      ]
     },
     "execution_count": 17,
     "metadata": {},
     "output_type": "execute_result"
    }
   ],
   "source": [
    "prob_data = unnorm.sum()\n",
    "prob_data"
   ]
  },
  {
   "cell_type": "markdown",
   "id": "9864c1d7-1144-48ae-b5b1-83beaa622e53",
   "metadata": {},
   "source": [
    "이때 사후 확률은:"
   ]
  },
  {
   "cell_type": "code",
   "execution_count": 18,
   "id": "bea1950e-cd37-4e73-9eff-2aeef2e1fc74",
   "metadata": {
    "tags": []
   },
   "outputs": [
    {
     "name": "stdout",
     "output_type": "stream",
     "text": [
      "bucket a    0.692308\n",
      "bucket b    0.307692\n",
      "dtype: float64\n"
     ]
    }
   ],
   "source": [
    "posterior = unnorm / prob_data\n",
    "print(posterior)"
   ]
  },
  {
   "cell_type": "markdown",
   "id": "9d5d23eb-bc54-4c42-a47c-a4f15a2f936c",
   "metadata": {},
   "source": [
    "여기서 두 번째 시도에서 버킷 A의 사후 확률이 0.428571임을 알 수 있다.\n",
    "\n",
    "계산된 사후 확률이 1을 더해야 합니다. 그 이유는 매우 간단하다. 가설은 \"보완적\"이기 때문에 첫 번째 또는 두 번째 상황 중 하나만 참일 수 있고 둘 다 참일 수 없다. 정규화되지 않은 사후확률을 합산하면 사후확률은 1로만 합산된다.\n",
    "\n",
    "이번에는 문제의 복잡도를 높여서 101개의 버킷이 있고 공의 분포가 아래와 같이 주어진 점과 같다고 가정해 봅자:\n",
    "\n",
    "버킷 0에는 파란색 공이 o개 있다.\n",
    "버킷 1에는 파란색 공이 1% 있다.\n",
    "버킷 2에는 파란색 공이 2% 있다.\n",
    "\n",
    "그리고 다음까지\n",
    "버킷 99에는 파란색 공이 99% 있다.\n",
    "버킷 100에는 파란색 공이 100% 있다.\n",
    "\n",
    "이전 예제에서는 버킷의 유형이 두 가지뿐이었다. 이제 이 문제에서는 버킷 0에 100% 노란색 공이 있고 버킷 1에 99% 노란색 공이 있는 식으로 두 개의 버킷이 있다.\n",
    "\n",
    "이제 무작위로 양동이를 선택하고 공을 골랐는데 파란색으로 판명되었다고 가정해 보자. xxx의 각 값에 대해 공이 버킷 xxx 에서 나왔을 확률은 얼마일까?\n",
    "\n",
    "이 문제를 해결하기 위해 숫자의 간격이 같은 0에서 100까지의 일련의 숫자를 만들어 보자."
   ]
  },
  {
   "cell_type": "code",
   "execution_count": 19,
   "id": "850fd646-1795-4b0f-8233-a477d06f5449",
   "metadata": {
    "tags": []
   },
   "outputs": [
    {
     "data": {
      "text/plain": [
       "0.00    0.009901\n",
       "0.01    0.009901\n",
       "0.02    0.009901\n",
       "0.03    0.009901\n",
       "0.04    0.009901\n",
       "dtype: float64"
      ]
     },
     "execution_count": 19,
     "metadata": {},
     "output_type": "execute_result"
    }
   ],
   "source": [
    "xs = np.linspace(0, 1, num=101)\n",
    "prob = 1/101\n",
    "prior = pd.Series(prob, xs)\n",
    "prior.head()"
   ]
  },
  {
   "cell_type": "markdown",
   "id": "77aabfba-f587-4731-9e6a-bf5d71c398e4",
   "metadata": {},
   "source": [
    "문제가 주어지면 파란색 공의 분포를 시각화하여 예상을 확인할 수 있다."
   ]
  },
  {
   "cell_type": "code",
   "execution_count": 27,
   "id": "32066886-5d99-4ee5-9f20-24559f93a8dc",
   "metadata": {
    "tags": []
   },
   "outputs": [
    {
     "data": {
      "image/png": "[encoded data removed]",
      "text/plain": [
       "<Figure size 640x480 with 1 Axes>"
      ]
     },
     "metadata": {},
     "output_type": "display_data"
    }
   ],
   "source": [
    "prior.plot()\n",
    "plt.xlabel('Fraction of blue balls')\n",
    "plt.ylabel('Probability')\n",
    "plt.title('Prior');"
   ]
  },
  {
   "cell_type": "markdown",
   "id": "fa56f64c-7e18-47c1-9a41-d31c966f8a58",
   "metadata": {},
   "source": [
    "파란색 공의 확률은 $xs의 분포된 숫자와 같다고 할 수 있다."
   ]
  },
  {
   "cell_type": "code",
   "execution_count": 28,
   "id": "d5af3caf-9791-453a-9464-3741a1b34261",
   "metadata": {
    "tags": []
   },
   "outputs": [
    {
     "name": "stdout",
     "output_type": "stream",
     "text": [
      "[0.   0.01 0.02 0.03 0.04 0.05 0.06 0.07 0.08 0.09 0.1  0.11 0.12 0.13\n",
      " 0.14 0.15 0.16 0.17 0.18 0.19 0.2  0.21 0.22 0.23 0.24 0.25 0.26 0.27\n",
      " 0.28 0.29 0.3  0.31 0.32 0.33 0.34 0.35 0.36 0.37 0.38 0.39 0.4  0.41\n",
      " 0.42 0.43 0.44 0.45 0.46 0.47 0.48 0.49 0.5  0.51 0.52 0.53 0.54 0.55\n",
      " 0.56 0.57 0.58 0.59 0.6  0.61 0.62 0.63 0.64 0.65 0.66 0.67 0.68 0.69\n",
      " 0.7  0.71 0.72 0.73 0.74 0.75 0.76 0.77 0.78 0.79 0.8  0.81 0.82 0.83\n",
      " 0.84 0.85 0.86 0.87 0.88 0.89 0.9  0.91 0.92 0.93 0.94 0.95 0.96 0.97\n",
      " 0.98 0.99 1.  ]\n"
     ]
    }
   ],
   "source": [
    "likelihood_blue = xs\n",
    "print(likelihood_blue)"
   ]
  },
  {
   "cell_type": "markdown",
   "id": "f7458766-3845-4eef-8684-bdf08c7fa152",
   "metadata": {},
   "source": [
    "노란색 공에 대한 Liklihood 가능성이다:"
   ]
  },
  {
   "cell_type": "code",
   "execution_count": 29,
   "id": "523fbeb2-e8a8-4796-adcb-65e814aee332",
   "metadata": {
    "tags": []
   },
   "outputs": [
    {
     "name": "stdout",
     "output_type": "stream",
     "text": [
      "[1.   0.99 0.98 0.97 0.96 0.95 0.94 0.93 0.92 0.91 0.9  0.89 0.88 0.87\n",
      " 0.86 0.85 0.84 0.83 0.82 0.81 0.8  0.79 0.78 0.77 0.76 0.75 0.74 0.73\n",
      " 0.72 0.71 0.7  0.69 0.68 0.67 0.66 0.65 0.64 0.63 0.62 0.61 0.6  0.59\n",
      " 0.58 0.57 0.56 0.55 0.54 0.53 0.52 0.51 0.5  0.49 0.48 0.47 0.46 0.45\n",
      " 0.44 0.43 0.42 0.41 0.4  0.39 0.38 0.37 0.36 0.35 0.34 0.33 0.32 0.31\n",
      " 0.3  0.29 0.28 0.27 0.26 0.25 0.24 0.23 0.22 0.21 0.2  0.19 0.18 0.17\n",
      " 0.16 0.15 0.14 0.13 0.12 0.11 0.1  0.09 0.08 0.07 0.06 0.05 0.04 0.03\n",
      " 0.02 0.01 0.  ]\n"
     ]
    }
   ],
   "source": [
    "likelihood_yellow = 1-xs\n",
    "print(likelihood_yellow)"
   ]
  },
  {
   "cell_type": "markdown",
   "id": "1d49f9b2-1fba-4c48-b783-1a5c1d62af8b",
   "metadata": {
    "tags": []
   },
   "source": [
    "이 상황에 대한 정규화되지 않은 사후확률은은 다음과 같다:"
   ]
  },
  {
   "cell_type": "code",
   "execution_count": 30,
   "id": "e66d4a81-a41b-446b-98ca-8ef494d4bc45",
   "metadata": {
    "tags": []
   },
   "outputs": [
    {
     "name": "stdout",
     "output_type": "stream",
     "text": [
      "0.00    0.000000\n",
      "0.01    0.000099\n",
      "0.02    0.000198\n",
      "0.03    0.000297\n",
      "0.04    0.000396\n",
      "          ...   \n",
      "0.96    0.009505\n",
      "0.97    0.009604\n",
      "0.98    0.009703\n",
      "0.99    0.009802\n",
      "1.00    0.009901\n",
      "Length: 101, dtype: float64\n"
     ]
    }
   ],
   "source": [
    "unnorm = prior * likelihood_blue\n",
    "print(unnorm)"
   ]
  },
  {
   "cell_type": "markdown",
   "id": "f5bf5d1b-f2ef-4e47-8a8e-aebd94ef1fa5",
   "metadata": {},
   "source": [
    "그리고 파란색 공을 고르는 사후확률은은 다음과 같다:"
   ]
  },
  {
   "cell_type": "code",
   "execution_count": 31,
   "id": "edd52d82-f54f-44ed-9b66-8e78f00c834c",
   "metadata": {
    "tags": []
   },
   "outputs": [],
   "source": [
    "posterior = unnorm / unnorm.sum()"
   ]
  },
  {
   "cell_type": "markdown",
   "id": "290ebcee-7a04-4e55-a4b7-9d8eb3d6c1d7",
   "metadata": {},
   "source": [
    "파란 공 쿠키의 사후확률은 버킷 xxx 에서 가져온 것으로, xxx의 각 값은 다음과 같다:"
   ]
  },
  {
   "cell_type": "code",
   "execution_count": 32,
   "id": "ef1bd6fe-bcd5-4cd6-bc60-806780b9ff3b",
   "metadata": {
    "tags": []
   },
   "outputs": [
    {
     "data": {
      "image/png": "[encoded data removed]",
      "text/plain": [
       "<Figure size 640x480 with 1 Axes>"
      ]
     },
     "metadata": {},
     "output_type": "display_data"
    }
   ],
   "source": [
    "posterior.plot()\n",
    "\n",
    "plt.xlabel('Fraction of blue balls')\n",
    "plt.ylabel('Probability')\n",
    "plt.title('Posterior, one blue ball');"
   ]
  },
  {
   "cell_type": "markdown",
   "id": "df7737d5-a26f-4338-9d0d-3450b07e5d06",
   "metadata": {},
   "source": [
    "다시 같은 방법으로 공을 다시 넣고 같은 양동이에서 공을 골라 이제 파란색 공을 가져온다. 사후확률은 어떻게 될까?\n",
    "\n",
    "여기서도 위의 문제에서 후자가 아래 절차의 전자가 될 것이라고 말할 수 있다:"
   ]
  },
  {
   "cell_type": "code",
   "execution_count": 33,
   "id": "517f5e23-aa46-4656-b875-702cf9cd197a",
   "metadata": {
    "tags": []
   },
   "outputs": [],
   "source": [
    "prior = posterior\n",
    "unnorm = prior * likelihood_blue\n",
    "posterior = unnorm / unnorm.sum()"
   ]
  },
  {
   "cell_type": "markdown",
   "id": "1bfb664c-878d-43b3-a7c0-8da1132d1585",
   "metadata": {},
   "source": [
    "사후확률 시각화하기"
   ]
  },
  {
   "cell_type": "code",
   "execution_count": 34,
   "id": "99c92e02-c0cf-4470-918a-f1be65ccf9c7",
   "metadata": {
    "tags": []
   },
   "outputs": [
    {
     "data": {
      "image/png": "[encoded data removed]",
      "text/plain": [
       "<Figure size 640x480 with 1 Axes>"
      ]
     },
     "metadata": {},
     "output_type": "display_data"
    }
   ],
   "source": [
    "posterior.plot()\n",
    "plt.xlabel('Fraction of blue balls')\n",
    "plt.ylabel('Probability')\n",
    "plt.title('Posterior, two blue ball');"
   ]
  },
  {
   "cell_type": "markdown",
   "id": "3ac6681a-1cc9-48c1-ba5e-670a539df22f",
   "metadata": {},
   "source": [
    "이제 공을 다시 양동이에 넣고 다시 공을 골라 노란색 공을 얻었다고 가정해 보자. 이제 이후의 확률은 어떻게 될까?"
   ]
  },
  {
   "cell_type": "code",
   "execution_count": 35,
   "id": "67057b68-3a52-4812-87f5-ac92fe65e6e0",
   "metadata": {
    "tags": []
   },
   "outputs": [],
   "source": [
    "prior = posterior\n",
    "unnorm = prior * likelihood_yellow\n",
    "posterior = unnorm / unnorm.sum()"
   ]
  },
  {
   "cell_type": "markdown",
   "id": "a45c2639-a9c7-46b6-9b65-956b1474834f",
   "metadata": {},
   "source": [
    "Plotting the posterior:"
   ]
  },
  {
   "cell_type": "code",
   "execution_count": 36,
   "id": "bcfacf2d-7fc8-41ea-aa81-efc2439006b6",
   "metadata": {
    "tags": []
   },
   "outputs": [
    {
     "data": {
      "image/png": "[encoded data removed]",
      "text/plain": [
       "<Figure size 640x480 with 1 Axes>"
      ]
     },
     "metadata": {},
     "output_type": "display_data"
    }
   ],
   "source": [
    "posterior.plot()\n",
    "plt.xlabel('Fraction of yellow ball')\n",
    "plt.ylabel('Probability')\n",
    "plt.title('Posterior, two blue ball, one yellow ball');"
   ]
  },
  {
   "cell_type": "markdown",
   "id": "1272ca8e-042d-48f0-bcfa-8fa63b08a36c",
   "metadata": {},
   "source": [
    "여기서 노란색 공이 나오는 상황에 대한 사후확률을 파악할 수 있다."
   ]
  },
  {
   "cell_type": "code",
   "execution_count": null,
   "id": "361b3e99-504f-4c84-810a-b3dc190ad991",
   "metadata": {},
   "outputs": [],
   "source": []
  }
 ],
 "metadata": {
  "kernelspec": {
   "display_name": "lecture",
   "language": "python",
   "name": "lecture"
  },
  "language_info": {
   "codemirror_mode": {
    "name": "ipython",
    "version": 3
   },
   "file_extension": ".py",
   "mimetype": "text/x-python",
   "name": "python",
   "nbconvert_exporter": "python",
   "pygments_lexer": "ipython3",
   "version": "3.11.7"
  }
 },
 "nbformat": 4,
 "nbformat_minor": 5
}
